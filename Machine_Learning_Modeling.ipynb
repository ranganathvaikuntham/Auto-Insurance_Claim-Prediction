{
 "cells": [
  {
   "cell_type": "markdown",
   "id": "pointed-isolation",
   "metadata": {},
   "source": [
    "# Structure of the notebook"
   ]
  },
  {
   "cell_type": "markdown",
   "id": "realistic-exclusion",
   "metadata": {},
   "source": [
    "The notebook will be divided into the following sections:\n",
    "\n",
    "    0. Preparing the data for training the machine learning models\n",
    "    \n",
    "    1. Fitting machine learning models on the training data\n",
    "\n",
    "    2. Applying the learned models to the test data \n",
    "    \n",
    "    3. Suggestions for next steps/improvements."
   ]
  },
  {
   "cell_type": "markdown",
   "id": "primary-bride",
   "metadata": {},
   "source": [
    "## Preparing the data for training the machine learning models"
   ]
  },
  {
   "cell_type": "markdown",
   "id": "unable-territory",
   "metadata": {},
   "source": [
    "Let us perform our modeling with the cleaned dataset we generated from the 'Preliminary-processing' notebook.\n",
    " \n",
    "We are avoiding a manually feature extracted dataset because the logic is that we could be losing important information in the process of doing so."
   ]
  },
  {
   "cell_type": "markdown",
   "id": "direct-vegetarian",
   "metadata": {},
   "source": [
    "### Extract the data and load it"
   ]
  },
  {
   "cell_type": "code",
   "execution_count": 21,
   "id": "occupied-doctrine",
   "metadata": {},
   "outputs": [],
   "source": [
    "# first import all necessary libraries\n",
    "import itertools\n",
    "import pandas as pd\n",
    "import seaborn as sns\n",
    "import matplotlib.pyplot as plt\n",
    "import sklearn\n"
   ]
  },
  {
   "cell_type": "code",
   "execution_count": 4,
   "id": "impaired-montana",
   "metadata": {},
   "outputs": [
    {
     "data": {
      "text/plain": [
       "(6045, 24)"
      ]
     },
     "execution_count": 4,
     "metadata": {},
     "output_type": "execute_result"
    }
   ],
   "source": [
    "# Read the cleaned data\n",
    "df_train = pd.read_csv(\"train_cleaned.csv\")\n",
    "df_train.head()\n",
    "df_train.shape\n"
   ]
  },
  {
   "cell_type": "code",
   "execution_count": 5,
   "id": "aging-brunei",
   "metadata": {},
   "outputs": [
    {
     "name": "stdout",
     "output_type": "stream",
     "text": [
      "The shape of the original dataframe is: (6045, 24) \n",
      "The shape of the x dataframe is: (6045, 23) \n",
      "The shape of the y dataframe is: (6045,) \n"
     ]
    }
   ],
   "source": [
    "# Generating the X and Y (target) matrices from df_train \n",
    "y_train = df_train['TARGET_FLAG']\n",
    "x_train = df_train.drop(['TARGET_FLAG'], axis=1)\n",
    "\n",
    "# Check shapes \n",
    "print(f\"The shape of the original dataframe is: {df_train.shape} \")\n",
    "print(f\"The shape of the x dataframe is: {x_train.shape} \")\n",
    "print(f\"The shape of the y dataframe is: {y_train.shape} \")"
   ]
  },
  {
   "cell_type": "code",
   "execution_count": 6,
   "id": "proud-treasurer",
   "metadata": {
    "scrolled": false
   },
   "outputs": [
    {
     "data": {
      "text/html": [
       "<div>\n",
       "<style scoped>\n",
       "    .dataframe tbody tr th:only-of-type {\n",
       "        vertical-align: middle;\n",
       "    }\n",
       "\n",
       "    .dataframe tbody tr th {\n",
       "        vertical-align: top;\n",
       "    }\n",
       "\n",
       "    .dataframe thead th {\n",
       "        text-align: right;\n",
       "    }\n",
       "</style>\n",
       "<table border=\"1\" class=\"dataframe\">\n",
       "  <thead>\n",
       "    <tr style=\"text-align: right;\">\n",
       "      <th></th>\n",
       "      <th>PARENT1</th>\n",
       "      <th>MSTATUS</th>\n",
       "      <th>SEX</th>\n",
       "      <th>EDUCATION</th>\n",
       "      <th>JOB</th>\n",
       "      <th>CAR_USE</th>\n",
       "      <th>CAR_TYPE</th>\n",
       "      <th>RED_CAR</th>\n",
       "      <th>REVOKED</th>\n",
       "      <th>URBANICITY</th>\n",
       "      <th>...</th>\n",
       "      <th>YOJ</th>\n",
       "      <th>TRAVTIME</th>\n",
       "      <th>TIF</th>\n",
       "      <th>CLM_FREQ</th>\n",
       "      <th>MVR_PTS</th>\n",
       "      <th>CAR_AGE</th>\n",
       "      <th>INCOME</th>\n",
       "      <th>HOME_VAL</th>\n",
       "      <th>BLUEBOOK</th>\n",
       "      <th>OLDCLAIM</th>\n",
       "    </tr>\n",
       "  </thead>\n",
       "  <tbody>\n",
       "    <tr>\n",
       "      <th>0</th>\n",
       "      <td>No</td>\n",
       "      <td>z_No</td>\n",
       "      <td>M</td>\n",
       "      <td>PhD</td>\n",
       "      <td>Professional</td>\n",
       "      <td>Private</td>\n",
       "      <td>Minivan</td>\n",
       "      <td>yes</td>\n",
       "      <td>No</td>\n",
       "      <td>Highly Urban/ Urban</td>\n",
       "      <td>...</td>\n",
       "      <td>11.0</td>\n",
       "      <td>14</td>\n",
       "      <td>11</td>\n",
       "      <td>2</td>\n",
       "      <td>3</td>\n",
       "      <td>18.0</td>\n",
       "      <td>67349.0</td>\n",
       "      <td>0.0</td>\n",
       "      <td>14230.0</td>\n",
       "      <td>4461.0</td>\n",
       "    </tr>\n",
       "    <tr>\n",
       "      <th>1</th>\n",
       "      <td>No</td>\n",
       "      <td>z_No</td>\n",
       "      <td>M</td>\n",
       "      <td>z_High School</td>\n",
       "      <td>z_Blue Collar</td>\n",
       "      <td>Commercial</td>\n",
       "      <td>Minivan</td>\n",
       "      <td>yes</td>\n",
       "      <td>No</td>\n",
       "      <td>Highly Urban/ Urban</td>\n",
       "      <td>...</td>\n",
       "      <td>11.0</td>\n",
       "      <td>22</td>\n",
       "      <td>1</td>\n",
       "      <td>0</td>\n",
       "      <td>0</td>\n",
       "      <td>1.0</td>\n",
       "      <td>91449.0</td>\n",
       "      <td>257252.0</td>\n",
       "      <td>14940.0</td>\n",
       "      <td>0.0</td>\n",
       "    </tr>\n",
       "    <tr>\n",
       "      <th>2</th>\n",
       "      <td>No</td>\n",
       "      <td>Yes</td>\n",
       "      <td>z_F</td>\n",
       "      <td>z_High School</td>\n",
       "      <td>Clerical</td>\n",
       "      <td>Private</td>\n",
       "      <td>z_SUV</td>\n",
       "      <td>no</td>\n",
       "      <td>No</td>\n",
       "      <td>Highly Urban/ Urban</td>\n",
       "      <td>...</td>\n",
       "      <td>10.0</td>\n",
       "      <td>5</td>\n",
       "      <td>4</td>\n",
       "      <td>2</td>\n",
       "      <td>3</td>\n",
       "      <td>10.0</td>\n",
       "      <td>16039.0</td>\n",
       "      <td>124191.0</td>\n",
       "      <td>4010.0</td>\n",
       "      <td>38690.0</td>\n",
       "    </tr>\n",
       "    <tr>\n",
       "      <th>3</th>\n",
       "      <td>Yes</td>\n",
       "      <td>z_No</td>\n",
       "      <td>z_F</td>\n",
       "      <td>Bachelors</td>\n",
       "      <td>z_Blue Collar</td>\n",
       "      <td>Commercial</td>\n",
       "      <td>Sports Car</td>\n",
       "      <td>no</td>\n",
       "      <td>No</td>\n",
       "      <td>Highly Urban/ Urban</td>\n",
       "      <td>...</td>\n",
       "      <td>12.0</td>\n",
       "      <td>46</td>\n",
       "      <td>1</td>\n",
       "      <td>0</td>\n",
       "      <td>0</td>\n",
       "      <td>7.0</td>\n",
       "      <td>125301.0</td>\n",
       "      <td>0.0</td>\n",
       "      <td>17430.0</td>\n",
       "      <td>0.0</td>\n",
       "    </tr>\n",
       "    <tr>\n",
       "      <th>4</th>\n",
       "      <td>No</td>\n",
       "      <td>z_No</td>\n",
       "      <td>z_F</td>\n",
       "      <td>Bachelors</td>\n",
       "      <td>Clerical</td>\n",
       "      <td>Private</td>\n",
       "      <td>z_SUV</td>\n",
       "      <td>no</td>\n",
       "      <td>No</td>\n",
       "      <td>Highly Urban/ Urban</td>\n",
       "      <td>...</td>\n",
       "      <td>10.0</td>\n",
       "      <td>34</td>\n",
       "      <td>1</td>\n",
       "      <td>0</td>\n",
       "      <td>0</td>\n",
       "      <td>1.0</td>\n",
       "      <td>62978.0</td>\n",
       "      <td>0.0</td>\n",
       "      <td>11200.0</td>\n",
       "      <td>0.0</td>\n",
       "    </tr>\n",
       "  </tbody>\n",
       "</table>\n",
       "<p>5 rows × 23 columns</p>\n",
       "</div>"
      ],
      "text/plain": [
       "  PARENT1 MSTATUS  SEX      EDUCATION            JOB     CAR_USE    CAR_TYPE  \\\n",
       "0      No    z_No    M            PhD   Professional     Private     Minivan   \n",
       "1      No    z_No    M  z_High School  z_Blue Collar  Commercial     Minivan   \n",
       "2      No     Yes  z_F  z_High School       Clerical     Private       z_SUV   \n",
       "3     Yes    z_No  z_F      Bachelors  z_Blue Collar  Commercial  Sports Car   \n",
       "4      No    z_No  z_F      Bachelors       Clerical     Private       z_SUV   \n",
       "\n",
       "  RED_CAR REVOKED           URBANICITY  ...   YOJ  TRAVTIME  TIF  CLM_FREQ  \\\n",
       "0     yes      No  Highly Urban/ Urban  ...  11.0        14   11         2   \n",
       "1     yes      No  Highly Urban/ Urban  ...  11.0        22    1         0   \n",
       "2      no      No  Highly Urban/ Urban  ...  10.0         5    4         2   \n",
       "3      no      No  Highly Urban/ Urban  ...  12.0        46    1         0   \n",
       "4      no      No  Highly Urban/ Urban  ...  10.0        34    1         0   \n",
       "\n",
       "   MVR_PTS  CAR_AGE    INCOME  HOME_VAL  BLUEBOOK  OLDCLAIM  \n",
       "0        3     18.0   67349.0       0.0   14230.0    4461.0  \n",
       "1        0      1.0   91449.0  257252.0   14940.0       0.0  \n",
       "2        3     10.0   16039.0  124191.0    4010.0   38690.0  \n",
       "3        0      7.0  125301.0       0.0   17430.0       0.0  \n",
       "4        0      1.0   62978.0       0.0   11200.0       0.0  \n",
       "\n",
       "[5 rows x 23 columns]"
      ]
     },
     "execution_count": 6,
     "metadata": {},
     "output_type": "execute_result"
    }
   ],
   "source": [
    "x_train.head() # check first few colomns of training X"
   ]
  },
  {
   "cell_type": "code",
   "execution_count": 7,
   "id": "unsigned-intranet",
   "metadata": {},
   "outputs": [
    {
     "data": {
      "text/plain": [
       "0    0\n",
       "1    0\n",
       "2    0\n",
       "3    1\n",
       "4    1\n",
       "Name: TARGET_FLAG, dtype: int64"
      ]
     },
     "execution_count": 7,
     "metadata": {},
     "output_type": "execute_result"
    }
   ],
   "source": [
    "y_train.head() # check first few colomns of training target Y "
   ]
  },
  {
   "cell_type": "markdown",
   "id": "involved-yemen",
   "metadata": {},
   "source": [
    "### Check the distribution of the target\n"
   ]
  },
  {
   "cell_type": "code",
   "execution_count": 93,
   "id": "upset-banks",
   "metadata": {},
   "outputs": [
    {
     "data": {
      "image/png": "[encoded data removed]",
      "text/plain": [
       "<Figure size 432x288 with 1 Axes>"
      ]
     },
     "metadata": {
      "needs_background": "light"
     },
     "output_type": "display_data"
    }
   ],
   "source": [
    "y_train.value_counts().plot(kind='bar', rot=0)\n",
    "plt.title('Unbalanced dataset with {:0f} % of positive label'.format(100*y_train.mean()))\n",
    "plt.show()"
   ]
  },
  {
   "cell_type": "markdown",
   "id": "dirty-heater",
   "metadata": {},
   "source": [
    "We have a slight imbalance in the class labels, this is kept in mind as we proceed with the next steps.\n",
    "\n",
    "Now that we have constructed the X and Y dataframes let us proceed with encoding the categorical variables."
   ]
  },
  {
   "cell_type": "markdown",
   "id": "weird-spelling",
   "metadata": {},
   "source": [
    "### Encoding the categorical variables"
   ]
  },
  {
   "cell_type": "markdown",
   "id": "secure-broad",
   "metadata": {},
   "source": [
    "Machine learning algorithms do not understand strings as input. Thus we need to convert our categorical variables to numerical quantities. This process is called as encoding."
   ]
  },
  {
   "cell_type": "code",
   "execution_count": 9,
   "id": "greek-tradition",
   "metadata": {},
   "outputs": [
    {
     "data": {
      "text/plain": [
       "PARENT1       2\n",
       "MSTATUS       2\n",
       "SEX           2\n",
       "EDUCATION     5\n",
       "JOB           8\n",
       "CAR_USE       2\n",
       "CAR_TYPE      6\n",
       "RED_CAR       2\n",
       "REVOKED       2\n",
       "URBANICITY    2\n",
       "dtype: int64"
      ]
     },
     "execution_count": 9,
     "metadata": {},
     "output_type": "execute_result"
    }
   ],
   "source": [
    "# Note: we have avoided encoding the categorical variables till now so we could process and explore the data better.\n",
    "# To proceed to modelling we need to encode them\n",
    "\n",
    "# Categorical variables (target is treated seperately)\n",
    "cats = ['PARENT1', 'MSTATUS', 'SEX', 'EDUCATION', 'JOB', 'CAR_USE', 'CAR_TYPE', 'RED_CAR', 'REVOKED', 'URBANICITY']\n",
    "#nums = list(df.select_dtypes(exclude=['object']).columns)\n",
    "\n",
    "# Good practice to group the categorical and numerical variables\n",
    "# They are already grouped in the cleaned dataset due to the preprocessing we performed\n",
    "\n",
    "# Extract all the categorical variables to another dataframe to treat them\n",
    "x_train_cat = x_train[cats]\n",
    "\n",
    "# Check dimensions of each categorical column (number of unique values)\n",
    "\n",
    "# let's inspect how many unique values are there in each column.\n",
    "x_train_cat.nunique(axis=0)\n"
   ]
  },
  {
   "cell_type": "code",
   "execution_count": 10,
   "id": "lucky-layer",
   "metadata": {},
   "outputs": [
    {
     "name": "stdout",
     "output_type": "stream",
     "text": [
      "['No' 'Yes']\n",
      "['z_No' 'Yes']\n",
      "['M' 'z_F']\n",
      "['PhD' 'z_High School' 'Bachelors' 'Masters' '<High School']\n",
      "['Professional' 'z_Blue Collar' 'Clerical' 'Lawyer' 'Manager' 'Home Maker'\n",
      " 'Doctor' 'Student']\n",
      "['Private' 'Commercial']\n",
      "['Minivan' 'z_SUV' 'Sports Car' 'Van' 'Pickup' 'Panel Truck']\n",
      "['yes' 'no']\n",
      "['No' 'Yes']\n",
      "['Highly Urban/ Urban' 'z_Highly Rural/ Rural']\n"
     ]
    }
   ],
   "source": [
    "for col in x_train_cat:\n",
    "    print(x_train_cat[col].unique())"
   ]
  },
  {
   "cell_type": "markdown",
   "id": "characteristic-therapist",
   "metadata": {},
   "source": [
    "The above two cells should help us choose the encoding we will proceed with."
   ]
  },
  {
   "cell_type": "markdown",
   "id": "direct-oklahoma",
   "metadata": {},
   "source": [
    "We see that each categorical variable is nominal and there is no presence of order.\n",
    "Thus we should choose an encoding which is not ordinal in output.\n",
    "\n",
    "For all the categorical variables the number of categories is less than 10 (heurestic threshold).\n",
    "Hence, since it is not too large and let us try one-hot encoding for the first modelling process.\n",
    "\n",
    "Later,if needed we can choose a much more complex encoding (dummy encoding for ex.) and check if it improved our result."
   ]
  },
  {
   "cell_type": "code",
   "execution_count": 11,
   "id": "smoking-arlington",
   "metadata": {},
   "outputs": [
    {
     "name": "stdout",
     "output_type": "stream",
     "text": [
      "(6045, 10)\n",
      "(6045, 33)\n"
     ]
    }
   ],
   "source": [
    "#### One hot-encoding the categorical variables\n",
    "\n",
    "from sklearn.preprocessing import OneHotEncoder\n",
    "\n",
    "print(x_train_cat.shape)\n",
    "enc = OneHotEncoder()\n",
    "enc.fit(x_train_cat) ## perform fit then transform to reuse transform\n",
    "\n",
    "#print(enc.categories_)\n",
    "\n",
    "x_train_cat_one_hot_matrix =  enc.transform(x_train_cat).toarray()\n",
    "print(x_train_cat_one_hot_matrix.shape)"
   ]
  },
  {
   "cell_type": "code",
   "execution_count": 12,
   "id": "reasonable-celtic",
   "metadata": {},
   "outputs": [
    {
     "name": "stdout",
     "output_type": "stream",
     "text": [
      "<class 'pandas.core.frame.DataFrame'>\n",
      "(6045, 33)\n"
     ]
    },
    {
     "data": {
      "text/html": [
       "<div>\n",
       "<style scoped>\n",
       "    .dataframe tbody tr th:only-of-type {\n",
       "        vertical-align: middle;\n",
       "    }\n",
       "\n",
       "    .dataframe tbody tr th {\n",
       "        vertical-align: top;\n",
       "    }\n",
       "\n",
       "    .dataframe thead th {\n",
       "        text-align: right;\n",
       "    }\n",
       "</style>\n",
       "<table border=\"1\" class=\"dataframe\">\n",
       "  <thead>\n",
       "    <tr style=\"text-align: right;\">\n",
       "      <th></th>\n",
       "      <th>0</th>\n",
       "      <th>1</th>\n",
       "      <th>2</th>\n",
       "      <th>3</th>\n",
       "      <th>4</th>\n",
       "      <th>5</th>\n",
       "      <th>6</th>\n",
       "      <th>7</th>\n",
       "      <th>8</th>\n",
       "      <th>9</th>\n",
       "      <th>...</th>\n",
       "      <th>23</th>\n",
       "      <th>24</th>\n",
       "      <th>25</th>\n",
       "      <th>26</th>\n",
       "      <th>27</th>\n",
       "      <th>28</th>\n",
       "      <th>29</th>\n",
       "      <th>30</th>\n",
       "      <th>31</th>\n",
       "      <th>32</th>\n",
       "    </tr>\n",
       "  </thead>\n",
       "  <tbody>\n",
       "    <tr>\n",
       "      <th>0</th>\n",
       "      <td>1.0</td>\n",
       "      <td>0.0</td>\n",
       "      <td>0.0</td>\n",
       "      <td>1.0</td>\n",
       "      <td>1.0</td>\n",
       "      <td>0.0</td>\n",
       "      <td>0.0</td>\n",
       "      <td>0.0</td>\n",
       "      <td>0.0</td>\n",
       "      <td>1.0</td>\n",
       "      <td>...</td>\n",
       "      <td>0.0</td>\n",
       "      <td>0.0</td>\n",
       "      <td>0.0</td>\n",
       "      <td>0.0</td>\n",
       "      <td>0.0</td>\n",
       "      <td>1.0</td>\n",
       "      <td>1.0</td>\n",
       "      <td>0.0</td>\n",
       "      <td>1.0</td>\n",
       "      <td>0.0</td>\n",
       "    </tr>\n",
       "    <tr>\n",
       "      <th>1</th>\n",
       "      <td>1.0</td>\n",
       "      <td>0.0</td>\n",
       "      <td>0.0</td>\n",
       "      <td>1.0</td>\n",
       "      <td>1.0</td>\n",
       "      <td>0.0</td>\n",
       "      <td>0.0</td>\n",
       "      <td>0.0</td>\n",
       "      <td>0.0</td>\n",
       "      <td>0.0</td>\n",
       "      <td>...</td>\n",
       "      <td>0.0</td>\n",
       "      <td>0.0</td>\n",
       "      <td>0.0</td>\n",
       "      <td>0.0</td>\n",
       "      <td>0.0</td>\n",
       "      <td>1.0</td>\n",
       "      <td>1.0</td>\n",
       "      <td>0.0</td>\n",
       "      <td>1.0</td>\n",
       "      <td>0.0</td>\n",
       "    </tr>\n",
       "    <tr>\n",
       "      <th>2</th>\n",
       "      <td>1.0</td>\n",
       "      <td>0.0</td>\n",
       "      <td>1.0</td>\n",
       "      <td>0.0</td>\n",
       "      <td>0.0</td>\n",
       "      <td>1.0</td>\n",
       "      <td>0.0</td>\n",
       "      <td>0.0</td>\n",
       "      <td>0.0</td>\n",
       "      <td>0.0</td>\n",
       "      <td>...</td>\n",
       "      <td>0.0</td>\n",
       "      <td>0.0</td>\n",
       "      <td>0.0</td>\n",
       "      <td>1.0</td>\n",
       "      <td>1.0</td>\n",
       "      <td>0.0</td>\n",
       "      <td>1.0</td>\n",
       "      <td>0.0</td>\n",
       "      <td>1.0</td>\n",
       "      <td>0.0</td>\n",
       "    </tr>\n",
       "    <tr>\n",
       "      <th>3</th>\n",
       "      <td>0.0</td>\n",
       "      <td>1.0</td>\n",
       "      <td>0.0</td>\n",
       "      <td>1.0</td>\n",
       "      <td>0.0</td>\n",
       "      <td>1.0</td>\n",
       "      <td>0.0</td>\n",
       "      <td>1.0</td>\n",
       "      <td>0.0</td>\n",
       "      <td>0.0</td>\n",
       "      <td>...</td>\n",
       "      <td>0.0</td>\n",
       "      <td>1.0</td>\n",
       "      <td>0.0</td>\n",
       "      <td>0.0</td>\n",
       "      <td>1.0</td>\n",
       "      <td>0.0</td>\n",
       "      <td>1.0</td>\n",
       "      <td>0.0</td>\n",
       "      <td>1.0</td>\n",
       "      <td>0.0</td>\n",
       "    </tr>\n",
       "    <tr>\n",
       "      <th>4</th>\n",
       "      <td>1.0</td>\n",
       "      <td>0.0</td>\n",
       "      <td>0.0</td>\n",
       "      <td>1.0</td>\n",
       "      <td>0.0</td>\n",
       "      <td>1.0</td>\n",
       "      <td>0.0</td>\n",
       "      <td>1.0</td>\n",
       "      <td>0.0</td>\n",
       "      <td>0.0</td>\n",
       "      <td>...</td>\n",
       "      <td>0.0</td>\n",
       "      <td>0.0</td>\n",
       "      <td>0.0</td>\n",
       "      <td>1.0</td>\n",
       "      <td>1.0</td>\n",
       "      <td>0.0</td>\n",
       "      <td>1.0</td>\n",
       "      <td>0.0</td>\n",
       "      <td>1.0</td>\n",
       "      <td>0.0</td>\n",
       "    </tr>\n",
       "  </tbody>\n",
       "</table>\n",
       "<p>5 rows × 33 columns</p>\n",
       "</div>"
      ],
      "text/plain": [
       "    0    1    2    3    4    5    6    7    8    9   ...   23   24   25   26  \\\n",
       "0  1.0  0.0  0.0  1.0  1.0  0.0  0.0  0.0  0.0  1.0  ...  0.0  0.0  0.0  0.0   \n",
       "1  1.0  0.0  0.0  1.0  1.0  0.0  0.0  0.0  0.0  0.0  ...  0.0  0.0  0.0  0.0   \n",
       "2  1.0  0.0  1.0  0.0  0.0  1.0  0.0  0.0  0.0  0.0  ...  0.0  0.0  0.0  1.0   \n",
       "3  0.0  1.0  0.0  1.0  0.0  1.0  0.0  1.0  0.0  0.0  ...  0.0  1.0  0.0  0.0   \n",
       "4  1.0  0.0  0.0  1.0  0.0  1.0  0.0  1.0  0.0  0.0  ...  0.0  0.0  0.0  1.0   \n",
       "\n",
       "    27   28   29   30   31   32  \n",
       "0  0.0  1.0  1.0  0.0  1.0  0.0  \n",
       "1  0.0  1.0  1.0  0.0  1.0  0.0  \n",
       "2  1.0  0.0  1.0  0.0  1.0  0.0  \n",
       "3  1.0  0.0  1.0  0.0  1.0  0.0  \n",
       "4  1.0  0.0  1.0  0.0  1.0  0.0  \n",
       "\n",
       "[5 rows x 33 columns]"
      ]
     },
     "execution_count": 12,
     "metadata": {},
     "output_type": "execute_result"
    }
   ],
   "source": [
    "x_train_cat_one_hot = pd.DataFrame(data=x_train_cat_one_hot_matrix)\n",
    "\n",
    "print(type(x_train_cat_one_hot ))\n",
    "print(x_train_cat_one_hot.shape)\n",
    "\n",
    "x_train_cat_one_hot.head()\n"
   ]
  },
  {
   "cell_type": "code",
   "execution_count": 13,
   "id": "preceding-sharing",
   "metadata": {},
   "outputs": [
    {
     "data": {
      "text/plain": [
       "(6045, 46)"
      ]
     },
     "execution_count": 13,
     "metadata": {},
     "output_type": "execute_result"
    }
   ],
   "source": [
    "# We have encoded our categorical variables, now we need to replace the existing colomns with this.\n",
    "\n",
    "#x_train[cats] = x_train_cat_one_hot\n",
    "\n",
    "x_train = pd.concat([x_train, x_train_cat_one_hot], axis=1).drop(cats, axis=1)\n",
    "\n",
    "x_train.shape\n"
   ]
  },
  {
   "cell_type": "code",
   "execution_count": 14,
   "id": "crude-asset",
   "metadata": {},
   "outputs": [
    {
     "data": {
      "text/html": [
       "<div>\n",
       "<style scoped>\n",
       "    .dataframe tbody tr th:only-of-type {\n",
       "        vertical-align: middle;\n",
       "    }\n",
       "\n",
       "    .dataframe tbody tr th {\n",
       "        vertical-align: top;\n",
       "    }\n",
       "\n",
       "    .dataframe thead th {\n",
       "        text-align: right;\n",
       "    }\n",
       "</style>\n",
       "<table border=\"1\" class=\"dataframe\">\n",
       "  <thead>\n",
       "    <tr style=\"text-align: right;\">\n",
       "      <th></th>\n",
       "      <th>KIDSDRIV</th>\n",
       "      <th>AGE</th>\n",
       "      <th>HOMEKIDS</th>\n",
       "      <th>YOJ</th>\n",
       "      <th>TRAVTIME</th>\n",
       "      <th>TIF</th>\n",
       "      <th>CLM_FREQ</th>\n",
       "      <th>MVR_PTS</th>\n",
       "      <th>CAR_AGE</th>\n",
       "      <th>INCOME</th>\n",
       "      <th>...</th>\n",
       "      <th>23</th>\n",
       "      <th>24</th>\n",
       "      <th>25</th>\n",
       "      <th>26</th>\n",
       "      <th>27</th>\n",
       "      <th>28</th>\n",
       "      <th>29</th>\n",
       "      <th>30</th>\n",
       "      <th>31</th>\n",
       "      <th>32</th>\n",
       "    </tr>\n",
       "  </thead>\n",
       "  <tbody>\n",
       "    <tr>\n",
       "      <th>0</th>\n",
       "      <td>0</td>\n",
       "      <td>60.0</td>\n",
       "      <td>0</td>\n",
       "      <td>11.0</td>\n",
       "      <td>14</td>\n",
       "      <td>11</td>\n",
       "      <td>2</td>\n",
       "      <td>3</td>\n",
       "      <td>18.0</td>\n",
       "      <td>67349.0</td>\n",
       "      <td>...</td>\n",
       "      <td>0.0</td>\n",
       "      <td>0.0</td>\n",
       "      <td>0.0</td>\n",
       "      <td>0.0</td>\n",
       "      <td>0.0</td>\n",
       "      <td>1.0</td>\n",
       "      <td>1.0</td>\n",
       "      <td>0.0</td>\n",
       "      <td>1.0</td>\n",
       "      <td>0.0</td>\n",
       "    </tr>\n",
       "    <tr>\n",
       "      <th>1</th>\n",
       "      <td>0</td>\n",
       "      <td>43.0</td>\n",
       "      <td>0</td>\n",
       "      <td>11.0</td>\n",
       "      <td>22</td>\n",
       "      <td>1</td>\n",
       "      <td>0</td>\n",
       "      <td>0</td>\n",
       "      <td>1.0</td>\n",
       "      <td>91449.0</td>\n",
       "      <td>...</td>\n",
       "      <td>0.0</td>\n",
       "      <td>0.0</td>\n",
       "      <td>0.0</td>\n",
       "      <td>0.0</td>\n",
       "      <td>0.0</td>\n",
       "      <td>1.0</td>\n",
       "      <td>1.0</td>\n",
       "      <td>0.0</td>\n",
       "      <td>1.0</td>\n",
       "      <td>0.0</td>\n",
       "    </tr>\n",
       "    <tr>\n",
       "      <th>2</th>\n",
       "      <td>0</td>\n",
       "      <td>35.0</td>\n",
       "      <td>1</td>\n",
       "      <td>10.0</td>\n",
       "      <td>5</td>\n",
       "      <td>4</td>\n",
       "      <td>2</td>\n",
       "      <td>3</td>\n",
       "      <td>10.0</td>\n",
       "      <td>16039.0</td>\n",
       "      <td>...</td>\n",
       "      <td>0.0</td>\n",
       "      <td>0.0</td>\n",
       "      <td>0.0</td>\n",
       "      <td>1.0</td>\n",
       "      <td>1.0</td>\n",
       "      <td>0.0</td>\n",
       "      <td>1.0</td>\n",
       "      <td>0.0</td>\n",
       "      <td>1.0</td>\n",
       "      <td>0.0</td>\n",
       "    </tr>\n",
       "    <tr>\n",
       "      <th>3</th>\n",
       "      <td>0</td>\n",
       "      <td>34.0</td>\n",
       "      <td>1</td>\n",
       "      <td>12.0</td>\n",
       "      <td>46</td>\n",
       "      <td>1</td>\n",
       "      <td>0</td>\n",
       "      <td>0</td>\n",
       "      <td>7.0</td>\n",
       "      <td>125301.0</td>\n",
       "      <td>...</td>\n",
       "      <td>0.0</td>\n",
       "      <td>1.0</td>\n",
       "      <td>0.0</td>\n",
       "      <td>0.0</td>\n",
       "      <td>1.0</td>\n",
       "      <td>0.0</td>\n",
       "      <td>1.0</td>\n",
       "      <td>0.0</td>\n",
       "      <td>1.0</td>\n",
       "      <td>0.0</td>\n",
       "    </tr>\n",
       "    <tr>\n",
       "      <th>4</th>\n",
       "      <td>0</td>\n",
       "      <td>34.0</td>\n",
       "      <td>0</td>\n",
       "      <td>10.0</td>\n",
       "      <td>34</td>\n",
       "      <td>1</td>\n",
       "      <td>0</td>\n",
       "      <td>0</td>\n",
       "      <td>1.0</td>\n",
       "      <td>62978.0</td>\n",
       "      <td>...</td>\n",
       "      <td>0.0</td>\n",
       "      <td>0.0</td>\n",
       "      <td>0.0</td>\n",
       "      <td>1.0</td>\n",
       "      <td>1.0</td>\n",
       "      <td>0.0</td>\n",
       "      <td>1.0</td>\n",
       "      <td>0.0</td>\n",
       "      <td>1.0</td>\n",
       "      <td>0.0</td>\n",
       "    </tr>\n",
       "  </tbody>\n",
       "</table>\n",
       "<p>5 rows × 46 columns</p>\n",
       "</div>"
      ],
      "text/plain": [
       "   KIDSDRIV   AGE  HOMEKIDS   YOJ  TRAVTIME  TIF  CLM_FREQ  MVR_PTS  CAR_AGE  \\\n",
       "0         0  60.0         0  11.0        14   11         2        3     18.0   \n",
       "1         0  43.0         0  11.0        22    1         0        0      1.0   \n",
       "2         0  35.0         1  10.0         5    4         2        3     10.0   \n",
       "3         0  34.0         1  12.0        46    1         0        0      7.0   \n",
       "4         0  34.0         0  10.0        34    1         0        0      1.0   \n",
       "\n",
       "     INCOME  ...   23   24   25   26   27   28   29   30   31   32  \n",
       "0   67349.0  ...  0.0  0.0  0.0  0.0  0.0  1.0  1.0  0.0  1.0  0.0  \n",
       "1   91449.0  ...  0.0  0.0  0.0  0.0  0.0  1.0  1.0  0.0  1.0  0.0  \n",
       "2   16039.0  ...  0.0  0.0  0.0  1.0  1.0  0.0  1.0  0.0  1.0  0.0  \n",
       "3  125301.0  ...  0.0  1.0  0.0  0.0  1.0  0.0  1.0  0.0  1.0  0.0  \n",
       "4   62978.0  ...  0.0  0.0  0.0  1.0  1.0  0.0  1.0  0.0  1.0  0.0  \n",
       "\n",
       "[5 rows x 46 columns]"
      ]
     },
     "execution_count": 14,
     "metadata": {},
     "output_type": "execute_result"
    }
   ],
   "source": [
    "x_train.head() # our encoded training x vector"
   ]
  },
  {
   "cell_type": "code",
   "execution_count": 15,
   "id": "upset-source",
   "metadata": {},
   "outputs": [
    {
     "data": {
      "text/plain": [
       "0    0\n",
       "1    0\n",
       "2    0\n",
       "3    1\n",
       "4    1\n",
       "Name: TARGET_FLAG, dtype: int64"
      ]
     },
     "execution_count": 15,
     "metadata": {},
     "output_type": "execute_result"
    }
   ],
   "source": [
    "y_train.head()"
   ]
  },
  {
   "cell_type": "markdown",
   "id": "angry-identification",
   "metadata": {},
   "source": [
    "### Split the data into training and testing parts"
   ]
  },
  {
   "cell_type": "code",
   "execution_count": 25,
   "id": "restricted-authority",
   "metadata": {},
   "outputs": [],
   "source": [
    "# This will be reused by all the models for final run\n",
    "from sklearn.model_selection import train_test_split\n",
    "X_train_split, X_test_split, y_train_split, y_test_split = train_test_split(x_train, y_train,stratify=y_train, test_size=0.25, random_state=42)"
   ]
  },
  {
   "cell_type": "markdown",
   "id": "useful-proceeding",
   "metadata": {},
   "source": [
    "## Machine learning modeling:\n",
    "\n",
    "In the coming sections we shall see four different ways to build a machine learning model that fits our data.\n",
    "\n",
    "1. Intrinsic feature selection models\n",
    "2. Manual feature selection based on performance result (Wrapper method)\n",
    "3. Manual feature selection based on metric result (Filter method)\n",
    "4. Dimensionality Reduction for Feature extraction prior to modeling\n",
    "\n",
    "Let us look at each technique in more detail:"
   ]
  },
  {
   "cell_type": "markdown",
   "id": "confident-death",
   "metadata": {},
   "source": [
    "###  Intrinsic feature selection models\n",
    "\n",
    "These models automatically perform the right selection of features from the total list to improve their performance.\n",
    "\n",
    "In many analyses, some variables should be in the model regardless of any measure of significance. Sometimes they are necessary control variables. Other times, finding a small effect can be substantively important.\n",
    "\n",
    "##### Types of Intrinsic feature selection models\n",
    "\n",
    "Broadly we can classify the models into:\n",
    "\n",
    "1. Parametric models\n",
    "\n",
    "2. Non-parametric models\n",
    "\n",
    "We shall explore each with an example.\n"
   ]
  },
  {
   "cell_type": "markdown",
   "id": "naval-plane",
   "metadata": {},
   "source": [
    "#### Parametric modelling\n",
    "\n",
    "A parametric machine learning model is categorized by the fact that the phenomenon we are trying to capture can be represented by a finite set of variables no matter the size of the dataset.\n",
    "\n",
    "We choose the L1 logistic regression model which is known to perform feature selection by itself during the process of training by reducing the weights of the non-important (wrt target) variables to zero.\n",
    "\n",
    "<ins> Loss metric chosen : cross-entropy </ins>\n",
    "\n",
    "<ins> Evaluation scores: Accuracy, Recall, Precision, F1-Score </ins>\n",
    "\n",
    "The reason for prioritizing a Parametric model is that we can see the importance of each variable through its corresponding parameter or weight.\n"
   ]
  },
  {
   "cell_type": "markdown",
   "id": "accessible-hunter",
   "metadata": {},
   "source": [
    "###### Steps which we will perform in the next cells:\n",
    "\n",
    "A. Perform cross validation on the training data using logistic regression to assess performance on metrics like accuracy, precision, recall and F1-score. \n",
    "\n",
    "B. Fit the final model on the training data and print the coefficients.\n",
    "\n",
    "C. Calculate the probabilities of each class and plot the ROC curve against majority class selection. "
   ]
  },
  {
   "cell_type": "markdown",
   "id": "modern-scheduling",
   "metadata": {},
   "source": [
    "##### A. Cross-validation on logistic regression"
   ]
  },
  {
   "cell_type": "code",
   "execution_count": 33,
   "id": "fifth-lancaster",
   "metadata": {},
   "outputs": [],
   "source": [
    "from time import time\n",
    "import numpy as np\n",
    "import matplotlib.pyplot as plt\n",
    "\n",
    "from sklearn import model_selection\n",
    "from sklearn.linear_model import LogisticRegression\n",
    "from sklearn.model_selection import cross_val_score\n",
    "from sklearn.model_selection import StratifiedKFold\n",
    "from sklearn.model_selection import KFold\n",
    "from sklearn.metrics import make_scorer, accuracy_score, precision_score, recall_score, f1_score"
   ]
  },
  {
   "cell_type": "code",
   "execution_count": 34,
   "id": "piano-smile",
   "metadata": {},
   "outputs": [
    {
     "name": "stdout",
     "output_type": "stream",
     "text": [
      "This took 4.203s\n",
      "Accuracy: 0.6552522746071133\n",
      "Precision: 0.3843145973801745\n",
      "Recall: 0.500642523364486\n",
      "F1_score: 0.4343494876355366\n"
     ]
    }
   ],
   "source": [
    "# Let us perform 10-fold cross validation to compare with other models\n",
    "import warnings; warnings.simplefilter('ignore') # avoid warning messages\n",
    "# evaluate an lasso regression model on the dataset\n",
    "\n",
    "# define model\n",
    "# all parameters not specified are set to their defaults\n",
    "start = time()\n",
    "logReg_L1 = LogisticRegression(penalty='l1',solver='saga' , class_weight = {0: 0.26, 1:0.74}) # default solver does not work with l1 reg.\n",
    "\n",
    "scoring = {'accuracy' : make_scorer(accuracy_score), \n",
    "           'precision' : make_scorer(precision_score),\n",
    "           'recall' : make_scorer(recall_score), \n",
    "           'f1_score' : make_scorer(f1_score)}\n",
    "\n",
    "\n",
    "# kfold = model_selection.KFold(n_splits=10, random_state=42)\n",
    "# model=RandomForestClassifier(n_estimators=50) \n",
    "\n",
    "skfold = StratifiedKFold(n_splits=5)\n",
    "model_skfold = LogisticRegression()\n",
    "#results_skfold = model_selection.cross_val_score(logReg_L1, x_train, y_train, cv=skfold)\n",
    "\n",
    "# Direct modeling instead of Hyper-parameter grid Search as logistic regression doesn't have critical parameters to tune\n",
    "results_skfold = model_selection.cross_validate(estimator=logReg_L1, \n",
    "                                          X=x_train,\n",
    "                                          y=y_train,\n",
    "                                          cv=skfold, scoring=scoring)\n",
    "\n",
    "print(\"This took %0.3fs\" % (time() - start))\n",
    "#print(results_skfold)\n",
    "print(f\"Accuracy: {np.mean(results_skfold['test_accuracy'])}\")\n",
    "print(f\"Precision: {np.mean(results_skfold['test_precision'])}\")\n",
    "print(f\"Recall: {np.mean(results_skfold['test_recall'])}\")\n",
    "print(f\"F1_score: {np.mean(results_skfold['test_f1_score'])}\")\n"
   ]
  },
  {
   "cell_type": "markdown",
   "id": "christian-adobe",
   "metadata": {},
   "source": [
    "The above results summarize the performance of logistic regression with l1 penalty model on our training dataset. \n",
    "\n",
    "##### B. Fitting the final model:"
   ]
  },
  {
   "cell_type": "code",
   "execution_count": 35,
   "id": "polish-seminar",
   "metadata": {},
   "outputs": [
    {
     "name": "stdout",
     "output_type": "stream",
     "text": [
      "[[751 360]\n",
      " [188 213]]\n",
      "              precision    recall  f1-score   support\n",
      "\n",
      "           0       0.80      0.68      0.73      1111\n",
      "           1       0.37      0.53      0.44       401\n",
      "\n",
      "    accuracy                           0.64      1512\n",
      "   macro avg       0.59      0.60      0.59      1512\n",
      "weighted avg       0.69      0.64      0.65      1512\n",
      "\n"
     ]
    }
   ],
   "source": [
    "from sklearn.model_selection import train_test_split\n",
    "from sklearn.metrics import classification_report, confusion_matrix\n",
    "# Let us assume we want to fit for best possible recall of all the claims\n",
    "# Loss metric is now recall\n",
    "\n",
    "# Use the classifier: logReg_L1 defined in the above cell\n",
    "# logReg_L1  LogisticRegression(penalty='l1',solver='saga' , class_weight = {0: 0.26, 1:0.74})\n",
    "\n",
    "\n",
    "\n",
    "# Fit the classifier to the training data\n",
    "logReg_L1.fit(X_train_split, y_train_split)\n",
    "\n",
    "# Predict the labels of the test set: y_pred\n",
    "y_pred_logreg = logReg_L1.predict(X_test_split)\n",
    "\n",
    "# Compute and print the confusion matrix and classification report\n",
    "print(confusion_matrix(y_test_split, y_pred_logreg))\n",
    "print(classification_report(y_test_split, y_pred_logreg))"
   ]
  },
  {
   "cell_type": "code",
   "execution_count": 37,
   "id": "essential-extension",
   "metadata": {},
   "outputs": [
    {
     "name": "stdout",
     "output_type": "stream",
     "text": [
      "[[ 1.93513096e-08  5.25025313e-07  5.27737734e-08  1.48795618e-07\n",
      "   9.71367928e-07  2.16519002e-09  7.88217908e-08  1.71070837e-07\n",
      "  -1.36091440e-08 -7.05392326e-07 -2.46774622e-06  8.01496563e-06\n",
      "   3.97270655e-05 -5.78144894e-10  1.83269689e-08 -3.25241914e-09\n",
      "   2.12308621e-08  4.79593104e-09  1.24727450e-08  6.17529858e-09\n",
      "  -9.03718321e-10 -6.77744020e-09 -1.12595571e-09  2.09291307e-08\n",
      "   7.59992355e-09 -9.67867459e-10  0.00000000e+00 -2.46179015e-09\n",
      "  -8.56898107e-09 -1.57173244e-09  2.46902424e-09  2.16074494e-08\n",
      "   3.26548118e-08 -1.46657996e-08 -1.82376519e-08  2.03666594e-09\n",
      "   1.11322481e-08  7.02034791e-09  1.06326835e-09  1.35357951e-08\n",
      "   1.68128974e-08  4.58778011e-10  8.77448119e-09  8.49157780e-09\n",
      "   4.69067275e-08 -2.89175229e-08]]\n",
      "(1, 46)\n"
     ]
    }
   ],
   "source": [
    "# Print weights\n",
    "print(logReg_L1.coef_)\n",
    "print(logReg_L1.coef_.shape)"
   ]
  },
  {
   "cell_type": "markdown",
   "id": "swiss-summit",
   "metadata": {},
   "source": [
    "The above matrix represents the weight attributed to each variable in the logistic regression."
   ]
  },
  {
   "cell_type": "markdown",
   "id": "brave-florence",
   "metadata": {},
   "source": [
    " ##### C. Predict the probabilities of the class prediction and plot the ROC curve."
   ]
  },
  {
   "cell_type": "code",
   "execution_count": 41,
   "id": "stock-planning",
   "metadata": {},
   "outputs": [
    {
     "name": "stdout",
     "output_type": "stream",
     "text": [
      "No Skill: ROC AUC=0.500\n",
      "Logistic: ROC AUC=0.655\n"
     ]
    },
    {
     "data": {
      "image/png": "[encoded data removed]",
      "text/plain": [
       "<Figure size 432x288 with 1 Axes>"
      ]
     },
     "metadata": {
      "needs_background": "light"
     },
     "output_type": "display_data"
    }
   ],
   "source": [
    "# roc curve and auc\n",
    "from sklearn.metrics import roc_curve\n",
    "from sklearn.metrics import roc_auc_score\n",
    "\n",
    "# generate a no skill prediction (majority class)\n",
    "ns_probs = [0 for _ in range(len(y_test_split))]\n",
    "# predict probabilities\n",
    "lr_probs = logReg_L1.predict_proba(X_test_split)\n",
    "# keep probabilities for the positive outcome only\n",
    "lr_probs = lr_probs[:, 1]\n",
    "# calculate scores\n",
    "ns_auc = roc_auc_score(y_test_split, ns_probs)\n",
    "lr_auc = roc_auc_score(y_test_split, lr_probs)\n",
    "# summarize scores\n",
    "print('No Skill: ROC AUC=%.3f' % (ns_auc))\n",
    "print('Logistic: ROC AUC=%.3f' % (lr_auc))\n",
    "# calculate roc curves\n",
    "ns_fpr, ns_tpr, _ = roc_curve(y_test_split, ns_probs)\n",
    "lr_fpr, lr_tpr, _ = roc_curve(y_test_split, lr_probs)\n",
    "# plot the roc curve for the model\n",
    "plt.plot(ns_fpr, ns_tpr, linestyle='--', label='No Skill')\n",
    "plt.plot(lr_fpr, lr_tpr, marker='.', label='Logistic')\n",
    "# axis labels\n",
    "plt.xlabel('False Positive Rate')\n",
    "plt.ylabel('True Positive Rate')\n",
    "# show the legend\n",
    "plt.legend()\n",
    "# show the plot\n",
    "plt.show()"
   ]
  },
  {
   "cell_type": "markdown",
   "id": "billion-record",
   "metadata": {},
   "source": [
    "From the ROC curve we conclude that our model performs better than majority class selection (no-skill) and thus has utility to it."
   ]
  },
  {
   "cell_type": "markdown",
   "id": "pretty-kidney",
   "metadata": {},
   "source": [
    "#### Non-Parametric model\n",
    "\n",
    "We will implement powerful tree-based non-parametric models.\n",
    "The drawback is that these models are less interpretable than say Linear models.\n",
    "\n",
    "As a concession however, we can calculate feature importances using scores/metrics like information gain etc. as the scikit-learn library provides us directly with.\n",
    "\n",
    "<ins> Loss metric chosen : cross-entropy </ins>\n",
    "\n",
    "<ins> Evaluation scores: Accuracy, Recall, Precision, F1-Score </ins>"
   ]
  },
  {
   "cell_type": "markdown",
   "id": "tamil-pleasure",
   "metadata": {},
   "source": [
    "###### Steps which we will perform in the next cells:\n",
    "\n",
    "A. Perform cross validation on the training data using XG-Boost to assess performance on metrics like accuracy, precision, recall and F1-score. \n",
    "\n",
    "B. Fit the final model on the training data and print the coefficients.\n",
    "\n",
    "C. Calculate the probabilities of each class and plot the ROC curve against majority class selection. "
   ]
  },
  {
   "cell_type": "markdown",
   "id": "thorough-error",
   "metadata": {},
   "source": [
    "##### A. Cross-validation on XGBoost"
   ]
  },
  {
   "cell_type": "code",
   "execution_count": 42,
   "id": "incident-conflict",
   "metadata": {},
   "outputs": [
    {
     "name": "stdout",
     "output_type": "stream",
     "text": [
      "[17:24:50] WARNING: C:/Users/Administrator/workspace/xgboost-win64_release_1.3.0/src/learner.cc:1061: Starting in XGBoost 1.3.0, the default evaluation metric used with the objective 'binary:logistic' was changed from 'error' to 'logloss'. Explicitly set eval_metric if you'd like to restore the old behavior.\n",
      "[17:24:51] WARNING: C:/Users/Administrator/workspace/xgboost-win64_release_1.3.0/src/learner.cc:1061: Starting in XGBoost 1.3.0, the default evaluation metric used with the objective 'binary:logistic' was changed from 'error' to 'logloss'. Explicitly set eval_metric if you'd like to restore the old behavior.\n",
      "[17:24:52] WARNING: C:/Users/Administrator/workspace/xgboost-win64_release_1.3.0/src/learner.cc:1061: Starting in XGBoost 1.3.0, the default evaluation metric used with the objective 'binary:logistic' was changed from 'error' to 'logloss'. Explicitly set eval_metric if you'd like to restore the old behavior.\n",
      "[17:24:54] WARNING: C:/Users/Administrator/workspace/xgboost-win64_release_1.3.0/src/learner.cc:1061: Starting in XGBoost 1.3.0, the default evaluation metric used with the objective 'binary:logistic' was changed from 'error' to 'logloss'. Explicitly set eval_metric if you'd like to restore the old behavior.\n",
      "[17:24:55] WARNING: C:/Users/Administrator/workspace/xgboost-win64_release_1.3.0/src/learner.cc:1061: Starting in XGBoost 1.3.0, the default evaluation metric used with the objective 'binary:logistic' was changed from 'error' to 'logloss'. Explicitly set eval_metric if you'd like to restore the old behavior.\n",
      "This took 6.154s\n",
      "Accuracy: 0.7756823821339951\n",
      "Precision: 0.6008932699516265\n",
      "Recall: 0.457583722741433\n",
      "F1_score: 0.5185227269379646\n"
     ]
    }
   ],
   "source": [
    "# Cross validation for XG-Boost\n",
    " \n",
    "import xgboost as xgb\n",
    "# Let us perform 10-fold cross validation to compare with other models\n",
    "import warnings; warnings.simplefilter('ignore') # avoid warning messages\n",
    "# evaluate an lasso regression model on the dataset\n",
    "from sklearn import utils\n",
    "# define model\n",
    "# all parameters not specified are set to their defaults\n",
    "start = time()\n",
    "\n",
    "weights = utils.compute_sample_weight('balanced', y_train_split) # For balancing the class\n",
    "# Here there is only a slight improvement in F1-score\n",
    "\n",
    "xgb_model = xgb.XGBClassifier(objective=\"binary:logistic\", random_state=42) \n",
    "# cross-entropy loss of logistic regression is also chosen here\n",
    "\n",
    "scoring = {'accuracy' : make_scorer(accuracy_score), \n",
    "           'precision' : make_scorer(precision_score),\n",
    "           'recall' : make_scorer(recall_score), \n",
    "           'f1_score' : make_scorer(f1_score)}\n",
    "\n",
    "\n",
    "# kfold = model_selection.KFold(n_splits=10, random_state=42)\n",
    "# model=RandomForestClassifier(n_estimators=50) \n",
    "\n",
    "skfold = StratifiedKFold(n_splits=5)\n",
    "model_skfold = LogisticRegression()\n",
    "#results_skfold = model_selection.cross_val_score(logReg_L1, x_train, y_train, cv=skfold)\n",
    "\n",
    "# Direct modeling instead of Hyper-parameter grid Search as logistic regression doesn't have critical parameters to tune\n",
    "results_skfold = model_selection.cross_validate(estimator=xgb_model, #  not fitting on accuracy\n",
    "                                          X=x_train,\n",
    "                                          y=y_train,\n",
    "                                          cv=skfold, scoring=scoring)\n",
    "\n",
    "print(\"This took %0.3fs\" % (time() - start))\n",
    "#print(results_skfold)\n",
    "print(f\"Accuracy: {np.mean(results_skfold['test_accuracy'])}\")\n",
    "print(f\"Precision: {np.mean(results_skfold['test_precision'])}\")\n",
    "print(f\"Recall: {np.mean(results_skfold['test_recall'])}\")\n",
    "print(f\"F1_score: {np.mean(results_skfold['test_f1_score'])}\")\n"
   ]
  },
  {
   "cell_type": "markdown",
   "id": "square-fitting",
   "metadata": {},
   "source": [
    "The above results summarize the performance of XGBoost on our training dataset. "
   ]
  },
  {
   "cell_type": "markdown",
   "id": "metric-hamilton",
   "metadata": {},
   "source": [
    "##### B. Fitting the final model:"
   ]
  },
  {
   "cell_type": "code",
   "execution_count": 43,
   "id": "attempted-bulgarian",
   "metadata": {},
   "outputs": [
    {
     "name": "stdout",
     "output_type": "stream",
     "text": [
      "[17:24:56] WARNING: C:/Users/Administrator/workspace/xgboost-win64_release_1.3.0/src/learner.cc:1061: Starting in XGBoost 1.3.0, the default evaluation metric used with the objective 'binary:logistic' was changed from 'error' to 'logloss'. Explicitly set eval_metric if you'd like to restore the old behavior.\n",
      "[[944 167]\n",
      " [171 230]]\n",
      "              precision    recall  f1-score   support\n",
      "\n",
      "           0       0.85      0.85      0.85      1111\n",
      "           1       0.58      0.57      0.58       401\n",
      "\n",
      "    accuracy                           0.78      1512\n",
      "   macro avg       0.71      0.71      0.71      1512\n",
      "weighted avg       0.78      0.78      0.78      1512\n",
      "\n"
     ]
    }
   ],
   "source": [
    "# Let us implement XG-Boost\n",
    "from sklearn import utils\n",
    "\n",
    "weights = utils.compute_sample_weight('balanced', y_train_split) # For balancing the class\n",
    "# Here there is only a slight improvement in F1-score\n",
    "\n",
    "xgb_model = xgb.XGBClassifier(objective=\"binary:logistic\", random_state=42)\n",
    "xgb_model.fit(X_train_split, y_train_split,sample_weight = weights)\n",
    "\n",
    "y_pred_xgb = xgb_model.predict(X_test_split)\n",
    "\n",
    "print(confusion_matrix(y_test_split, y_pred_xgb))\n",
    "print(classification_report(y_test_split, y_pred_xgb))"
   ]
  },
  {
   "cell_type": "markdown",
   "id": "convertible-alcohol",
   "metadata": {},
   "source": [
    "We cannot print weights for XGBoost as it is not parametric."
   ]
  },
  {
   "cell_type": "markdown",
   "id": "operational-buyer",
   "metadata": {},
   "source": [
    " ##### C. Predict the probabilities of the class prediction and plot the ROC curve."
   ]
  },
  {
   "cell_type": "code",
   "execution_count": 48,
   "id": "hollywood-speaking",
   "metadata": {},
   "outputs": [
    {
     "name": "stdout",
     "output_type": "stream",
     "text": [
      "No Skill: ROC AUC=0.500\n",
      "Logistic: ROC AUC=0.806\n"
     ]
    },
    {
     "data": {
      "image/png": "[encoded data removed]",
      "text/plain": [
       "<Figure size 432x288 with 1 Axes>"
      ]
     },
     "metadata": {
      "needs_background": "light"
     },
     "output_type": "display_data"
    }
   ],
   "source": [
    "\n",
    "# generate a no skill prediction (majority class)\n",
    "#ns_probs = [0 for _ in range(len(y_test_split))]\n",
    "# predict probabilities\n",
    "xgb_probs = xgb_model.predict_proba(X_test_split)\n",
    "# keep probabilities for the positive outcome only\n",
    "xgb_probs = xgb_probs[:, 1]\n",
    "# calculate scores\n",
    "ns_auc = roc_auc_score(y_test_split, ns_probs)\n",
    "xgb_auc = roc_auc_score(y_test_split, xgb_probs)\n",
    "# summarize scores\n",
    "print('No Skill: ROC AUC=%.3f' % (ns_auc))\n",
    "print('Logistic: ROC AUC=%.3f' % (xgb_auc))\n",
    "# calculate roc curves\n",
    "ns_fpr, ns_tpr, _ = roc_curve(y_test_split, ns_probs)\n",
    "xgb_fpr, xgb_tpr, _ = roc_curve(y_test_split, xgb_probs)\n",
    "# plot the roc curve for the model\n",
    "plt.plot(ns_fpr, ns_tpr, linestyle='--', label='No Skill')\n",
    "plt.plot(xgb_fpr, xgb_tpr, marker='.', label='XGBoost')\n",
    "# axis labels\n",
    "plt.xlabel('False Positive Rate')\n",
    "plt.ylabel('True Positive Rate')\n",
    "# show the legend\n",
    "plt.legend()\n",
    "# show the plot\n",
    "plt.show()"
   ]
  },
  {
   "cell_type": "markdown",
   "id": "absolute-march",
   "metadata": {},
   "source": [
    "From the ROC curve we conclude that our model performs better than majority class selection (no-skill) and thus has utility to it."
   ]
  },
  {
   "cell_type": "markdown",
   "id": "proof-madness",
   "metadata": {},
   "source": [
    "#### Comparision of results between Logistic Regression and XGBoost\n",
    "\n",
    "XGBoost outperforms (possibility of overfit) the logistic regression model as we have higher metrics except for recall which is higher for the logistic regression model."
   ]
  },
  {
   "cell_type": "markdown",
   "id": "hidden-framework",
   "metadata": {},
   "source": [
    "#### Note on improving performance\n",
    "\n",
    "\n",
    "If we are building our model for a specific purpose (capturing all insurance claims (more recall) , avoiding false triggers (more precision) etc.) then we should perform a grid search to optimise the hyperparameters for that particular task. \n",
    "\n",
    "This will improve the performance for our desired task."
   ]
  },
  {
   "cell_type": "markdown",
   "id": "suitable-costa",
   "metadata": {},
   "source": [
    "### Manual feature selection based on performance result (Wrapper method)\n",
    "\n",
    "Here we select features based on the final result of the model. When features are selected, the remaining colomns are dropped while modelling with data.\n",
    "\n",
    "This can be implemented in many ways - RFE(Recursive feature elimination), Stepwise feature selection, Best k-features etc.\n"
   ]
  },
  {
   "cell_type": "markdown",
   "id": "loved-moscow",
   "metadata": {},
   "source": [
    "### Manual feature selection based on metric result (Filter method)\n",
    "\n",
    "Similar to the previous section, features here are selected based on metrics like information gain or correlation.\n",
    "\n",
    "This can be implemented in many ways - RFE(Recursive feature elimination), Stepwise feature selection, Best k-features etc.\n"
   ]
  },
  {
   "cell_type": "markdown",
   "id": "adjusted-behavior",
   "metadata": {},
   "source": [
    "### Dimensionality Reduction for Feature extraction then modeling\n",
    "\n",
    "As the aim of this exercise is not score but rather clarity and interpretability, we have given the least priority to feature space extraction techniques like Principal Component Analysis, T-SNE etc.\n",
    "\n",
    "These may be performed now to possibly obtain a better classification result at the expense of interpretability."
   ]
  },
  {
   "cell_type": "markdown",
   "id": "unexpected-kitchen",
   "metadata": {},
   "source": [
    "### Improving the modeling"
   ]
  },
  {
   "cell_type": "markdown",
   "id": "worth-finder",
   "metadata": {},
   "source": [
    "We can continue with our modeling process in the following ways:\n",
    "\n",
    "1. Choose way to impute missing values rather than eliminating them.\n",
    "2. Perform a wrapper method model selection.\n",
    "3. Perform a Filter method model selection.\n",
    "4. Perform Dimensionality reduction and then experiment with various models in the reduced dimension feature space."
   ]
  },
  {
   "cell_type": "markdown",
   "id": "simplified-irish",
   "metadata": {},
   "source": [
    "## Results on the test set"
   ]
  },
  {
   "cell_type": "markdown",
   "id": "limiting-falls",
   "metadata": {},
   "source": [
    "Let us apply our two models to the test set and generate the output in the desired format.\n",
    "\n",
    "### Extract the test data and clean it"
   ]
  },
  {
   "cell_type": "markdown",
   "id": "excessive-south",
   "metadata": {},
   "source": [
    "#### Read the data to a dataframe"
   ]
  },
  {
   "cell_type": "code",
   "execution_count": 50,
   "id": "accredited-simpson",
   "metadata": {},
   "outputs": [
    {
     "data": {
      "text/plain": [
       "Index(['KIDSDRIV',      'AGE', 'HOMEKIDS',      'YOJ', 'TRAVTIME',      'TIF',\n",
       "       'CLM_FREQ',  'MVR_PTS',  'CAR_AGE',   'INCOME', 'HOME_VAL', 'BLUEBOOK',\n",
       "       'OLDCLAIM',          0,          1,          2,          3,          4,\n",
       "                5,          6,          7,          8,          9,         10,\n",
       "               11,         12,         13,         14,         15,         16,\n",
       "               17,         18,         19,         20,         21,         22,\n",
       "               23,         24,         25,         26,         27,         28,\n",
       "               29,         30,         31,         32],\n",
       "      dtype='object')"
      ]
     },
     "execution_count": 50,
     "metadata": {},
     "output_type": "execute_result"
    }
   ],
   "source": [
    "x_train.columns  # Check training colomns order - very important that the test matches this"
   ]
  },
  {
   "cell_type": "code",
   "execution_count": 51,
   "id": "numeric-contemporary",
   "metadata": {
    "scrolled": true
   },
   "outputs": [
    {
     "data": {
      "text/html": [
       "<div>\n",
       "<style scoped>\n",
       "    .dataframe tbody tr th:only-of-type {\n",
       "        vertical-align: middle;\n",
       "    }\n",
       "\n",
       "    .dataframe tbody tr th {\n",
       "        vertical-align: top;\n",
       "    }\n",
       "\n",
       "    .dataframe thead th {\n",
       "        text-align: right;\n",
       "    }\n",
       "</style>\n",
       "<table border=\"1\" class=\"dataframe\">\n",
       "  <thead>\n",
       "    <tr style=\"text-align: right;\">\n",
       "      <th></th>\n",
       "      <th>INDEX</th>\n",
       "      <th>TARGET_FLAG</th>\n",
       "      <th>TARGET_AMT</th>\n",
       "      <th>KIDSDRIV</th>\n",
       "      <th>AGE</th>\n",
       "      <th>HOMEKIDS</th>\n",
       "      <th>YOJ</th>\n",
       "      <th>INCOME</th>\n",
       "      <th>PARENT1</th>\n",
       "      <th>HOME_VAL</th>\n",
       "      <th>...</th>\n",
       "      <th>BLUEBOOK</th>\n",
       "      <th>TIF</th>\n",
       "      <th>CAR_TYPE</th>\n",
       "      <th>RED_CAR</th>\n",
       "      <th>OLDCLAIM</th>\n",
       "      <th>CLM_FREQ</th>\n",
       "      <th>REVOKED</th>\n",
       "      <th>MVR_PTS</th>\n",
       "      <th>CAR_AGE</th>\n",
       "      <th>URBANICITY</th>\n",
       "    </tr>\n",
       "  </thead>\n",
       "  <tbody>\n",
       "    <tr>\n",
       "      <th>0</th>\n",
       "      <td>3</td>\n",
       "      <td>NaN</td>\n",
       "      <td>NaN</td>\n",
       "      <td>0</td>\n",
       "      <td>48.0</td>\n",
       "      <td>0</td>\n",
       "      <td>11.0</td>\n",
       "      <td>$52,881</td>\n",
       "      <td>No</td>\n",
       "      <td>$0</td>\n",
       "      <td>...</td>\n",
       "      <td>$21,970</td>\n",
       "      <td>1</td>\n",
       "      <td>Van</td>\n",
       "      <td>yes</td>\n",
       "      <td>$0</td>\n",
       "      <td>0</td>\n",
       "      <td>No</td>\n",
       "      <td>2</td>\n",
       "      <td>10.0</td>\n",
       "      <td>Highly Urban/ Urban</td>\n",
       "    </tr>\n",
       "    <tr>\n",
       "      <th>1</th>\n",
       "      <td>9</td>\n",
       "      <td>NaN</td>\n",
       "      <td>NaN</td>\n",
       "      <td>1</td>\n",
       "      <td>40.0</td>\n",
       "      <td>1</td>\n",
       "      <td>11.0</td>\n",
       "      <td>$50,815</td>\n",
       "      <td>Yes</td>\n",
       "      <td>$0</td>\n",
       "      <td>...</td>\n",
       "      <td>$18,930</td>\n",
       "      <td>6</td>\n",
       "      <td>Minivan</td>\n",
       "      <td>no</td>\n",
       "      <td>$3,295</td>\n",
       "      <td>1</td>\n",
       "      <td>No</td>\n",
       "      <td>2</td>\n",
       "      <td>1.0</td>\n",
       "      <td>Highly Urban/ Urban</td>\n",
       "    </tr>\n",
       "    <tr>\n",
       "      <th>2</th>\n",
       "      <td>10</td>\n",
       "      <td>NaN</td>\n",
       "      <td>NaN</td>\n",
       "      <td>0</td>\n",
       "      <td>44.0</td>\n",
       "      <td>2</td>\n",
       "      <td>12.0</td>\n",
       "      <td>$43,486</td>\n",
       "      <td>Yes</td>\n",
       "      <td>$0</td>\n",
       "      <td>...</td>\n",
       "      <td>$5,900</td>\n",
       "      <td>10</td>\n",
       "      <td>z_SUV</td>\n",
       "      <td>no</td>\n",
       "      <td>$0</td>\n",
       "      <td>0</td>\n",
       "      <td>No</td>\n",
       "      <td>0</td>\n",
       "      <td>10.0</td>\n",
       "      <td>z_Highly Rural/ Rural</td>\n",
       "    </tr>\n",
       "    <tr>\n",
       "      <th>3</th>\n",
       "      <td>18</td>\n",
       "      <td>NaN</td>\n",
       "      <td>NaN</td>\n",
       "      <td>0</td>\n",
       "      <td>35.0</td>\n",
       "      <td>2</td>\n",
       "      <td>NaN</td>\n",
       "      <td>$21,204</td>\n",
       "      <td>Yes</td>\n",
       "      <td>$0</td>\n",
       "      <td>...</td>\n",
       "      <td>$9,230</td>\n",
       "      <td>6</td>\n",
       "      <td>Pickup</td>\n",
       "      <td>no</td>\n",
       "      <td>$0</td>\n",
       "      <td>0</td>\n",
       "      <td>Yes</td>\n",
       "      <td>0</td>\n",
       "      <td>4.0</td>\n",
       "      <td>z_Highly Rural/ Rural</td>\n",
       "    </tr>\n",
       "    <tr>\n",
       "      <th>4</th>\n",
       "      <td>21</td>\n",
       "      <td>NaN</td>\n",
       "      <td>NaN</td>\n",
       "      <td>0</td>\n",
       "      <td>59.0</td>\n",
       "      <td>0</td>\n",
       "      <td>12.0</td>\n",
       "      <td>$87,460</td>\n",
       "      <td>No</td>\n",
       "      <td>$0</td>\n",
       "      <td>...</td>\n",
       "      <td>$15,420</td>\n",
       "      <td>1</td>\n",
       "      <td>Minivan</td>\n",
       "      <td>yes</td>\n",
       "      <td>$44,857</td>\n",
       "      <td>2</td>\n",
       "      <td>No</td>\n",
       "      <td>4</td>\n",
       "      <td>1.0</td>\n",
       "      <td>Highly Urban/ Urban</td>\n",
       "    </tr>\n",
       "  </tbody>\n",
       "</table>\n",
       "<p>5 rows × 26 columns</p>\n",
       "</div>"
      ],
      "text/plain": [
       "   INDEX  TARGET_FLAG  TARGET_AMT  KIDSDRIV   AGE  HOMEKIDS   YOJ   INCOME  \\\n",
       "0      3          NaN         NaN         0  48.0         0  11.0  $52,881   \n",
       "1      9          NaN         NaN         1  40.0         1  11.0  $50,815   \n",
       "2     10          NaN         NaN         0  44.0         2  12.0  $43,486   \n",
       "3     18          NaN         NaN         0  35.0         2   NaN  $21,204   \n",
       "4     21          NaN         NaN         0  59.0         0  12.0  $87,460   \n",
       "\n",
       "  PARENT1 HOME_VAL  ... BLUEBOOK TIF CAR_TYPE RED_CAR  OLDCLAIM CLM_FREQ  \\\n",
       "0      No       $0  ...  $21,970   1      Van     yes        $0        0   \n",
       "1     Yes       $0  ...  $18,930   6  Minivan      no    $3,295        1   \n",
       "2     Yes       $0  ...   $5,900  10    z_SUV      no        $0        0   \n",
       "3     Yes       $0  ...   $9,230   6   Pickup      no        $0        0   \n",
       "4      No       $0  ...  $15,420   1  Minivan     yes   $44,857        2   \n",
       "\n",
       "  REVOKED  MVR_PTS CAR_AGE             URBANICITY  \n",
       "0      No        2    10.0    Highly Urban/ Urban  \n",
       "1      No        2     1.0    Highly Urban/ Urban  \n",
       "2      No        0    10.0  z_Highly Rural/ Rural  \n",
       "3     Yes        0     4.0  z_Highly Rural/ Rural  \n",
       "4      No        4     1.0    Highly Urban/ Urban  \n",
       "\n",
       "[5 rows x 26 columns]"
      ]
     },
     "execution_count": 51,
     "metadata": {},
     "output_type": "execute_result"
    }
   ],
   "source": [
    "# We need to perform a couple of steps to process the data and make it ready for our machine learning model\n",
    "# Follow the same processing steps which we followed for our training data\n",
    "\n",
    "# First read from csv to dataframe\n",
    "df_test = pd.read_csv(\"test_auto.csv\")\n",
    "df_test.head()\n"
   ]
  },
  {
   "cell_type": "markdown",
   "id": "vertical-installation",
   "metadata": {},
   "source": [
    "#### Drop the target columns which are empty"
   ]
  },
  {
   "cell_type": "code",
   "execution_count": 52,
   "id": "piano-fifteen",
   "metadata": {
    "scrolled": true
   },
   "outputs": [],
   "source": [
    "# Drop the null value colomns\n",
    "\n",
    "df_test = df_test.drop(['TARGET_FLAG','TARGET_AMT'],axis=1)"
   ]
  },
  {
   "cell_type": "markdown",
   "id": "equipped-adelaide",
   "metadata": {},
   "source": [
    "#### Index stored seperately "
   ]
  },
  {
   "cell_type": "code",
   "execution_count": 53,
   "id": "industrial-foster",
   "metadata": {},
   "outputs": [
    {
     "data": {
      "text/html": [
       "<div>\n",
       "<style scoped>\n",
       "    .dataframe tbody tr th:only-of-type {\n",
       "        vertical-align: middle;\n",
       "    }\n",
       "\n",
       "    .dataframe tbody tr th {\n",
       "        vertical-align: top;\n",
       "    }\n",
       "\n",
       "    .dataframe thead th {\n",
       "        text-align: right;\n",
       "    }\n",
       "</style>\n",
       "<table border=\"1\" class=\"dataframe\">\n",
       "  <thead>\n",
       "    <tr style=\"text-align: right;\">\n",
       "      <th></th>\n",
       "      <th>INDEX</th>\n",
       "    </tr>\n",
       "  </thead>\n",
       "  <tbody>\n",
       "    <tr>\n",
       "      <th>0</th>\n",
       "      <td>3</td>\n",
       "    </tr>\n",
       "    <tr>\n",
       "      <th>1</th>\n",
       "      <td>9</td>\n",
       "    </tr>\n",
       "    <tr>\n",
       "      <th>2</th>\n",
       "      <td>10</td>\n",
       "    </tr>\n",
       "    <tr>\n",
       "      <th>3</th>\n",
       "      <td>18</td>\n",
       "    </tr>\n",
       "    <tr>\n",
       "      <th>4</th>\n",
       "      <td>21</td>\n",
       "    </tr>\n",
       "  </tbody>\n",
       "</table>\n",
       "</div>"
      ],
      "text/plain": [
       "   INDEX\n",
       "0      3\n",
       "1      9\n",
       "2     10\n",
       "3     18\n",
       "4     21"
      ]
     },
     "execution_count": 53,
     "metadata": {},
     "output_type": "execute_result"
    }
   ],
   "source": [
    "# Index colomn stored in seperate df and dropped from df_test\n",
    "\n",
    "index = pd.DataFrame(df_test['INDEX'])\n",
    "df_test = df_test.drop(['INDEX'],axis=1)\n",
    "\n",
    "index.head()\n"
   ]
  },
  {
   "cell_type": "markdown",
   "id": "painful-enclosure",
   "metadata": {},
   "source": [
    "Verify the dataframe now."
   ]
  },
  {
   "cell_type": "code",
   "execution_count": 54,
   "id": "commercial-theorem",
   "metadata": {
    "scrolled": false
   },
   "outputs": [
    {
     "data": {
      "text/html": [
       "<div>\n",
       "<style scoped>\n",
       "    .dataframe tbody tr th:only-of-type {\n",
       "        vertical-align: middle;\n",
       "    }\n",
       "\n",
       "    .dataframe tbody tr th {\n",
       "        vertical-align: top;\n",
       "    }\n",
       "\n",
       "    .dataframe thead th {\n",
       "        text-align: right;\n",
       "    }\n",
       "</style>\n",
       "<table border=\"1\" class=\"dataframe\">\n",
       "  <thead>\n",
       "    <tr style=\"text-align: right;\">\n",
       "      <th></th>\n",
       "      <th>KIDSDRIV</th>\n",
       "      <th>AGE</th>\n",
       "      <th>HOMEKIDS</th>\n",
       "      <th>YOJ</th>\n",
       "      <th>INCOME</th>\n",
       "      <th>PARENT1</th>\n",
       "      <th>HOME_VAL</th>\n",
       "      <th>MSTATUS</th>\n",
       "      <th>SEX</th>\n",
       "      <th>EDUCATION</th>\n",
       "      <th>...</th>\n",
       "      <th>BLUEBOOK</th>\n",
       "      <th>TIF</th>\n",
       "      <th>CAR_TYPE</th>\n",
       "      <th>RED_CAR</th>\n",
       "      <th>OLDCLAIM</th>\n",
       "      <th>CLM_FREQ</th>\n",
       "      <th>REVOKED</th>\n",
       "      <th>MVR_PTS</th>\n",
       "      <th>CAR_AGE</th>\n",
       "      <th>URBANICITY</th>\n",
       "    </tr>\n",
       "  </thead>\n",
       "  <tbody>\n",
       "    <tr>\n",
       "      <th>0</th>\n",
       "      <td>0</td>\n",
       "      <td>48.0</td>\n",
       "      <td>0</td>\n",
       "      <td>11.0</td>\n",
       "      <td>$52,881</td>\n",
       "      <td>No</td>\n",
       "      <td>$0</td>\n",
       "      <td>z_No</td>\n",
       "      <td>M</td>\n",
       "      <td>Bachelors</td>\n",
       "      <td>...</td>\n",
       "      <td>$21,970</td>\n",
       "      <td>1</td>\n",
       "      <td>Van</td>\n",
       "      <td>yes</td>\n",
       "      <td>$0</td>\n",
       "      <td>0</td>\n",
       "      <td>No</td>\n",
       "      <td>2</td>\n",
       "      <td>10.0</td>\n",
       "      <td>Highly Urban/ Urban</td>\n",
       "    </tr>\n",
       "    <tr>\n",
       "      <th>1</th>\n",
       "      <td>1</td>\n",
       "      <td>40.0</td>\n",
       "      <td>1</td>\n",
       "      <td>11.0</td>\n",
       "      <td>$50,815</td>\n",
       "      <td>Yes</td>\n",
       "      <td>$0</td>\n",
       "      <td>z_No</td>\n",
       "      <td>M</td>\n",
       "      <td>z_High School</td>\n",
       "      <td>...</td>\n",
       "      <td>$18,930</td>\n",
       "      <td>6</td>\n",
       "      <td>Minivan</td>\n",
       "      <td>no</td>\n",
       "      <td>$3,295</td>\n",
       "      <td>1</td>\n",
       "      <td>No</td>\n",
       "      <td>2</td>\n",
       "      <td>1.0</td>\n",
       "      <td>Highly Urban/ Urban</td>\n",
       "    </tr>\n",
       "    <tr>\n",
       "      <th>2</th>\n",
       "      <td>0</td>\n",
       "      <td>44.0</td>\n",
       "      <td>2</td>\n",
       "      <td>12.0</td>\n",
       "      <td>$43,486</td>\n",
       "      <td>Yes</td>\n",
       "      <td>$0</td>\n",
       "      <td>z_No</td>\n",
       "      <td>z_F</td>\n",
       "      <td>z_High School</td>\n",
       "      <td>...</td>\n",
       "      <td>$5,900</td>\n",
       "      <td>10</td>\n",
       "      <td>z_SUV</td>\n",
       "      <td>no</td>\n",
       "      <td>$0</td>\n",
       "      <td>0</td>\n",
       "      <td>No</td>\n",
       "      <td>0</td>\n",
       "      <td>10.0</td>\n",
       "      <td>z_Highly Rural/ Rural</td>\n",
       "    </tr>\n",
       "    <tr>\n",
       "      <th>3</th>\n",
       "      <td>0</td>\n",
       "      <td>35.0</td>\n",
       "      <td>2</td>\n",
       "      <td>NaN</td>\n",
       "      <td>$21,204</td>\n",
       "      <td>Yes</td>\n",
       "      <td>$0</td>\n",
       "      <td>z_No</td>\n",
       "      <td>M</td>\n",
       "      <td>z_High School</td>\n",
       "      <td>...</td>\n",
       "      <td>$9,230</td>\n",
       "      <td>6</td>\n",
       "      <td>Pickup</td>\n",
       "      <td>no</td>\n",
       "      <td>$0</td>\n",
       "      <td>0</td>\n",
       "      <td>Yes</td>\n",
       "      <td>0</td>\n",
       "      <td>4.0</td>\n",
       "      <td>z_Highly Rural/ Rural</td>\n",
       "    </tr>\n",
       "    <tr>\n",
       "      <th>4</th>\n",
       "      <td>0</td>\n",
       "      <td>59.0</td>\n",
       "      <td>0</td>\n",
       "      <td>12.0</td>\n",
       "      <td>$87,460</td>\n",
       "      <td>No</td>\n",
       "      <td>$0</td>\n",
       "      <td>z_No</td>\n",
       "      <td>M</td>\n",
       "      <td>z_High School</td>\n",
       "      <td>...</td>\n",
       "      <td>$15,420</td>\n",
       "      <td>1</td>\n",
       "      <td>Minivan</td>\n",
       "      <td>yes</td>\n",
       "      <td>$44,857</td>\n",
       "      <td>2</td>\n",
       "      <td>No</td>\n",
       "      <td>4</td>\n",
       "      <td>1.0</td>\n",
       "      <td>Highly Urban/ Urban</td>\n",
       "    </tr>\n",
       "  </tbody>\n",
       "</table>\n",
       "<p>5 rows × 23 columns</p>\n",
       "</div>"
      ],
      "text/plain": [
       "   KIDSDRIV   AGE  HOMEKIDS   YOJ   INCOME PARENT1 HOME_VAL MSTATUS  SEX  \\\n",
       "0         0  48.0         0  11.0  $52,881      No       $0    z_No    M   \n",
       "1         1  40.0         1  11.0  $50,815     Yes       $0    z_No    M   \n",
       "2         0  44.0         2  12.0  $43,486     Yes       $0    z_No  z_F   \n",
       "3         0  35.0         2   NaN  $21,204     Yes       $0    z_No    M   \n",
       "4         0  59.0         0  12.0  $87,460      No       $0    z_No    M   \n",
       "\n",
       "       EDUCATION  ... BLUEBOOK  TIF CAR_TYPE RED_CAR  OLDCLAIM CLM_FREQ  \\\n",
       "0      Bachelors  ...  $21,970    1      Van     yes        $0        0   \n",
       "1  z_High School  ...  $18,930    6  Minivan      no    $3,295        1   \n",
       "2  z_High School  ...   $5,900   10    z_SUV      no        $0        0   \n",
       "3  z_High School  ...   $9,230    6   Pickup      no        $0        0   \n",
       "4  z_High School  ...  $15,420    1  Minivan     yes   $44,857        2   \n",
       "\n",
       "  REVOKED MVR_PTS  CAR_AGE             URBANICITY  \n",
       "0      No       2     10.0    Highly Urban/ Urban  \n",
       "1      No       2      1.0    Highly Urban/ Urban  \n",
       "2      No       0     10.0  z_Highly Rural/ Rural  \n",
       "3     Yes       0      4.0  z_Highly Rural/ Rural  \n",
       "4      No       4      1.0    Highly Urban/ Urban  \n",
       "\n",
       "[5 rows x 23 columns]"
      ]
     },
     "execution_count": 54,
     "metadata": {},
     "output_type": "execute_result"
    }
   ],
   "source": [
    "df_test.head()"
   ]
  },
  {
   "cell_type": "markdown",
   "id": "alpha-debate",
   "metadata": {},
   "source": [
    "Looks good to go."
   ]
  },
  {
   "cell_type": "markdown",
   "id": "another-employer",
   "metadata": {},
   "source": [
    "#### Removing the dollar symbol in the anomalous colomns"
   ]
  },
  {
   "cell_type": "code",
   "execution_count": 55,
   "id": "unique-bennett",
   "metadata": {},
   "outputs": [
    {
     "data": {
      "text/html": [
       "<div>\n",
       "<style scoped>\n",
       "    .dataframe tbody tr th:only-of-type {\n",
       "        vertical-align: middle;\n",
       "    }\n",
       "\n",
       "    .dataframe tbody tr th {\n",
       "        vertical-align: top;\n",
       "    }\n",
       "\n",
       "    .dataframe thead th {\n",
       "        text-align: right;\n",
       "    }\n",
       "</style>\n",
       "<table border=\"1\" class=\"dataframe\">\n",
       "  <thead>\n",
       "    <tr style=\"text-align: right;\">\n",
       "      <th></th>\n",
       "      <th>KIDSDRIV</th>\n",
       "      <th>AGE</th>\n",
       "      <th>HOMEKIDS</th>\n",
       "      <th>YOJ</th>\n",
       "      <th>INCOME</th>\n",
       "      <th>PARENT1</th>\n",
       "      <th>HOME_VAL</th>\n",
       "      <th>MSTATUS</th>\n",
       "      <th>SEX</th>\n",
       "      <th>EDUCATION</th>\n",
       "      <th>...</th>\n",
       "      <th>BLUEBOOK</th>\n",
       "      <th>TIF</th>\n",
       "      <th>CAR_TYPE</th>\n",
       "      <th>RED_CAR</th>\n",
       "      <th>OLDCLAIM</th>\n",
       "      <th>CLM_FREQ</th>\n",
       "      <th>REVOKED</th>\n",
       "      <th>MVR_PTS</th>\n",
       "      <th>CAR_AGE</th>\n",
       "      <th>URBANICITY</th>\n",
       "    </tr>\n",
       "  </thead>\n",
       "  <tbody>\n",
       "    <tr>\n",
       "      <th>0</th>\n",
       "      <td>0</td>\n",
       "      <td>48.0</td>\n",
       "      <td>0</td>\n",
       "      <td>11.0</td>\n",
       "      <td>52881.0</td>\n",
       "      <td>No</td>\n",
       "      <td>0.0</td>\n",
       "      <td>z_No</td>\n",
       "      <td>M</td>\n",
       "      <td>Bachelors</td>\n",
       "      <td>...</td>\n",
       "      <td>21970.0</td>\n",
       "      <td>1</td>\n",
       "      <td>Van</td>\n",
       "      <td>yes</td>\n",
       "      <td>0.0</td>\n",
       "      <td>0</td>\n",
       "      <td>No</td>\n",
       "      <td>2</td>\n",
       "      <td>10.0</td>\n",
       "      <td>Highly Urban/ Urban</td>\n",
       "    </tr>\n",
       "    <tr>\n",
       "      <th>1</th>\n",
       "      <td>1</td>\n",
       "      <td>40.0</td>\n",
       "      <td>1</td>\n",
       "      <td>11.0</td>\n",
       "      <td>50815.0</td>\n",
       "      <td>Yes</td>\n",
       "      <td>0.0</td>\n",
       "      <td>z_No</td>\n",
       "      <td>M</td>\n",
       "      <td>z_High School</td>\n",
       "      <td>...</td>\n",
       "      <td>18930.0</td>\n",
       "      <td>6</td>\n",
       "      <td>Minivan</td>\n",
       "      <td>no</td>\n",
       "      <td>3295.0</td>\n",
       "      <td>1</td>\n",
       "      <td>No</td>\n",
       "      <td>2</td>\n",
       "      <td>1.0</td>\n",
       "      <td>Highly Urban/ Urban</td>\n",
       "    </tr>\n",
       "    <tr>\n",
       "      <th>2</th>\n",
       "      <td>0</td>\n",
       "      <td>44.0</td>\n",
       "      <td>2</td>\n",
       "      <td>12.0</td>\n",
       "      <td>43486.0</td>\n",
       "      <td>Yes</td>\n",
       "      <td>0.0</td>\n",
       "      <td>z_No</td>\n",
       "      <td>z_F</td>\n",
       "      <td>z_High School</td>\n",
       "      <td>...</td>\n",
       "      <td>5900.0</td>\n",
       "      <td>10</td>\n",
       "      <td>z_SUV</td>\n",
       "      <td>no</td>\n",
       "      <td>0.0</td>\n",
       "      <td>0</td>\n",
       "      <td>No</td>\n",
       "      <td>0</td>\n",
       "      <td>10.0</td>\n",
       "      <td>z_Highly Rural/ Rural</td>\n",
       "    </tr>\n",
       "    <tr>\n",
       "      <th>3</th>\n",
       "      <td>0</td>\n",
       "      <td>35.0</td>\n",
       "      <td>2</td>\n",
       "      <td>NaN</td>\n",
       "      <td>21204.0</td>\n",
       "      <td>Yes</td>\n",
       "      <td>0.0</td>\n",
       "      <td>z_No</td>\n",
       "      <td>M</td>\n",
       "      <td>z_High School</td>\n",
       "      <td>...</td>\n",
       "      <td>9230.0</td>\n",
       "      <td>6</td>\n",
       "      <td>Pickup</td>\n",
       "      <td>no</td>\n",
       "      <td>0.0</td>\n",
       "      <td>0</td>\n",
       "      <td>Yes</td>\n",
       "      <td>0</td>\n",
       "      <td>4.0</td>\n",
       "      <td>z_Highly Rural/ Rural</td>\n",
       "    </tr>\n",
       "    <tr>\n",
       "      <th>4</th>\n",
       "      <td>0</td>\n",
       "      <td>59.0</td>\n",
       "      <td>0</td>\n",
       "      <td>12.0</td>\n",
       "      <td>87460.0</td>\n",
       "      <td>No</td>\n",
       "      <td>0.0</td>\n",
       "      <td>z_No</td>\n",
       "      <td>M</td>\n",
       "      <td>z_High School</td>\n",
       "      <td>...</td>\n",
       "      <td>15420.0</td>\n",
       "      <td>1</td>\n",
       "      <td>Minivan</td>\n",
       "      <td>yes</td>\n",
       "      <td>44857.0</td>\n",
       "      <td>2</td>\n",
       "      <td>No</td>\n",
       "      <td>4</td>\n",
       "      <td>1.0</td>\n",
       "      <td>Highly Urban/ Urban</td>\n",
       "    </tr>\n",
       "  </tbody>\n",
       "</table>\n",
       "<p>5 rows × 23 columns</p>\n",
       "</div>"
      ],
      "text/plain": [
       "   KIDSDRIV   AGE  HOMEKIDS   YOJ   INCOME PARENT1  HOME_VAL MSTATUS  SEX  \\\n",
       "0         0  48.0         0  11.0  52881.0      No       0.0    z_No    M   \n",
       "1         1  40.0         1  11.0  50815.0     Yes       0.0    z_No    M   \n",
       "2         0  44.0         2  12.0  43486.0     Yes       0.0    z_No  z_F   \n",
       "3         0  35.0         2   NaN  21204.0     Yes       0.0    z_No    M   \n",
       "4         0  59.0         0  12.0  87460.0      No       0.0    z_No    M   \n",
       "\n",
       "       EDUCATION  ... BLUEBOOK  TIF CAR_TYPE  RED_CAR  OLDCLAIM CLM_FREQ  \\\n",
       "0      Bachelors  ...  21970.0    1      Van      yes       0.0        0   \n",
       "1  z_High School  ...  18930.0    6  Minivan       no    3295.0        1   \n",
       "2  z_High School  ...   5900.0   10    z_SUV       no       0.0        0   \n",
       "3  z_High School  ...   9230.0    6   Pickup       no       0.0        0   \n",
       "4  z_High School  ...  15420.0    1  Minivan      yes   44857.0        2   \n",
       "\n",
       "  REVOKED  MVR_PTS  CAR_AGE             URBANICITY  \n",
       "0      No        2     10.0    Highly Urban/ Urban  \n",
       "1      No        2      1.0    Highly Urban/ Urban  \n",
       "2      No        0     10.0  z_Highly Rural/ Rural  \n",
       "3     Yes        0      4.0  z_Highly Rural/ Rural  \n",
       "4      No        4      1.0    Highly Urban/ Urban  \n",
       "\n",
       "[5 rows x 23 columns]"
      ]
     },
     "execution_count": 55,
     "metadata": {},
     "output_type": "execute_result"
    }
   ],
   "source": [
    "df_test[['INCOME','HOME_VAL','BLUEBOOK','OLDCLAIM']] = df_test[['INCOME','HOME_VAL','BLUEBOOK',\n",
    "                                                                'OLDCLAIM']].replace('[\\$,]',\n",
    "                                                                                     '', regex=True).astype(float)\n",
    "df_test.head()"
   ]
  },
  {
   "cell_type": "markdown",
   "id": "radical-penguin",
   "metadata": {},
   "source": [
    "#### Arrange all the categorical colomns and numerical colomns together"
   ]
  },
  {
   "cell_type": "code",
   "execution_count": 56,
   "id": "ignored-michigan",
   "metadata": {},
   "outputs": [],
   "source": [
    "nums = ['KIDSDRIV', 'AGE', 'HOMEKIDS', 'YOJ', 'TRAVTIME', 'TIF', 'CLM_FREQ', 'MVR_PTS', 'CAR_AGE', \n",
    "        'INCOME', 'HOME_VAL', 'BLUEBOOK', 'OLDCLAIM']\n",
    "# Arrange all the categorical colomns and numerical colomns together\n",
    "df_test = pd.concat((df_test[cats], df_test[nums]), axis=1)"
   ]
  },
  {
   "cell_type": "markdown",
   "id": "average-reunion",
   "metadata": {},
   "source": [
    "#### Remove all the empty rows "
   ]
  },
  {
   "cell_type": "code",
   "execution_count": 57,
   "id": "private-forestry",
   "metadata": {},
   "outputs": [
    {
     "data": {
      "text/plain": [
       "PARENT1         0\n",
       "MSTATUS         0\n",
       "SEX             0\n",
       "EDUCATION       0\n",
       "JOB           139\n",
       "CAR_USE         0\n",
       "CAR_TYPE        0\n",
       "RED_CAR         0\n",
       "REVOKED         0\n",
       "URBANICITY      0\n",
       "KIDSDRIV        0\n",
       "AGE             1\n",
       "HOMEKIDS        0\n",
       "YOJ            94\n",
       "TRAVTIME        0\n",
       "TIF             0\n",
       "CLM_FREQ        0\n",
       "MVR_PTS         0\n",
       "CAR_AGE       129\n",
       "INCOME        125\n",
       "HOME_VAL      111\n",
       "BLUEBOOK        0\n",
       "OLDCLAIM        0\n",
       "dtype: int64"
      ]
     },
     "execution_count": 57,
     "metadata": {},
     "output_type": "execute_result"
    }
   ],
   "source": [
    "# We have to remove the empty rows \n",
    "\n",
    "# check for `nans` in each column\n",
    "df_test.isna().sum()"
   ]
  },
  {
   "cell_type": "code",
   "execution_count": 58,
   "id": "indirect-limitation",
   "metadata": {},
   "outputs": [
    {
     "data": {
      "text/plain": [
       "(2141, 23)"
      ]
     },
     "execution_count": 58,
     "metadata": {},
     "output_type": "execute_result"
    }
   ],
   "source": [
    "df_test.shape"
   ]
  },
  {
   "cell_type": "code",
   "execution_count": 59,
   "id": "delayed-blackberry",
   "metadata": {
    "scrolled": true
   },
   "outputs": [
    {
     "name": "stdout",
     "output_type": "stream",
     "text": [
      "The percentage of rows with missing values is:  24.708080336291452\n"
     ]
    }
   ],
   "source": [
    "print(\"The percentage of rows with missing values is: \", 100*len(df_test[df_test.isnull().any(axis=1)])/len(df_test))"
   ]
  },
  {
   "cell_type": "code",
   "execution_count": 60,
   "id": "intensive-booking",
   "metadata": {},
   "outputs": [
    {
     "data": {
      "text/plain": [
       "(1612, 23)"
      ]
     },
     "execution_count": 60,
     "metadata": {},
     "output_type": "execute_result"
    }
   ],
   "source": [
    "# now remove all nan rows \n",
    "df_test = df_test[~df_test.isnull().any(axis=1)]\n",
    "df_test.reset_index(inplace=True)\n",
    "df_test.drop('index', inplace=True, axis=1)\n",
    "df_test.shape"
   ]
  },
  {
   "cell_type": "code",
   "execution_count": 61,
   "id": "vertical-inventory",
   "metadata": {},
   "outputs": [
    {
     "data": {
      "text/plain": [
       "PARENT1       0\n",
       "MSTATUS       0\n",
       "SEX           0\n",
       "EDUCATION     0\n",
       "JOB           0\n",
       "CAR_USE       0\n",
       "CAR_TYPE      0\n",
       "RED_CAR       0\n",
       "REVOKED       0\n",
       "URBANICITY    0\n",
       "KIDSDRIV      0\n",
       "AGE           0\n",
       "HOMEKIDS      0\n",
       "YOJ           0\n",
       "TRAVTIME      0\n",
       "TIF           0\n",
       "CLM_FREQ      0\n",
       "MVR_PTS       0\n",
       "CAR_AGE       0\n",
       "INCOME        0\n",
       "HOME_VAL      0\n",
       "BLUEBOOK      0\n",
       "OLDCLAIM      0\n",
       "dtype: int64"
      ]
     },
     "execution_count": 61,
     "metadata": {},
     "output_type": "execute_result"
    }
   ],
   "source": [
    "# check for `nans` in each column\n",
    "df_test.isna().sum()"
   ]
  },
  {
   "cell_type": "markdown",
   "id": "ideal-identifier",
   "metadata": {},
   "source": [
    "#### Remove duplicate rows if any"
   ]
  },
  {
   "cell_type": "code",
   "execution_count": 62,
   "id": "round-demonstration",
   "metadata": {},
   "outputs": [
    {
     "name": "stdout",
     "output_type": "stream",
     "text": [
      "total duplicate rows: 0\n"
     ]
    },
    {
     "data": {
      "text/plain": [
       "(1612, 23)"
      ]
     },
     "execution_count": 62,
     "metadata": {},
     "output_type": "execute_result"
    }
   ],
   "source": [
    "# find total duplicate entries and drop them if any\n",
    "print(f'total duplicate rows: {df_test.duplicated().sum()}')\n",
    "\n",
    "# drop duplicate rows if any\n",
    "df_test = df_test[~df_test.duplicated()]\n",
    "df_test.shape"
   ]
  },
  {
   "cell_type": "markdown",
   "id": "saving-explorer",
   "metadata": {},
   "source": [
    "### Encoding the categorical variables"
   ]
  },
  {
   "cell_type": "markdown",
   "id": "headed-senate",
   "metadata": {},
   "source": [
    "#### Perform one-hot encoding"
   ]
  },
  {
   "cell_type": "code",
   "execution_count": 63,
   "id": "needed-velvet",
   "metadata": {
    "scrolled": false
   },
   "outputs": [
    {
     "name": "stdout",
     "output_type": "stream",
     "text": [
      "(1612, 10)\n",
      "(1612, 33)\n",
      "<class 'pandas.core.frame.DataFrame'>\n"
     ]
    },
    {
     "data": {
      "text/html": [
       "<div>\n",
       "<style scoped>\n",
       "    .dataframe tbody tr th:only-of-type {\n",
       "        vertical-align: middle;\n",
       "    }\n",
       "\n",
       "    .dataframe tbody tr th {\n",
       "        vertical-align: top;\n",
       "    }\n",
       "\n",
       "    .dataframe thead th {\n",
       "        text-align: right;\n",
       "    }\n",
       "</style>\n",
       "<table border=\"1\" class=\"dataframe\">\n",
       "  <thead>\n",
       "    <tr style=\"text-align: right;\">\n",
       "      <th></th>\n",
       "      <th>0</th>\n",
       "      <th>1</th>\n",
       "      <th>2</th>\n",
       "      <th>3</th>\n",
       "      <th>4</th>\n",
       "      <th>5</th>\n",
       "      <th>6</th>\n",
       "      <th>7</th>\n",
       "      <th>8</th>\n",
       "      <th>9</th>\n",
       "      <th>...</th>\n",
       "      <th>23</th>\n",
       "      <th>24</th>\n",
       "      <th>25</th>\n",
       "      <th>26</th>\n",
       "      <th>27</th>\n",
       "      <th>28</th>\n",
       "      <th>29</th>\n",
       "      <th>30</th>\n",
       "      <th>31</th>\n",
       "      <th>32</th>\n",
       "    </tr>\n",
       "  </thead>\n",
       "  <tbody>\n",
       "    <tr>\n",
       "      <th>0</th>\n",
       "      <td>1.0</td>\n",
       "      <td>0.0</td>\n",
       "      <td>0.0</td>\n",
       "      <td>1.0</td>\n",
       "      <td>1.0</td>\n",
       "      <td>0.0</td>\n",
       "      <td>0.0</td>\n",
       "      <td>1.0</td>\n",
       "      <td>0.0</td>\n",
       "      <td>0.0</td>\n",
       "      <td>...</td>\n",
       "      <td>0.0</td>\n",
       "      <td>0.0</td>\n",
       "      <td>1.0</td>\n",
       "      <td>0.0</td>\n",
       "      <td>0.0</td>\n",
       "      <td>1.0</td>\n",
       "      <td>1.0</td>\n",
       "      <td>0.0</td>\n",
       "      <td>1.0</td>\n",
       "      <td>0.0</td>\n",
       "    </tr>\n",
       "    <tr>\n",
       "      <th>1</th>\n",
       "      <td>0.0</td>\n",
       "      <td>1.0</td>\n",
       "      <td>0.0</td>\n",
       "      <td>1.0</td>\n",
       "      <td>1.0</td>\n",
       "      <td>0.0</td>\n",
       "      <td>0.0</td>\n",
       "      <td>0.0</td>\n",
       "      <td>0.0</td>\n",
       "      <td>0.0</td>\n",
       "      <td>...</td>\n",
       "      <td>0.0</td>\n",
       "      <td>0.0</td>\n",
       "      <td>0.0</td>\n",
       "      <td>0.0</td>\n",
       "      <td>1.0</td>\n",
       "      <td>0.0</td>\n",
       "      <td>1.0</td>\n",
       "      <td>0.0</td>\n",
       "      <td>1.0</td>\n",
       "      <td>0.0</td>\n",
       "    </tr>\n",
       "    <tr>\n",
       "      <th>2</th>\n",
       "      <td>0.0</td>\n",
       "      <td>1.0</td>\n",
       "      <td>0.0</td>\n",
       "      <td>1.0</td>\n",
       "      <td>0.0</td>\n",
       "      <td>1.0</td>\n",
       "      <td>0.0</td>\n",
       "      <td>0.0</td>\n",
       "      <td>0.0</td>\n",
       "      <td>0.0</td>\n",
       "      <td>...</td>\n",
       "      <td>0.0</td>\n",
       "      <td>0.0</td>\n",
       "      <td>0.0</td>\n",
       "      <td>1.0</td>\n",
       "      <td>1.0</td>\n",
       "      <td>0.0</td>\n",
       "      <td>1.0</td>\n",
       "      <td>0.0</td>\n",
       "      <td>0.0</td>\n",
       "      <td>1.0</td>\n",
       "    </tr>\n",
       "    <tr>\n",
       "      <th>3</th>\n",
       "      <td>1.0</td>\n",
       "      <td>0.0</td>\n",
       "      <td>0.0</td>\n",
       "      <td>1.0</td>\n",
       "      <td>1.0</td>\n",
       "      <td>0.0</td>\n",
       "      <td>0.0</td>\n",
       "      <td>0.0</td>\n",
       "      <td>0.0</td>\n",
       "      <td>0.0</td>\n",
       "      <td>...</td>\n",
       "      <td>0.0</td>\n",
       "      <td>0.0</td>\n",
       "      <td>0.0</td>\n",
       "      <td>0.0</td>\n",
       "      <td>0.0</td>\n",
       "      <td>1.0</td>\n",
       "      <td>1.0</td>\n",
       "      <td>0.0</td>\n",
       "      <td>1.0</td>\n",
       "      <td>0.0</td>\n",
       "    </tr>\n",
       "    <tr>\n",
       "      <th>4</th>\n",
       "      <td>1.0</td>\n",
       "      <td>0.0</td>\n",
       "      <td>1.0</td>\n",
       "      <td>0.0</td>\n",
       "      <td>0.0</td>\n",
       "      <td>1.0</td>\n",
       "      <td>0.0</td>\n",
       "      <td>0.0</td>\n",
       "      <td>0.0</td>\n",
       "      <td>0.0</td>\n",
       "      <td>...</td>\n",
       "      <td>0.0</td>\n",
       "      <td>1.0</td>\n",
       "      <td>0.0</td>\n",
       "      <td>0.0</td>\n",
       "      <td>1.0</td>\n",
       "      <td>0.0</td>\n",
       "      <td>1.0</td>\n",
       "      <td>0.0</td>\n",
       "      <td>1.0</td>\n",
       "      <td>0.0</td>\n",
       "    </tr>\n",
       "  </tbody>\n",
       "</table>\n",
       "<p>5 rows × 33 columns</p>\n",
       "</div>"
      ],
      "text/plain": [
       "    0    1    2    3    4    5    6    7    8    9   ...   23   24   25   26  \\\n",
       "0  1.0  0.0  0.0  1.0  1.0  0.0  0.0  1.0  0.0  0.0  ...  0.0  0.0  1.0  0.0   \n",
       "1  0.0  1.0  0.0  1.0  1.0  0.0  0.0  0.0  0.0  0.0  ...  0.0  0.0  0.0  0.0   \n",
       "2  0.0  1.0  0.0  1.0  0.0  1.0  0.0  0.0  0.0  0.0  ...  0.0  0.0  0.0  1.0   \n",
       "3  1.0  0.0  0.0  1.0  1.0  0.0  0.0  0.0  0.0  0.0  ...  0.0  0.0  0.0  0.0   \n",
       "4  1.0  0.0  1.0  0.0  0.0  1.0  0.0  0.0  0.0  0.0  ...  0.0  1.0  0.0  0.0   \n",
       "\n",
       "    27   28   29   30   31   32  \n",
       "0  0.0  1.0  1.0  0.0  1.0  0.0  \n",
       "1  1.0  0.0  1.0  0.0  1.0  0.0  \n",
       "2  1.0  0.0  1.0  0.0  0.0  1.0  \n",
       "3  0.0  1.0  1.0  0.0  1.0  0.0  \n",
       "4  1.0  0.0  1.0  0.0  1.0  0.0  \n",
       "\n",
       "[5 rows x 33 columns]"
      ]
     },
     "execution_count": 63,
     "metadata": {},
     "output_type": "execute_result"
    }
   ],
   "source": [
    "# Let us encode the categorical variables of the dataframe\n",
    "\n",
    "x_test_cat = df_test[cats]\n",
    "print(x_test_cat.shape)\n",
    "\n",
    "x_test_cat_one_hot_matrix =  enc.transform(x_test_cat).toarray()\n",
    "print(x_test_cat_one_hot_matrix.shape)\n",
    "\n",
    "x_test_cat_one_hot = pd.DataFrame(data=x_test_cat_one_hot_matrix)\n",
    "\n",
    "print(type(x_test_cat_one_hot ))\n",
    "x_test_cat_one_hot.head()"
   ]
  },
  {
   "cell_type": "code",
   "execution_count": 64,
   "id": "psychological-current",
   "metadata": {},
   "outputs": [
    {
     "data": {
      "text/plain": [
       "(1612, 23)"
      ]
     },
     "execution_count": 64,
     "metadata": {},
     "output_type": "execute_result"
    }
   ],
   "source": [
    "df_test.shape"
   ]
  },
  {
   "cell_type": "code",
   "execution_count": 65,
   "id": "optimum-medline",
   "metadata": {},
   "outputs": [
    {
     "data": {
      "text/plain": [
       "(1612, 46)"
      ]
     },
     "execution_count": 65,
     "metadata": {},
     "output_type": "execute_result"
    }
   ],
   "source": [
    "# changing the test df\n",
    "df_test = pd.concat([df_test, x_test_cat_one_hot], axis=1).drop(cats, axis=1)\n",
    "\n",
    "df_test.shape"
   ]
  },
  {
   "cell_type": "code",
   "execution_count": 66,
   "id": "rural-objective",
   "metadata": {
    "scrolled": true
   },
   "outputs": [
    {
     "data": {
      "text/html": [
       "<div>\n",
       "<style scoped>\n",
       "    .dataframe tbody tr th:only-of-type {\n",
       "        vertical-align: middle;\n",
       "    }\n",
       "\n",
       "    .dataframe tbody tr th {\n",
       "        vertical-align: top;\n",
       "    }\n",
       "\n",
       "    .dataframe thead th {\n",
       "        text-align: right;\n",
       "    }\n",
       "</style>\n",
       "<table border=\"1\" class=\"dataframe\">\n",
       "  <thead>\n",
       "    <tr style=\"text-align: right;\">\n",
       "      <th></th>\n",
       "      <th>KIDSDRIV</th>\n",
       "      <th>AGE</th>\n",
       "      <th>HOMEKIDS</th>\n",
       "      <th>YOJ</th>\n",
       "      <th>TRAVTIME</th>\n",
       "      <th>TIF</th>\n",
       "      <th>CLM_FREQ</th>\n",
       "      <th>MVR_PTS</th>\n",
       "      <th>CAR_AGE</th>\n",
       "      <th>INCOME</th>\n",
       "      <th>...</th>\n",
       "      <th>23</th>\n",
       "      <th>24</th>\n",
       "      <th>25</th>\n",
       "      <th>26</th>\n",
       "      <th>27</th>\n",
       "      <th>28</th>\n",
       "      <th>29</th>\n",
       "      <th>30</th>\n",
       "      <th>31</th>\n",
       "      <th>32</th>\n",
       "    </tr>\n",
       "  </thead>\n",
       "  <tbody>\n",
       "    <tr>\n",
       "      <th>0</th>\n",
       "      <td>0</td>\n",
       "      <td>48.0</td>\n",
       "      <td>0</td>\n",
       "      <td>11.0</td>\n",
       "      <td>26</td>\n",
       "      <td>1</td>\n",
       "      <td>0</td>\n",
       "      <td>2</td>\n",
       "      <td>10.0</td>\n",
       "      <td>52881.0</td>\n",
       "      <td>...</td>\n",
       "      <td>0.0</td>\n",
       "      <td>0.0</td>\n",
       "      <td>1.0</td>\n",
       "      <td>0.0</td>\n",
       "      <td>0.0</td>\n",
       "      <td>1.0</td>\n",
       "      <td>1.0</td>\n",
       "      <td>0.0</td>\n",
       "      <td>1.0</td>\n",
       "      <td>0.0</td>\n",
       "    </tr>\n",
       "    <tr>\n",
       "      <th>1</th>\n",
       "      <td>1</td>\n",
       "      <td>40.0</td>\n",
       "      <td>1</td>\n",
       "      <td>11.0</td>\n",
       "      <td>21</td>\n",
       "      <td>6</td>\n",
       "      <td>1</td>\n",
       "      <td>2</td>\n",
       "      <td>1.0</td>\n",
       "      <td>50815.0</td>\n",
       "      <td>...</td>\n",
       "      <td>0.0</td>\n",
       "      <td>0.0</td>\n",
       "      <td>0.0</td>\n",
       "      <td>0.0</td>\n",
       "      <td>1.0</td>\n",
       "      <td>0.0</td>\n",
       "      <td>1.0</td>\n",
       "      <td>0.0</td>\n",
       "      <td>1.0</td>\n",
       "      <td>0.0</td>\n",
       "    </tr>\n",
       "    <tr>\n",
       "      <th>2</th>\n",
       "      <td>0</td>\n",
       "      <td>44.0</td>\n",
       "      <td>2</td>\n",
       "      <td>12.0</td>\n",
       "      <td>30</td>\n",
       "      <td>10</td>\n",
       "      <td>0</td>\n",
       "      <td>0</td>\n",
       "      <td>10.0</td>\n",
       "      <td>43486.0</td>\n",
       "      <td>...</td>\n",
       "      <td>0.0</td>\n",
       "      <td>0.0</td>\n",
       "      <td>0.0</td>\n",
       "      <td>1.0</td>\n",
       "      <td>1.0</td>\n",
       "      <td>0.0</td>\n",
       "      <td>1.0</td>\n",
       "      <td>0.0</td>\n",
       "      <td>0.0</td>\n",
       "      <td>1.0</td>\n",
       "    </tr>\n",
       "    <tr>\n",
       "      <th>3</th>\n",
       "      <td>0</td>\n",
       "      <td>59.0</td>\n",
       "      <td>0</td>\n",
       "      <td>12.0</td>\n",
       "      <td>45</td>\n",
       "      <td>1</td>\n",
       "      <td>2</td>\n",
       "      <td>4</td>\n",
       "      <td>1.0</td>\n",
       "      <td>87460.0</td>\n",
       "      <td>...</td>\n",
       "      <td>0.0</td>\n",
       "      <td>0.0</td>\n",
       "      <td>0.0</td>\n",
       "      <td>0.0</td>\n",
       "      <td>0.0</td>\n",
       "      <td>1.0</td>\n",
       "      <td>1.0</td>\n",
       "      <td>0.0</td>\n",
       "      <td>1.0</td>\n",
       "      <td>0.0</td>\n",
       "    </tr>\n",
       "    <tr>\n",
       "      <th>4</th>\n",
       "      <td>0</td>\n",
       "      <td>60.0</td>\n",
       "      <td>0</td>\n",
       "      <td>12.0</td>\n",
       "      <td>16</td>\n",
       "      <td>1</td>\n",
       "      <td>0</td>\n",
       "      <td>0</td>\n",
       "      <td>1.0</td>\n",
       "      <td>37940.0</td>\n",
       "      <td>...</td>\n",
       "      <td>0.0</td>\n",
       "      <td>1.0</td>\n",
       "      <td>0.0</td>\n",
       "      <td>0.0</td>\n",
       "      <td>1.0</td>\n",
       "      <td>0.0</td>\n",
       "      <td>1.0</td>\n",
       "      <td>0.0</td>\n",
       "      <td>1.0</td>\n",
       "      <td>0.0</td>\n",
       "    </tr>\n",
       "  </tbody>\n",
       "</table>\n",
       "<p>5 rows × 46 columns</p>\n",
       "</div>"
      ],
      "text/plain": [
       "   KIDSDRIV   AGE  HOMEKIDS   YOJ  TRAVTIME  TIF  CLM_FREQ  MVR_PTS  CAR_AGE  \\\n",
       "0         0  48.0         0  11.0        26    1         0        2     10.0   \n",
       "1         1  40.0         1  11.0        21    6         1        2      1.0   \n",
       "2         0  44.0         2  12.0        30   10         0        0     10.0   \n",
       "3         0  59.0         0  12.0        45    1         2        4      1.0   \n",
       "4         0  60.0         0  12.0        16    1         0        0      1.0   \n",
       "\n",
       "    INCOME  ...   23   24   25   26   27   28   29   30   31   32  \n",
       "0  52881.0  ...  0.0  0.0  1.0  0.0  0.0  1.0  1.0  0.0  1.0  0.0  \n",
       "1  50815.0  ...  0.0  0.0  0.0  0.0  1.0  0.0  1.0  0.0  1.0  0.0  \n",
       "2  43486.0  ...  0.0  0.0  0.0  1.0  1.0  0.0  1.0  0.0  0.0  1.0  \n",
       "3  87460.0  ...  0.0  0.0  0.0  0.0  0.0  1.0  1.0  0.0  1.0  0.0  \n",
       "4  37940.0  ...  0.0  1.0  0.0  0.0  1.0  0.0  1.0  0.0  1.0  0.0  \n",
       "\n",
       "[5 rows x 46 columns]"
      ]
     },
     "execution_count": 66,
     "metadata": {},
     "output_type": "execute_result"
    }
   ],
   "source": [
    "df_test.head() # Now we have our test data in the same format as our training data"
   ]
  },
  {
   "cell_type": "markdown",
   "id": "preliminary-patio",
   "metadata": {},
   "source": [
    "#### Verify column order match for the prepared training and test data"
   ]
  },
  {
   "cell_type": "code",
   "execution_count": 67,
   "id": "sudden-therapist",
   "metadata": {},
   "outputs": [
    {
     "name": "stdout",
     "output_type": "stream",
     "text": [
      "The columns for Train data are: \n",
      "['KIDSDRIV', 'AGE', 'HOMEKIDS', 'YOJ', 'TRAVTIME', 'TIF', 'CLM_FREQ', 'MVR_PTS', 'CAR_AGE', 'INCOME', 'HOME_VAL', 'BLUEBOOK', 'OLDCLAIM', 0, 1, 2, 3, 4, 5, 6, 7, 8, 9, 10, 11, 12, 13, 14, 15, 16, 17, 18, 19, 20, 21, 22, 23, 24, 25, 26, 27, 28, 29, 30, 31, 32]\n",
      "\n",
      "The columns for Test data are: \n",
      "['KIDSDRIV', 'AGE', 'HOMEKIDS', 'YOJ', 'TRAVTIME', 'TIF', 'CLM_FREQ', 'MVR_PTS', 'CAR_AGE', 'INCOME', 'HOME_VAL', 'BLUEBOOK', 'OLDCLAIM', 0, 1, 2, 3, 4, 5, 6, 7, 8, 9, 10, 11, 12, 13, 14, 15, 16, 17, 18, 19, 20, 21, 22, 23, 24, 25, 26, 27, 28, 29, 30, 31, 32]\n"
     ]
    }
   ],
   "source": [
    "print(\"The columns for Train data are: \")\n",
    "print(list(df_test.columns))\n",
    "print()\n",
    "print(\"The columns for Test data are: \")\n",
    "print(list(x_train.columns))\n"
   ]
  },
  {
   "cell_type": "markdown",
   "id": "compact-herald",
   "metadata": {},
   "source": [
    "The column orders match and our test dataframe is ready to be fed to our Machine learning models for generating predictions."
   ]
  },
  {
   "cell_type": "markdown",
   "id": "concerned-glance",
   "metadata": {},
   "source": [
    "### Logistic regression predictions on the processed test data"
   ]
  },
  {
   "cell_type": "markdown",
   "id": "improving-reception",
   "metadata": {},
   "source": [
    "#### Prediction of class output"
   ]
  },
  {
   "cell_type": "code",
   "execution_count": 68,
   "id": "wrong-newton",
   "metadata": {},
   "outputs": [
    {
     "name": "stdout",
     "output_type": "stream",
     "text": [
      "<class 'numpy.ndarray'>\n",
      "[1 1 1 ... 0 0 0]\n"
     ]
    }
   ],
   "source": [
    "# Prediction from the L1-LogReg model\n",
    "y_pred_logreg_test = logReg_L1.predict(df_test)\n",
    "print(type(y_pred_logreg_test))\n",
    "print(y_pred_logreg_test)"
   ]
  },
  {
   "cell_type": "code",
   "execution_count": 69,
   "id": "impressed-christian",
   "metadata": {},
   "outputs": [
    {
     "name": "stdout",
     "output_type": "stream",
     "text": [
      "(1612, 1)\n"
     ]
    },
    {
     "data": {
      "text/html": [
       "<div>\n",
       "<style scoped>\n",
       "    .dataframe tbody tr th:only-of-type {\n",
       "        vertical-align: middle;\n",
       "    }\n",
       "\n",
       "    .dataframe tbody tr th {\n",
       "        vertical-align: top;\n",
       "    }\n",
       "\n",
       "    .dataframe thead th {\n",
       "        text-align: right;\n",
       "    }\n",
       "</style>\n",
       "<table border=\"1\" class=\"dataframe\">\n",
       "  <thead>\n",
       "    <tr style=\"text-align: right;\">\n",
       "      <th></th>\n",
       "      <th>PREDICTED_TARGET</th>\n",
       "    </tr>\n",
       "  </thead>\n",
       "  <tbody>\n",
       "    <tr>\n",
       "      <th>0</th>\n",
       "      <td>1</td>\n",
       "    </tr>\n",
       "    <tr>\n",
       "      <th>1</th>\n",
       "      <td>1</td>\n",
       "    </tr>\n",
       "    <tr>\n",
       "      <th>2</th>\n",
       "      <td>1</td>\n",
       "    </tr>\n",
       "    <tr>\n",
       "      <th>3</th>\n",
       "      <td>1</td>\n",
       "    </tr>\n",
       "    <tr>\n",
       "      <th>4</th>\n",
       "      <td>0</td>\n",
       "    </tr>\n",
       "  </tbody>\n",
       "</table>\n",
       "</div>"
      ],
      "text/plain": [
       "   PREDICTED_TARGET\n",
       "0                 1\n",
       "1                 1\n",
       "2                 1\n",
       "3                 1\n",
       "4                 0"
      ]
     },
     "execution_count": 69,
     "metadata": {},
     "output_type": "execute_result"
    }
   ],
   "source": [
    "# writing the results along with the index to a new file\n",
    "\n",
    "#  Convert to df and put a column name - PREDICTED-TARGET\n",
    "#LR-test = pd.dataframe(y_pred_logreg_test,columns=['PREDICTED'])\n",
    "\n",
    "LR_test = pd.DataFrame(data=y_pred_logreg_test, columns=['PREDICTED_TARGET'])\n",
    "print(LR_test.shape)\n",
    "LR_test.head()"
   ]
  },
  {
   "cell_type": "code",
   "execution_count": 70,
   "id": "final-figure",
   "metadata": {
    "scrolled": false
   },
   "outputs": [
    {
     "name": "stdout",
     "output_type": "stream",
     "text": [
      "(2141, 2)\n"
     ]
    },
    {
     "data": {
      "text/html": [
       "<div>\n",
       "<style scoped>\n",
       "    .dataframe tbody tr th:only-of-type {\n",
       "        vertical-align: middle;\n",
       "    }\n",
       "\n",
       "    .dataframe tbody tr th {\n",
       "        vertical-align: top;\n",
       "    }\n",
       "\n",
       "    .dataframe thead th {\n",
       "        text-align: right;\n",
       "    }\n",
       "</style>\n",
       "<table border=\"1\" class=\"dataframe\">\n",
       "  <thead>\n",
       "    <tr style=\"text-align: right;\">\n",
       "      <th></th>\n",
       "      <th>INDEX</th>\n",
       "      <th>PREDICTED_TARGET</th>\n",
       "    </tr>\n",
       "  </thead>\n",
       "  <tbody>\n",
       "    <tr>\n",
       "      <th>0</th>\n",
       "      <td>3</td>\n",
       "      <td>1.0</td>\n",
       "    </tr>\n",
       "    <tr>\n",
       "      <th>1</th>\n",
       "      <td>9</td>\n",
       "      <td>1.0</td>\n",
       "    </tr>\n",
       "    <tr>\n",
       "      <th>2</th>\n",
       "      <td>10</td>\n",
       "      <td>1.0</td>\n",
       "    </tr>\n",
       "    <tr>\n",
       "      <th>3</th>\n",
       "      <td>18</td>\n",
       "      <td>1.0</td>\n",
       "    </tr>\n",
       "    <tr>\n",
       "      <th>4</th>\n",
       "      <td>21</td>\n",
       "      <td>0.0</td>\n",
       "    </tr>\n",
       "  </tbody>\n",
       "</table>\n",
       "</div>"
      ],
      "text/plain": [
       "   INDEX  PREDICTED_TARGET\n",
       "0      3               1.0\n",
       "1      9               1.0\n",
       "2     10               1.0\n",
       "3     18               1.0\n",
       "4     21               0.0"
      ]
     },
     "execution_count": 70,
     "metadata": {},
     "output_type": "execute_result"
    }
   ],
   "source": [
    "# Append index and write to a new csv file\n",
    "\n",
    "LR = pd.concat([index, LR_test], axis=1)\n",
    "print(LR.shape)\n",
    "LR.head()"
   ]
  },
  {
   "cell_type": "markdown",
   "id": "premier-joshua",
   "metadata": {},
   "source": [
    "##### Note:\n",
    "We are appending all the indexes hence for some rows we will have no predicted target (NAN). At this stage we are not removing them so that there is visibility and these NAN rows can be treated seperately."
   ]
  },
  {
   "cell_type": "code",
   "execution_count": 90,
   "id": "musical-compatibility",
   "metadata": {},
   "outputs": [],
   "source": [
    "# Write to csv\n",
    "LR.to_csv('Logistic_Regression_test-classifications.csv', index=False)"
   ]
  },
  {
   "cell_type": "markdown",
   "id": "outside-victory",
   "metadata": {},
   "source": [
    "The final predictions of the Logistic regression model are thus stored per index in 'Logistic_Regression_test-results.csv'. "
   ]
  },
  {
   "cell_type": "markdown",
   "id": "dominant-cloud",
   "metadata": {},
   "source": [
    "#### Prediction of probabilities assosciated for each class prediction"
   ]
  },
  {
   "cell_type": "code",
   "execution_count": 73,
   "id": "radical-sixth",
   "metadata": {},
   "outputs": [
    {
     "name": "stdout",
     "output_type": "stream",
     "text": [
      "<class 'numpy.ndarray'>\n",
      "[[0.46534582 0.53465418]\n",
      " [0.43860559 0.56139441]\n",
      " [0.49583315 0.50416685]\n",
      " ...\n",
      " [0.55843403 0.44156597]\n",
      " [0.71128152 0.28871848]\n",
      " [0.58378221 0.41621779]]\n"
     ]
    }
   ],
   "source": [
    "# Optionally print probabilites of each classification\n",
    "y_pred_logregprob_test = logReg_L1.predict_proba(df_test)\n",
    "print(type(y_pred_logregprob_test))\n",
    "print(y_pred_logregprob_test)\n",
    "\n",
    "# The probabilities of class segregation are printed for each class and for each row of our test data. "
   ]
  },
  {
   "cell_type": "markdown",
   "id": "ultimate-cooler",
   "metadata": {},
   "source": [
    "The class probabilites printed could give us an idea on the confidence with which our model estimates the class of the corresponding element(row) of our test data.\n",
    "\n",
    "Let us write this also to a file.\n"
   ]
  },
  {
   "cell_type": "code",
   "execution_count": 75,
   "id": "caroline-monitor",
   "metadata": {},
   "outputs": [
    {
     "name": "stdout",
     "output_type": "stream",
     "text": [
      "(1612, 2)\n"
     ]
    },
    {
     "data": {
      "text/html": [
       "<div>\n",
       "<style scoped>\n",
       "    .dataframe tbody tr th:only-of-type {\n",
       "        vertical-align: middle;\n",
       "    }\n",
       "\n",
       "    .dataframe tbody tr th {\n",
       "        vertical-align: top;\n",
       "    }\n",
       "\n",
       "    .dataframe thead th {\n",
       "        text-align: right;\n",
       "    }\n",
       "</style>\n",
       "<table border=\"1\" class=\"dataframe\">\n",
       "  <thead>\n",
       "    <tr style=\"text-align: right;\">\n",
       "      <th></th>\n",
       "      <th>NO CLAIM PROBABILITY</th>\n",
       "      <th>CLAIM PROBABILITY</th>\n",
       "    </tr>\n",
       "  </thead>\n",
       "  <tbody>\n",
       "    <tr>\n",
       "      <th>0</th>\n",
       "      <td>0.465346</td>\n",
       "      <td>0.534654</td>\n",
       "    </tr>\n",
       "    <tr>\n",
       "      <th>1</th>\n",
       "      <td>0.438606</td>\n",
       "      <td>0.561394</td>\n",
       "    </tr>\n",
       "    <tr>\n",
       "      <th>2</th>\n",
       "      <td>0.495833</td>\n",
       "      <td>0.504167</td>\n",
       "    </tr>\n",
       "    <tr>\n",
       "      <th>3</th>\n",
       "      <td>0.136578</td>\n",
       "      <td>0.863422</td>\n",
       "    </tr>\n",
       "    <tr>\n",
       "      <th>4</th>\n",
       "      <td>0.595603</td>\n",
       "      <td>0.404397</td>\n",
       "    </tr>\n",
       "  </tbody>\n",
       "</table>\n",
       "</div>"
      ],
      "text/plain": [
       "   NO CLAIM PROBABILITY  CLAIM PROBABILITY\n",
       "0              0.465346           0.534654\n",
       "1              0.438606           0.561394\n",
       "2              0.495833           0.504167\n",
       "3              0.136578           0.863422\n",
       "4              0.595603           0.404397"
      ]
     },
     "execution_count": 75,
     "metadata": {},
     "output_type": "execute_result"
    }
   ],
   "source": [
    "LRprob_test = pd.DataFrame(data=y_pred_logregprob_test, columns=['NO CLAIM PROBABILITY','CLAIM PROBABILITY'])\n",
    "print(LRprob_test.shape)\n",
    "LRprob_test.head()"
   ]
  },
  {
   "cell_type": "code",
   "execution_count": 76,
   "id": "given-philosophy",
   "metadata": {},
   "outputs": [
    {
     "name": "stdout",
     "output_type": "stream",
     "text": [
      "(2141, 3)\n"
     ]
    },
    {
     "data": {
      "text/html": [
       "<div>\n",
       "<style scoped>\n",
       "    .dataframe tbody tr th:only-of-type {\n",
       "        vertical-align: middle;\n",
       "    }\n",
       "\n",
       "    .dataframe tbody tr th {\n",
       "        vertical-align: top;\n",
       "    }\n",
       "\n",
       "    .dataframe thead th {\n",
       "        text-align: right;\n",
       "    }\n",
       "</style>\n",
       "<table border=\"1\" class=\"dataframe\">\n",
       "  <thead>\n",
       "    <tr style=\"text-align: right;\">\n",
       "      <th></th>\n",
       "      <th>INDEX</th>\n",
       "      <th>NO CLAIM PROBABILITY</th>\n",
       "      <th>CLAIM PROBABILITY</th>\n",
       "    </tr>\n",
       "  </thead>\n",
       "  <tbody>\n",
       "    <tr>\n",
       "      <th>0</th>\n",
       "      <td>3</td>\n",
       "      <td>0.465346</td>\n",
       "      <td>0.534654</td>\n",
       "    </tr>\n",
       "    <tr>\n",
       "      <th>1</th>\n",
       "      <td>9</td>\n",
       "      <td>0.438606</td>\n",
       "      <td>0.561394</td>\n",
       "    </tr>\n",
       "    <tr>\n",
       "      <th>2</th>\n",
       "      <td>10</td>\n",
       "      <td>0.495833</td>\n",
       "      <td>0.504167</td>\n",
       "    </tr>\n",
       "    <tr>\n",
       "      <th>3</th>\n",
       "      <td>18</td>\n",
       "      <td>0.136578</td>\n",
       "      <td>0.863422</td>\n",
       "    </tr>\n",
       "    <tr>\n",
       "      <th>4</th>\n",
       "      <td>21</td>\n",
       "      <td>0.595603</td>\n",
       "      <td>0.404397</td>\n",
       "    </tr>\n",
       "  </tbody>\n",
       "</table>\n",
       "</div>"
      ],
      "text/plain": [
       "   INDEX  NO CLAIM PROBABILITY  CLAIM PROBABILITY\n",
       "0      3              0.465346           0.534654\n",
       "1      9              0.438606           0.561394\n",
       "2     10              0.495833           0.504167\n",
       "3     18              0.136578           0.863422\n",
       "4     21              0.595603           0.404397"
      ]
     },
     "execution_count": 76,
     "metadata": {},
     "output_type": "execute_result"
    }
   ],
   "source": [
    "LR_prob = pd.concat([index, LRprob_test], axis=1)\n",
    "print(LR_prob.shape)\n",
    "LR_prob.head()"
   ]
  },
  {
   "cell_type": "code",
   "execution_count": 77,
   "id": "integral-semester",
   "metadata": {},
   "outputs": [],
   "source": [
    "# Write to csv\n",
    "LR_prob.to_csv('Logistic_Regression_test-probabilities.csv', index=False)"
   ]
  },
  {
   "cell_type": "markdown",
   "id": "knowing-stroke",
   "metadata": {},
   "source": [
    "### XG-Boost predictions on the processed test data"
   ]
  },
  {
   "cell_type": "markdown",
   "id": "latter-provision",
   "metadata": {},
   "source": [
    "#### Prediction of class output"
   ]
  },
  {
   "cell_type": "code",
   "execution_count": 79,
   "id": "color-tribune",
   "metadata": {
    "scrolled": false
   },
   "outputs": [
    {
     "name": "stdout",
     "output_type": "stream",
     "text": [
      "<class 'numpy.ndarray'>\n",
      "[0 0 0 ... 0 0 0]\n"
     ]
    }
   ],
   "source": [
    "y_pred_xgb_test = xgb_model.predict(df_test)\n",
    "print(type(y_pred_xgb_test))\n",
    "print(y_pred_xgb_test)"
   ]
  },
  {
   "cell_type": "code",
   "execution_count": 80,
   "id": "wooden-better",
   "metadata": {},
   "outputs": [
    {
     "name": "stdout",
     "output_type": "stream",
     "text": [
      "(1612, 1)\n"
     ]
    },
    {
     "data": {
      "text/html": [
       "<div>\n",
       "<style scoped>\n",
       "    .dataframe tbody tr th:only-of-type {\n",
       "        vertical-align: middle;\n",
       "    }\n",
       "\n",
       "    .dataframe tbody tr th {\n",
       "        vertical-align: top;\n",
       "    }\n",
       "\n",
       "    .dataframe thead th {\n",
       "        text-align: right;\n",
       "    }\n",
       "</style>\n",
       "<table border=\"1\" class=\"dataframe\">\n",
       "  <thead>\n",
       "    <tr style=\"text-align: right;\">\n",
       "      <th></th>\n",
       "      <th>PREDICTED_TARGET</th>\n",
       "    </tr>\n",
       "  </thead>\n",
       "  <tbody>\n",
       "    <tr>\n",
       "      <th>0</th>\n",
       "      <td>0</td>\n",
       "    </tr>\n",
       "    <tr>\n",
       "      <th>1</th>\n",
       "      <td>0</td>\n",
       "    </tr>\n",
       "    <tr>\n",
       "      <th>2</th>\n",
       "      <td>0</td>\n",
       "    </tr>\n",
       "    <tr>\n",
       "      <th>3</th>\n",
       "      <td>0</td>\n",
       "    </tr>\n",
       "    <tr>\n",
       "      <th>4</th>\n",
       "      <td>1</td>\n",
       "    </tr>\n",
       "  </tbody>\n",
       "</table>\n",
       "</div>"
      ],
      "text/plain": [
       "   PREDICTED_TARGET\n",
       "0                 0\n",
       "1                 0\n",
       "2                 0\n",
       "3                 0\n",
       "4                 1"
      ]
     },
     "execution_count": 80,
     "metadata": {},
     "output_type": "execute_result"
    }
   ],
   "source": [
    "# writing the results along with the index to a new file\n",
    "\n",
    "#  Convert to df and put a column name - PREDICTED-TARGET\n",
    "#LR-test = pd.dataframe(y_pred_logreg_test,columns=['PREDICTED'])\n",
    "\n",
    "XGB_test = pd.DataFrame(data=y_pred_xgb_test, columns=['PREDICTED_TARGET'])\n",
    "print(XGB_test.shape)\n",
    "XGB_test.head()"
   ]
  },
  {
   "cell_type": "code",
   "execution_count": 81,
   "id": "shaped-warrior",
   "metadata": {
    "scrolled": false
   },
   "outputs": [
    {
     "name": "stdout",
     "output_type": "stream",
     "text": [
      "(2141, 2)\n"
     ]
    },
    {
     "data": {
      "text/html": [
       "<div>\n",
       "<style scoped>\n",
       "    .dataframe tbody tr th:only-of-type {\n",
       "        vertical-align: middle;\n",
       "    }\n",
       "\n",
       "    .dataframe tbody tr th {\n",
       "        vertical-align: top;\n",
       "    }\n",
       "\n",
       "    .dataframe thead th {\n",
       "        text-align: right;\n",
       "    }\n",
       "</style>\n",
       "<table border=\"1\" class=\"dataframe\">\n",
       "  <thead>\n",
       "    <tr style=\"text-align: right;\">\n",
       "      <th></th>\n",
       "      <th>INDEX</th>\n",
       "      <th>PREDICTED_TARGET</th>\n",
       "    </tr>\n",
       "  </thead>\n",
       "  <tbody>\n",
       "    <tr>\n",
       "      <th>0</th>\n",
       "      <td>3</td>\n",
       "      <td>0.0</td>\n",
       "    </tr>\n",
       "    <tr>\n",
       "      <th>1</th>\n",
       "      <td>9</td>\n",
       "      <td>0.0</td>\n",
       "    </tr>\n",
       "    <tr>\n",
       "      <th>2</th>\n",
       "      <td>10</td>\n",
       "      <td>0.0</td>\n",
       "    </tr>\n",
       "    <tr>\n",
       "      <th>3</th>\n",
       "      <td>18</td>\n",
       "      <td>0.0</td>\n",
       "    </tr>\n",
       "    <tr>\n",
       "      <th>4</th>\n",
       "      <td>21</td>\n",
       "      <td>1.0</td>\n",
       "    </tr>\n",
       "  </tbody>\n",
       "</table>\n",
       "</div>"
      ],
      "text/plain": [
       "   INDEX  PREDICTED_TARGET\n",
       "0      3               0.0\n",
       "1      9               0.0\n",
       "2     10               0.0\n",
       "3     18               0.0\n",
       "4     21               1.0"
      ]
     },
     "execution_count": 81,
     "metadata": {},
     "output_type": "execute_result"
    }
   ],
   "source": [
    "# Append index and write to a new csv file\n",
    "\n",
    "XGB = pd.concat([index, XGB_test], axis=1)\n",
    "print(XGB.shape)\n",
    "XGB.head()"
   ]
  },
  {
   "cell_type": "code",
   "execution_count": 89,
   "id": "economic-jacket",
   "metadata": {},
   "outputs": [],
   "source": [
    "# Write to csv\n",
    "XGB.to_csv('XGBoost_test-classifications.csv', index=False)"
   ]
  },
  {
   "cell_type": "markdown",
   "id": "relative-reader",
   "metadata": {},
   "source": [
    "The final predictions of the XGBoost model are thus stored per index in 'XGBoost_test-results.csv"
   ]
  },
  {
   "cell_type": "markdown",
   "id": "internal-professional",
   "metadata": {},
   "source": [
    "#### Prediction of probabilities assosciated for each class prediction"
   ]
  },
  {
   "cell_type": "code",
   "execution_count": 85,
   "id": "genetic-philip",
   "metadata": {},
   "outputs": [
    {
     "name": "stdout",
     "output_type": "stream",
     "text": [
      "<class 'numpy.ndarray'>\n",
      "[[0.7352992  0.26470074]\n",
      " [0.83806    0.16193995]\n",
      " [0.990505   0.00949502]\n",
      " ...\n",
      " [0.9731888  0.0268112 ]\n",
      " [0.9945667  0.00543332]\n",
      " [0.6298718  0.3701282 ]]\n"
     ]
    }
   ],
   "source": [
    "# Optionally print probabilites of each classification\n",
    "y_predprob_xgb_test = xgb_model.predict_proba(df_test)\n",
    "print(type(y_predprob_xgb_test))\n",
    "print(y_predprob_xgb_test)"
   ]
  },
  {
   "cell_type": "markdown",
   "id": "atmospheric-finance",
   "metadata": {},
   "source": [
    "The class probabilites printed could give us an idea on the confidence with which our model estimates the class of the corresponding element(row) of our test data.\n",
    "\n",
    "Let us write this also to a file.\n"
   ]
  },
  {
   "cell_type": "code",
   "execution_count": 86,
   "id": "general-iceland",
   "metadata": {},
   "outputs": [
    {
     "name": "stdout",
     "output_type": "stream",
     "text": [
      "(1612, 2)\n"
     ]
    },
    {
     "data": {
      "text/html": [
       "<div>\n",
       "<style scoped>\n",
       "    .dataframe tbody tr th:only-of-type {\n",
       "        vertical-align: middle;\n",
       "    }\n",
       "\n",
       "    .dataframe tbody tr th {\n",
       "        vertical-align: top;\n",
       "    }\n",
       "\n",
       "    .dataframe thead th {\n",
       "        text-align: right;\n",
       "    }\n",
       "</style>\n",
       "<table border=\"1\" class=\"dataframe\">\n",
       "  <thead>\n",
       "    <tr style=\"text-align: right;\">\n",
       "      <th></th>\n",
       "      <th>NO CLAIM PROBABILITY</th>\n",
       "      <th>CLAIM PROBABILITY</th>\n",
       "    </tr>\n",
       "  </thead>\n",
       "  <tbody>\n",
       "    <tr>\n",
       "      <th>0</th>\n",
       "      <td>0.735299</td>\n",
       "      <td>0.264701</td>\n",
       "    </tr>\n",
       "    <tr>\n",
       "      <th>1</th>\n",
       "      <td>0.838060</td>\n",
       "      <td>0.161940</td>\n",
       "    </tr>\n",
       "    <tr>\n",
       "      <th>2</th>\n",
       "      <td>0.990505</td>\n",
       "      <td>0.009495</td>\n",
       "    </tr>\n",
       "    <tr>\n",
       "      <th>3</th>\n",
       "      <td>0.955476</td>\n",
       "      <td>0.044524</td>\n",
       "    </tr>\n",
       "    <tr>\n",
       "      <th>4</th>\n",
       "      <td>0.405882</td>\n",
       "      <td>0.594118</td>\n",
       "    </tr>\n",
       "  </tbody>\n",
       "</table>\n",
       "</div>"
      ],
      "text/plain": [
       "   NO CLAIM PROBABILITY  CLAIM PROBABILITY\n",
       "0              0.735299           0.264701\n",
       "1              0.838060           0.161940\n",
       "2              0.990505           0.009495\n",
       "3              0.955476           0.044524\n",
       "4              0.405882           0.594118"
      ]
     },
     "execution_count": 86,
     "metadata": {},
     "output_type": "execute_result"
    }
   ],
   "source": [
    "XGBprob_test = pd.DataFrame(data=y_predprob_xgb_test, columns=['NO CLAIM PROBABILITY','CLAIM PROBABILITY'])\n",
    "print(XGBprob_test.shape)\n",
    "XGBprob_test.head()"
   ]
  },
  {
   "cell_type": "code",
   "execution_count": 87,
   "id": "motivated-thread",
   "metadata": {},
   "outputs": [
    {
     "name": "stdout",
     "output_type": "stream",
     "text": [
      "(2141, 3)\n"
     ]
    },
    {
     "data": {
      "text/html": [
       "<div>\n",
       "<style scoped>\n",
       "    .dataframe tbody tr th:only-of-type {\n",
       "        vertical-align: middle;\n",
       "    }\n",
       "\n",
       "    .dataframe tbody tr th {\n",
       "        vertical-align: top;\n",
       "    }\n",
       "\n",
       "    .dataframe thead th {\n",
       "        text-align: right;\n",
       "    }\n",
       "</style>\n",
       "<table border=\"1\" class=\"dataframe\">\n",
       "  <thead>\n",
       "    <tr style=\"text-align: right;\">\n",
       "      <th></th>\n",
       "      <th>INDEX</th>\n",
       "      <th>NO CLAIM PROBABILITY</th>\n",
       "      <th>CLAIM PROBABILITY</th>\n",
       "    </tr>\n",
       "  </thead>\n",
       "  <tbody>\n",
       "    <tr>\n",
       "      <th>0</th>\n",
       "      <td>3</td>\n",
       "      <td>0.735299</td>\n",
       "      <td>0.264701</td>\n",
       "    </tr>\n",
       "    <tr>\n",
       "      <th>1</th>\n",
       "      <td>9</td>\n",
       "      <td>0.838060</td>\n",
       "      <td>0.161940</td>\n",
       "    </tr>\n",
       "    <tr>\n",
       "      <th>2</th>\n",
       "      <td>10</td>\n",
       "      <td>0.990505</td>\n",
       "      <td>0.009495</td>\n",
       "    </tr>\n",
       "    <tr>\n",
       "      <th>3</th>\n",
       "      <td>18</td>\n",
       "      <td>0.955476</td>\n",
       "      <td>0.044524</td>\n",
       "    </tr>\n",
       "    <tr>\n",
       "      <th>4</th>\n",
       "      <td>21</td>\n",
       "      <td>0.405882</td>\n",
       "      <td>0.594118</td>\n",
       "    </tr>\n",
       "  </tbody>\n",
       "</table>\n",
       "</div>"
      ],
      "text/plain": [
       "   INDEX  NO CLAIM PROBABILITY  CLAIM PROBABILITY\n",
       "0      3              0.735299           0.264701\n",
       "1      9              0.838060           0.161940\n",
       "2     10              0.990505           0.009495\n",
       "3     18              0.955476           0.044524\n",
       "4     21              0.405882           0.594118"
      ]
     },
     "execution_count": 87,
     "metadata": {},
     "output_type": "execute_result"
    }
   ],
   "source": [
    "XGB_prob = pd.concat([index, XGBprob_test], axis=1)\n",
    "print(XGB_prob.shape)\n",
    "XGB_prob.head()"
   ]
  },
  {
   "cell_type": "code",
   "execution_count": 88,
   "id": "parental-return",
   "metadata": {},
   "outputs": [],
   "source": [
    "# Write to csv\n",
    "XGB_prob.to_csv('XGBoost_test-probabilities.csv', index=False)"
   ]
  },
  {
   "cell_type": "markdown",
   "id": "enabling-australian",
   "metadata": {},
   "source": [
    "### Note on the results of the modeling process: \n",
    "\n",
    "Although our XGboost model performed better on the cross-validation it does not mean that it will generalise well for new unseen test data (the test data should follow a similar distribution as the training).\n",
    "\n",
    "We could have a case of overfitting and the bias(structure) assumed by logistic regression could indeed be the right one leading to better results.\n",
    "\n",
    "For our submission we would choose the XGBoost model.\n",
    "\n",
    "At this moment however, we are unable to verify the results as we do not have the ground truth for the test dataset.\n"
   ]
  },
  {
   "cell_type": "markdown",
   "id": "alleged-caribbean",
   "metadata": {},
   "source": [
    "## Possible improvements (Next steps)\n",
    "\n",
    "1. We can package certain sections of our code to make it reusable, cleaner and save time.\n",
    "This includes functions of cleaning the data and in certain cases also plotting distributions.\n",
    "\n",
    "2. Based on the EDA analysis we can choose features with the filter method manually and construct models.\n",
    "Automatically features may also be chosen employing a Recursive feature elimination or selection.\n",
    "\n",
    "3. Direct feature subset selection based on results (wrapper method).\n",
    "\n",
    "4. Grid search can be performed to further optimize performance with respect to the metric of our choice. This is sometimes crucial depending on the business use case of our models.\n",
    "\n",
    "5. All the imports of libraries can be shifted to the beginning of the notebooks. I have left the imports in the cells where they are used just to give an idea where each package have been used.\n",
    "\n",
    "6. For a better performance, we can try normalising the numerical variables to bring them to a common scale (0,1).\n",
    "\n",
    "7. Depending on what we intend to do next, the Exploratory data analysis can be extended and we can deduce more conclusions."
   ]
  }
 ],
 "metadata": {
  "kernelspec": {
   "display_name": "autoInsurance",
   "language": "python",
   "name": "autoinsurance"
  },
  "language_info": {
   "codemirror_mode": {
    "name": "ipython",
    "version": 3
   },
   "file_extension": ".py",
   "mimetype": "text/x-python",
   "name": "python",
   "nbconvert_exporter": "python",
   "pygments_lexer": "ipython3",
   "version": "3.7.1"
  }
 },
 "nbformat": 4,
 "nbformat_minor": 5
}
