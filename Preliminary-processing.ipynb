{
 "cells": [
  {
   "cell_type": "markdown",
   "metadata": {},
   "source": [
    "### Perform necessary package installations"
   ]
  },
  {
   "cell_type": "code",
   "execution_count": 1,
   "metadata": {
    "scrolled": true
   },
   "outputs": [
    {
     "name": "stdout",
     "output_type": "stream",
     "text": [
      "Requirement already satisfied: numpy in c:\\users\\ranganath\\appdata\\local\\conda\\conda\\envs\\autoinsurance\\lib\\site-packages (1.20.1)\n",
      "Requirement already satisfied: pandas in c:\\users\\ranganath\\appdata\\local\\conda\\conda\\envs\\autoinsurance\\lib\\site-packages (1.2.3)\n",
      "Requirement already satisfied: python-dateutil>=2.7.3 in c:\\users\\ranganath\\appdata\\local\\conda\\conda\\envs\\autoinsurance\\lib\\site-packages (from pandas) (2.8.1)\n",
      "Requirement already satisfied: pytz>=2017.3 in c:\\users\\ranganath\\appdata\\local\\conda\\conda\\envs\\autoinsurance\\lib\\site-packages (from pandas) (2021.1)\n",
      "Requirement already satisfied: numpy>=1.16.5 in c:\\users\\ranganath\\appdata\\local\\conda\\conda\\envs\\autoinsurance\\lib\\site-packages (from pandas) (1.20.1)\n",
      "Requirement already satisfied: six>=1.5 in c:\\users\\ranganath\\appdata\\local\\conda\\conda\\envs\\autoinsurance\\lib\\site-packages (from python-dateutil>=2.7.3->pandas) (1.15.0)\n",
      "Requirement already satisfied: seaborn in c:\\users\\ranganath\\appdata\\local\\conda\\conda\\envs\\autoinsurance\\lib\\site-packages (0.11.1)\n",
      "Requirement already satisfied: numpy>=1.15 in c:\\users\\ranganath\\appdata\\local\\conda\\conda\\envs\\autoinsurance\\lib\\site-packages (from seaborn) (1.20.1)\n",
      "Requirement already satisfied: matplotlib>=2.2 in c:\\users\\ranganath\\appdata\\local\\conda\\conda\\envs\\autoinsurance\\lib\\site-packages (from seaborn) (3.3.4)\n",
      "Requirement already satisfied: pandas>=0.23 in c:\\users\\ranganath\\appdata\\local\\conda\\conda\\envs\\autoinsurance\\lib\\site-packages (from seaborn) (1.2.3)\n",
      "Requirement already satisfied: scipy>=1.0 in c:\\users\\ranganath\\appdata\\local\\conda\\conda\\envs\\autoinsurance\\lib\\site-packages (from seaborn) (1.6.1)\n",
      "Requirement already satisfied: pyparsing!=2.0.4,!=2.1.2,!=2.1.6,>=2.0.3 in c:\\users\\ranganath\\appdata\\local\\conda\\conda\\envs\\autoinsurance\\lib\\site-packages (from matplotlib>=2.2->seaborn) (2.4.7)\n",
      "Requirement already satisfied: cycler>=0.10 in c:\\users\\ranganath\\appdata\\local\\conda\\conda\\envs\\autoinsurance\\lib\\site-packages (from matplotlib>=2.2->seaborn) (0.10.0)\n",
      "Requirement already satisfied: kiwisolver>=1.0.1 in c:\\users\\ranganath\\appdata\\local\\conda\\conda\\envs\\autoinsurance\\lib\\site-packages (from matplotlib>=2.2->seaborn) (1.3.1)\n",
      "Requirement already satisfied: python-dateutil>=2.1 in c:\\users\\ranganath\\appdata\\local\\conda\\conda\\envs\\autoinsurance\\lib\\site-packages (from matplotlib>=2.2->seaborn) (2.8.1)\n",
      "Requirement already satisfied: pillow>=6.2.0 in c:\\users\\ranganath\\appdata\\local\\conda\\conda\\envs\\autoinsurance\\lib\\site-packages (from matplotlib>=2.2->seaborn) (8.1.1)\n",
      "Requirement already satisfied: pytz>=2017.3 in c:\\users\\ranganath\\appdata\\local\\conda\\conda\\envs\\autoinsurance\\lib\\site-packages (from pandas>=0.23->seaborn) (2021.1)\n",
      "Requirement already satisfied: six in c:\\users\\ranganath\\appdata\\local\\conda\\conda\\envs\\autoinsurance\\lib\\site-packages (from cycler>=0.10->matplotlib>=2.2->seaborn) (1.15.0)\n",
      "Requirement already satisfied: matplotlib in c:\\users\\ranganath\\appdata\\local\\conda\\conda\\envs\\autoinsurance\\lib\\site-packages (3.3.4)\n",
      "Requirement already satisfied: numpy>=1.15 in c:\\users\\ranganath\\appdata\\local\\conda\\conda\\envs\\autoinsurance\\lib\\site-packages (from matplotlib) (1.20.1)\n",
      "Requirement already satisfied: cycler>=0.10 in c:\\users\\ranganath\\appdata\\local\\conda\\conda\\envs\\autoinsurance\\lib\\site-packages (from matplotlib) (0.10.0)\n",
      "Requirement already satisfied: pyparsing!=2.0.4,!=2.1.2,!=2.1.6,>=2.0.3 in c:\\users\\ranganath\\appdata\\local\\conda\\conda\\envs\\autoinsurance\\lib\\site-packages (from matplotlib) (2.4.7)\n",
      "Requirement already satisfied: python-dateutil>=2.1 in c:\\users\\ranganath\\appdata\\local\\conda\\conda\\envs\\autoinsurance\\lib\\site-packages (from matplotlib) (2.8.1)\n",
      "Requirement already satisfied: kiwisolver>=1.0.1 in c:\\users\\ranganath\\appdata\\local\\conda\\conda\\envs\\autoinsurance\\lib\\site-packages (from matplotlib) (1.3.1)\n",
      "Requirement already satisfied: pillow>=6.2.0 in c:\\users\\ranganath\\appdata\\local\\conda\\conda\\envs\\autoinsurance\\lib\\site-packages (from matplotlib) (8.1.1)\n",
      "Requirement already satisfied: six in c:\\users\\ranganath\\appdata\\local\\conda\\conda\\envs\\autoinsurance\\lib\\site-packages (from cycler>=0.10->matplotlib) (1.15.0)\n",
      "Requirement already up-to-date: scikit-learn in c:\\users\\ranganath\\appdata\\local\\conda\\conda\\envs\\autoinsurance\\lib\\site-packages (0.24.1)\n",
      "Requirement already satisfied, skipping upgrade: scipy>=0.19.1 in c:\\users\\ranganath\\appdata\\local\\conda\\conda\\envs\\autoinsurance\\lib\\site-packages (from scikit-learn) (1.6.1)\n",
      "Requirement already satisfied, skipping upgrade: joblib>=0.11 in c:\\users\\ranganath\\appdata\\local\\conda\\conda\\envs\\autoinsurance\\lib\\site-packages (from scikit-learn) (1.0.1)\n",
      "Requirement already satisfied, skipping upgrade: threadpoolctl>=2.0.0 in c:\\users\\ranganath\\appdata\\local\\conda\\conda\\envs\\autoinsurance\\lib\\site-packages (from scikit-learn) (2.1.0)\n",
      "Requirement already satisfied, skipping upgrade: numpy>=1.13.3 in c:\\users\\ranganath\\appdata\\local\\conda\\conda\\envs\\autoinsurance\\lib\\site-packages (from scikit-learn) (1.20.1)\n",
      "Requirement already satisfied: xgboost in c:\\users\\ranganath\\appdata\\local\\conda\\conda\\envs\\autoinsurance\\lib\\site-packages (1.3.3)\n",
      "Requirement already satisfied: scipy in c:\\users\\ranganath\\appdata\\local\\conda\\conda\\envs\\autoinsurance\\lib\\site-packages (from xgboost) (1.6.1)\n",
      "Requirement already satisfied: numpy in c:\\users\\ranganath\\appdata\\local\\conda\\conda\\envs\\autoinsurance\\lib\\site-packages (from xgboost) (1.20.1)\n",
      "Requirement already satisfied: heatmapz in c:\\users\\ranganath\\appdata\\local\\conda\\conda\\envs\\autoinsurance\\lib\\site-packages (0.0.4)\n",
      "Requirement already satisfied: seaborn in c:\\users\\ranganath\\appdata\\local\\conda\\conda\\envs\\autoinsurance\\lib\\site-packages (from heatmapz) (0.11.1)\n",
      "Requirement already satisfied: matplotlib>=3.0.3 in c:\\users\\ranganath\\appdata\\local\\conda\\conda\\envs\\autoinsurance\\lib\\site-packages (from heatmapz) (3.3.4)\n",
      "Requirement already satisfied: pandas in c:\\users\\ranganath\\appdata\\local\\conda\\conda\\envs\\autoinsurance\\lib\\site-packages (from heatmapz) (1.2.3)\n",
      "Requirement already satisfied: numpy>=1.15 in c:\\users\\ranganath\\appdata\\local\\conda\\conda\\envs\\autoinsurance\\lib\\site-packages (from seaborn->heatmapz) (1.20.1)\n",
      "Requirement already satisfied: scipy>=1.0 in c:\\users\\ranganath\\appdata\\local\\conda\\conda\\envs\\autoinsurance\\lib\\site-packages (from seaborn->heatmapz) (1.6.1)\n",
      "Requirement already satisfied: python-dateutil>=2.1 in c:\\users\\ranganath\\appdata\\local\\conda\\conda\\envs\\autoinsurance\\lib\\site-packages (from matplotlib>=3.0.3->heatmapz) (2.8.1)\n",
      "Requirement already satisfied: pillow>=6.2.0 in c:\\users\\ranganath\\appdata\\local\\conda\\conda\\envs\\autoinsurance\\lib\\site-packages (from matplotlib>=3.0.3->heatmapz) (8.1.1)\n",
      "Requirement already satisfied: cycler>=0.10 in c:\\users\\ranganath\\appdata\\local\\conda\\conda\\envs\\autoinsurance\\lib\\site-packages (from matplotlib>=3.0.3->heatmapz) (0.10.0)\n",
      "Requirement already satisfied: pyparsing!=2.0.4,!=2.1.2,!=2.1.6,>=2.0.3 in c:\\users\\ranganath\\appdata\\local\\conda\\conda\\envs\\autoinsurance\\lib\\site-packages (from matplotlib>=3.0.3->heatmapz) (2.4.7)\n",
      "Requirement already satisfied: kiwisolver>=1.0.1 in c:\\users\\ranganath\\appdata\\local\\conda\\conda\\envs\\autoinsurance\\lib\\site-packages (from matplotlib>=3.0.3->heatmapz) (1.3.1)\n",
      "Requirement already satisfied: pytz>=2017.3 in c:\\users\\ranganath\\appdata\\local\\conda\\conda\\envs\\autoinsurance\\lib\\site-packages (from pandas->heatmapz) (2021.1)\n",
      "Requirement already satisfied: six>=1.5 in c:\\users\\ranganath\\appdata\\local\\conda\\conda\\envs\\autoinsurance\\lib\\site-packages (from python-dateutil>=2.1->matplotlib>=3.0.3->heatmapz) (1.15.0)\n"
     ]
    }
   ],
   "source": [
    "!pip install numpy\n",
    "!pip install pandas\n",
    "!pip install seaborn\n",
    "!pip install matplotlib\n",
    "!pip install -U scikit-learn\n",
    "!pip install xgboost\n",
    "!pip install heatmapz"
   ]
  },
  {
   "cell_type": "markdown",
   "metadata": {},
   "source": [
    "### First we clean our data by dealing with empty elements and repeating rows"
   ]
  },
  {
   "cell_type": "code",
   "execution_count": 2,
   "metadata": {},
   "outputs": [],
   "source": [
    "import numpy as np  # linear algebra\n",
    "import pandas as pd # handling data"
   ]
  },
  {
   "cell_type": "markdown",
   "metadata": {},
   "source": [
    "### Data Description"
   ]
  },
  {
   "cell_type": "code",
   "execution_count": 3,
   "metadata": {},
   "outputs": [],
   "source": [
    "# Explain the dataset colomns here"
   ]
  },
  {
   "cell_type": "markdown",
   "metadata": {},
   "source": [
    "### Preprocessing"
   ]
  },
  {
   "cell_type": "code",
   "execution_count": 4,
   "metadata": {},
   "outputs": [],
   "source": [
    "# first import all necessary libraries\n",
    "import itertools\n",
    "import pandas as pd\n",
    "import seaborn as sns\n",
    "import matplotlib.pyplot as plt\n",
    "\n"
   ]
  },
  {
   "cell_type": "code",
   "execution_count": 5,
   "metadata": {},
   "outputs": [],
   "source": [
    "# Need to set the default settings for seaborn as it is no longer imported directly\n",
    "sns.set()"
   ]
  },
  {
   "cell_type": "code",
   "execution_count": 6,
   "metadata": {},
   "outputs": [
    {
     "data": {
      "text/html": [
       "<div>\n",
       "<style scoped>\n",
       "    .dataframe tbody tr th:only-of-type {\n",
       "        vertical-align: middle;\n",
       "    }\n",
       "\n",
       "    .dataframe tbody tr th {\n",
       "        vertical-align: top;\n",
       "    }\n",
       "\n",
       "    .dataframe thead th {\n",
       "        text-align: right;\n",
       "    }\n",
       "</style>\n",
       "<table border=\"1\" class=\"dataframe\">\n",
       "  <thead>\n",
       "    <tr style=\"text-align: right;\">\n",
       "      <th></th>\n",
       "      <th>INDEX</th>\n",
       "      <th>TARGET_FLAG</th>\n",
       "      <th>TARGET_AMT</th>\n",
       "      <th>KIDSDRIV</th>\n",
       "      <th>AGE</th>\n",
       "      <th>HOMEKIDS</th>\n",
       "      <th>YOJ</th>\n",
       "      <th>INCOME</th>\n",
       "      <th>PARENT1</th>\n",
       "      <th>HOME_VAL</th>\n",
       "      <th>...</th>\n",
       "      <th>BLUEBOOK</th>\n",
       "      <th>TIF</th>\n",
       "      <th>CAR_TYPE</th>\n",
       "      <th>RED_CAR</th>\n",
       "      <th>OLDCLAIM</th>\n",
       "      <th>CLM_FREQ</th>\n",
       "      <th>REVOKED</th>\n",
       "      <th>MVR_PTS</th>\n",
       "      <th>CAR_AGE</th>\n",
       "      <th>URBANICITY</th>\n",
       "    </tr>\n",
       "  </thead>\n",
       "  <tbody>\n",
       "    <tr>\n",
       "      <th>0</th>\n",
       "      <td>1</td>\n",
       "      <td>0</td>\n",
       "      <td>0.0</td>\n",
       "      <td>0</td>\n",
       "      <td>60.0</td>\n",
       "      <td>0</td>\n",
       "      <td>11.0</td>\n",
       "      <td>$67,349</td>\n",
       "      <td>No</td>\n",
       "      <td>$0</td>\n",
       "      <td>...</td>\n",
       "      <td>$14,230</td>\n",
       "      <td>11</td>\n",
       "      <td>Minivan</td>\n",
       "      <td>yes</td>\n",
       "      <td>$4,461</td>\n",
       "      <td>2</td>\n",
       "      <td>No</td>\n",
       "      <td>3</td>\n",
       "      <td>18.0</td>\n",
       "      <td>Highly Urban/ Urban</td>\n",
       "    </tr>\n",
       "    <tr>\n",
       "      <th>1</th>\n",
       "      <td>2</td>\n",
       "      <td>0</td>\n",
       "      <td>0.0</td>\n",
       "      <td>0</td>\n",
       "      <td>43.0</td>\n",
       "      <td>0</td>\n",
       "      <td>11.0</td>\n",
       "      <td>$91,449</td>\n",
       "      <td>No</td>\n",
       "      <td>$257,252</td>\n",
       "      <td>...</td>\n",
       "      <td>$14,940</td>\n",
       "      <td>1</td>\n",
       "      <td>Minivan</td>\n",
       "      <td>yes</td>\n",
       "      <td>$0</td>\n",
       "      <td>0</td>\n",
       "      <td>No</td>\n",
       "      <td>0</td>\n",
       "      <td>1.0</td>\n",
       "      <td>Highly Urban/ Urban</td>\n",
       "    </tr>\n",
       "    <tr>\n",
       "      <th>2</th>\n",
       "      <td>4</td>\n",
       "      <td>0</td>\n",
       "      <td>0.0</td>\n",
       "      <td>0</td>\n",
       "      <td>35.0</td>\n",
       "      <td>1</td>\n",
       "      <td>10.0</td>\n",
       "      <td>$16,039</td>\n",
       "      <td>No</td>\n",
       "      <td>$124,191</td>\n",
       "      <td>...</td>\n",
       "      <td>$4,010</td>\n",
       "      <td>4</td>\n",
       "      <td>z_SUV</td>\n",
       "      <td>no</td>\n",
       "      <td>$38,690</td>\n",
       "      <td>2</td>\n",
       "      <td>No</td>\n",
       "      <td>3</td>\n",
       "      <td>10.0</td>\n",
       "      <td>Highly Urban/ Urban</td>\n",
       "    </tr>\n",
       "    <tr>\n",
       "      <th>3</th>\n",
       "      <td>5</td>\n",
       "      <td>0</td>\n",
       "      <td>0.0</td>\n",
       "      <td>0</td>\n",
       "      <td>51.0</td>\n",
       "      <td>0</td>\n",
       "      <td>14.0</td>\n",
       "      <td>NaN</td>\n",
       "      <td>No</td>\n",
       "      <td>$306,251</td>\n",
       "      <td>...</td>\n",
       "      <td>$15,440</td>\n",
       "      <td>7</td>\n",
       "      <td>Minivan</td>\n",
       "      <td>yes</td>\n",
       "      <td>$0</td>\n",
       "      <td>0</td>\n",
       "      <td>No</td>\n",
       "      <td>0</td>\n",
       "      <td>6.0</td>\n",
       "      <td>Highly Urban/ Urban</td>\n",
       "    </tr>\n",
       "    <tr>\n",
       "      <th>4</th>\n",
       "      <td>6</td>\n",
       "      <td>0</td>\n",
       "      <td>0.0</td>\n",
       "      <td>0</td>\n",
       "      <td>50.0</td>\n",
       "      <td>0</td>\n",
       "      <td>NaN</td>\n",
       "      <td>$114,986</td>\n",
       "      <td>No</td>\n",
       "      <td>$243,925</td>\n",
       "      <td>...</td>\n",
       "      <td>$18,000</td>\n",
       "      <td>1</td>\n",
       "      <td>z_SUV</td>\n",
       "      <td>no</td>\n",
       "      <td>$19,217</td>\n",
       "      <td>2</td>\n",
       "      <td>Yes</td>\n",
       "      <td>3</td>\n",
       "      <td>17.0</td>\n",
       "      <td>Highly Urban/ Urban</td>\n",
       "    </tr>\n",
       "  </tbody>\n",
       "</table>\n",
       "<p>5 rows × 26 columns</p>\n",
       "</div>"
      ],
      "text/plain": [
       "   INDEX  TARGET_FLAG  TARGET_AMT  KIDSDRIV   AGE  HOMEKIDS   YOJ     INCOME  \\\n",
       "0      1            0         0.0         0  60.0         0  11.0   $67,349    \n",
       "1      2            0         0.0         0  43.0         0  11.0   $91,449    \n",
       "2      4            0         0.0         0  35.0         1  10.0   $16,039    \n",
       "3      5            0         0.0         0  51.0         0  14.0        NaN   \n",
       "4      6            0         0.0         0  50.0         0   NaN  $114,986    \n",
       "\n",
       "  PARENT1   HOME_VAL  ...  BLUEBOOK TIF CAR_TYPE RED_CAR  OLDCLAIM CLM_FREQ  \\\n",
       "0      No        $0   ...  $14,230   11  Minivan     yes   $4,461         2   \n",
       "1      No  $257,252   ...  $14,940    1  Minivan     yes       $0         0   \n",
       "2      No  $124,191   ...   $4,010    4    z_SUV      no  $38,690         2   \n",
       "3      No  $306,251   ...  $15,440    7  Minivan     yes       $0         0   \n",
       "4      No  $243,925   ...  $18,000    1    z_SUV      no  $19,217         2   \n",
       "\n",
       "  REVOKED  MVR_PTS CAR_AGE           URBANICITY  \n",
       "0      No        3    18.0  Highly Urban/ Urban  \n",
       "1      No        0     1.0  Highly Urban/ Urban  \n",
       "2      No        3    10.0  Highly Urban/ Urban  \n",
       "3      No        0     6.0  Highly Urban/ Urban  \n",
       "4     Yes        3    17.0  Highly Urban/ Urban  \n",
       "\n",
       "[5 rows x 26 columns]"
      ]
     },
     "execution_count": 6,
     "metadata": {},
     "output_type": "execute_result"
    }
   ],
   "source": [
    "# Let us import the data into a pandas dataframe for inspection\n",
    "\n",
    "df = pd.read_csv(\"train_auto.csv\")\n",
    "df.head()"
   ]
  },
  {
   "cell_type": "code",
   "execution_count": 7,
   "metadata": {},
   "outputs": [
    {
     "data": {
      "text/plain": [
       "(8161, 26)"
      ]
     },
     "execution_count": 7,
     "metadata": {},
     "output_type": "execute_result"
    }
   ],
   "source": [
    "# Check the dimensions of our data\n",
    "df.shape"
   ]
  },
  {
   "cell_type": "markdown",
   "metadata": {},
   "source": [
    "We have thus 8161 rows with 26 colomns in our training dataset."
   ]
  },
  {
   "cell_type": "code",
   "execution_count": 8,
   "metadata": {
    "scrolled": true
   },
   "outputs": [
    {
     "data": {
      "text/plain": [
       "['INDEX',\n",
       " 'TARGET_FLAG',\n",
       " 'TARGET_AMT',\n",
       " 'KIDSDRIV',\n",
       " 'AGE',\n",
       " 'HOMEKIDS',\n",
       " 'YOJ',\n",
       " 'INCOME',\n",
       " 'PARENT1',\n",
       " 'HOME_VAL',\n",
       " 'MSTATUS',\n",
       " 'SEX',\n",
       " 'EDUCATION',\n",
       " 'JOB',\n",
       " 'TRAVTIME',\n",
       " 'CAR_USE',\n",
       " 'BLUEBOOK',\n",
       " 'TIF',\n",
       " 'CAR_TYPE',\n",
       " 'RED_CAR',\n",
       " 'OLDCLAIM',\n",
       " 'CLM_FREQ',\n",
       " 'REVOKED',\n",
       " 'MVR_PTS',\n",
       " 'CAR_AGE',\n",
       " 'URBANICITY']"
      ]
     },
     "execution_count": 8,
     "metadata": {},
     "output_type": "execute_result"
    }
   ],
   "source": [
    "# let's list all the columns\n",
    "columns = list(df.columns)\n",
    "columns"
   ]
  },
  {
   "cell_type": "code",
   "execution_count": 9,
   "metadata": {},
   "outputs": [],
   "source": [
    "# We can drop drop these columns as they are not concerning us\n",
    "DROP_COLUMNS = ['INDEX','TARGET_AMT']\n",
    "\n",
    "df = df.drop(DROP_COLUMNS, axis=1)\n",
    "\n",
    "# The target column\n",
    "TARGET = 'TARGET_FLAG'"
   ]
  },
  {
   "cell_type": "code",
   "execution_count": 10,
   "metadata": {},
   "outputs": [
    {
     "data": {
      "image/png": "[encoded data removed]",
      "text/plain": [
       "<Figure size 432x288 with 1 Axes>"
      ]
     },
     "metadata": {},
     "output_type": "display_data"
    }
   ],
   "source": [
    "df[TARGET].value_counts().plot(kind='bar', rot=0)\n",
    "plt.title('Unbalanced dataset with {:0f} % of positive label'.format(100*df[TARGET].mean()))\n",
    "plt.show()"
   ]
  },
  {
   "cell_type": "markdown",
   "metadata": {},
   "source": [
    "The class imbalance is not too bad so let us skip performing any corrective action at this stage."
   ]
  },
  {
   "cell_type": "code",
   "execution_count": 11,
   "metadata": {},
   "outputs": [
    {
     "name": "stdout",
     "output_type": "stream",
     "text": [
      "<class 'pandas.core.frame.DataFrame'>\n",
      "RangeIndex: 8161 entries, 0 to 8160\n",
      "Data columns (total 24 columns):\n",
      " #   Column       Non-Null Count  Dtype  \n",
      "---  ------       --------------  -----  \n",
      " 0   TARGET_FLAG  8161 non-null   int64  \n",
      " 1   KIDSDRIV     8161 non-null   int64  \n",
      " 2   AGE          8155 non-null   float64\n",
      " 3   HOMEKIDS     8161 non-null   int64  \n",
      " 4   YOJ          7707 non-null   float64\n",
      " 5   INCOME       7716 non-null   object \n",
      " 6   PARENT1      8161 non-null   object \n",
      " 7   HOME_VAL     7697 non-null   object \n",
      " 8   MSTATUS      8161 non-null   object \n",
      " 9   SEX          8161 non-null   object \n",
      " 10  EDUCATION    8161 non-null   object \n",
      " 11  JOB          7635 non-null   object \n",
      " 12  TRAVTIME     8161 non-null   int64  \n",
      " 13  CAR_USE      8161 non-null   object \n",
      " 14  BLUEBOOK     8161 non-null   object \n",
      " 15  TIF          8161 non-null   int64  \n",
      " 16  CAR_TYPE     8161 non-null   object \n",
      " 17  RED_CAR      8161 non-null   object \n",
      " 18  OLDCLAIM     8161 non-null   object \n",
      " 19  CLM_FREQ     8161 non-null   int64  \n",
      " 20  REVOKED      8161 non-null   object \n",
      " 21  MVR_PTS      8161 non-null   int64  \n",
      " 22  CAR_AGE      7651 non-null   float64\n",
      " 23  URBANICITY   8161 non-null   object \n",
      "dtypes: float64(3), int64(7), object(14)\n",
      "memory usage: 1.5+ MB\n"
     ]
    }
   ],
   "source": [
    "# we now describe the properties of this dataframe like column datatype etc.\n",
    "df.info()"
   ]
  },
  {
   "cell_type": "markdown",
   "metadata": {},
   "source": [
    "Let us store the categorical and numerical colomn names in seperate lists as the analysis will differ according to the type.\n",
    "Type object means it is categorical else it is numerical."
   ]
  },
  {
   "cell_type": "code",
   "execution_count": 12,
   "metadata": {},
   "outputs": [
    {
     "name": "stdout",
     "output_type": "stream",
     "text": [
      "Categorical variables:  ['INCOME', 'PARENT1', 'HOME_VAL', 'MSTATUS', 'SEX', 'EDUCATION', 'JOB', 'CAR_USE', 'BLUEBOOK', 'CAR_TYPE', 'RED_CAR', 'OLDCLAIM', 'REVOKED', 'URBANICITY']\n",
      "Numerical variables:  ['TARGET_FLAG', 'KIDSDRIV', 'AGE', 'HOMEKIDS', 'YOJ', 'TRAVTIME', 'TIF', 'CLM_FREQ', 'MVR_PTS', 'CAR_AGE']\n"
     ]
    }
   ],
   "source": [
    "cats = list(df.select_dtypes(include=['object']).columns)\n",
    "nums = list(df.select_dtypes(exclude=['object']).columns)\n",
    "print(f'Categorical variables:  {cats}')\n",
    "print(f'Numerical variables:  {nums}')"
   ]
  },
  {
   "cell_type": "markdown",
   "metadata": {},
   "source": [
    "We see that the target variable 'TARGET_FLAG' is categorised as a numerical quantity. In reality we are dealing with a classification problem and thus the target variable should be categorical.\n",
    "\n",
    "Let us add this colomn to the categorical category."
   ]
  },
  {
   "cell_type": "code",
   "execution_count": 13,
   "metadata": {},
   "outputs": [
    {
     "name": "stdout",
     "output_type": "stream",
     "text": [
      "Categorical variables:  ['INCOME', 'PARENT1', 'HOME_VAL', 'MSTATUS', 'SEX', 'EDUCATION', 'JOB', 'CAR_USE', 'BLUEBOOK', 'CAR_TYPE', 'RED_CAR', 'OLDCLAIM', 'REVOKED', 'URBANICITY', 'TARGET_FLAG']\n",
      "Numerical variables:  ['KIDSDRIV', 'AGE', 'HOMEKIDS', 'YOJ', 'TRAVTIME', 'TIF', 'CLM_FREQ', 'MVR_PTS', 'CAR_AGE']\n"
     ]
    }
   ],
   "source": [
    "cats.extend(['TARGET_FLAG'])\n",
    "nums.remove('TARGET_FLAG')\n",
    "\n",
    "print(f'Categorical variables:  {cats}')\n",
    "print(f'Numerical variables:  {nums}')"
   ]
  },
  {
   "cell_type": "code",
   "execution_count": 14,
   "metadata": {
    "scrolled": true
   },
   "outputs": [
    {
     "data": {
      "text/html": [
       "<div>\n",
       "<style scoped>\n",
       "    .dataframe tbody tr th:only-of-type {\n",
       "        vertical-align: middle;\n",
       "    }\n",
       "\n",
       "    .dataframe tbody tr th {\n",
       "        vertical-align: top;\n",
       "    }\n",
       "\n",
       "    .dataframe thead th {\n",
       "        text-align: right;\n",
       "    }\n",
       "</style>\n",
       "<table border=\"1\" class=\"dataframe\">\n",
       "  <thead>\n",
       "    <tr style=\"text-align: right;\">\n",
       "      <th></th>\n",
       "      <th>KIDSDRIV</th>\n",
       "      <th>AGE</th>\n",
       "      <th>HOMEKIDS</th>\n",
       "      <th>YOJ</th>\n",
       "      <th>TRAVTIME</th>\n",
       "      <th>TIF</th>\n",
       "      <th>CLM_FREQ</th>\n",
       "      <th>MVR_PTS</th>\n",
       "      <th>CAR_AGE</th>\n",
       "    </tr>\n",
       "  </thead>\n",
       "  <tbody>\n",
       "    <tr>\n",
       "      <th>0</th>\n",
       "      <td>0</td>\n",
       "      <td>60.0</td>\n",
       "      <td>0</td>\n",
       "      <td>11.0</td>\n",
       "      <td>14</td>\n",
       "      <td>11</td>\n",
       "      <td>2</td>\n",
       "      <td>3</td>\n",
       "      <td>18.0</td>\n",
       "    </tr>\n",
       "    <tr>\n",
       "      <th>1</th>\n",
       "      <td>0</td>\n",
       "      <td>43.0</td>\n",
       "      <td>0</td>\n",
       "      <td>11.0</td>\n",
       "      <td>22</td>\n",
       "      <td>1</td>\n",
       "      <td>0</td>\n",
       "      <td>0</td>\n",
       "      <td>1.0</td>\n",
       "    </tr>\n",
       "    <tr>\n",
       "      <th>2</th>\n",
       "      <td>0</td>\n",
       "      <td>35.0</td>\n",
       "      <td>1</td>\n",
       "      <td>10.0</td>\n",
       "      <td>5</td>\n",
       "      <td>4</td>\n",
       "      <td>2</td>\n",
       "      <td>3</td>\n",
       "      <td>10.0</td>\n",
       "    </tr>\n",
       "    <tr>\n",
       "      <th>3</th>\n",
       "      <td>0</td>\n",
       "      <td>51.0</td>\n",
       "      <td>0</td>\n",
       "      <td>14.0</td>\n",
       "      <td>32</td>\n",
       "      <td>7</td>\n",
       "      <td>0</td>\n",
       "      <td>0</td>\n",
       "      <td>6.0</td>\n",
       "    </tr>\n",
       "    <tr>\n",
       "      <th>4</th>\n",
       "      <td>0</td>\n",
       "      <td>50.0</td>\n",
       "      <td>0</td>\n",
       "      <td>NaN</td>\n",
       "      <td>36</td>\n",
       "      <td>1</td>\n",
       "      <td>2</td>\n",
       "      <td>3</td>\n",
       "      <td>17.0</td>\n",
       "    </tr>\n",
       "  </tbody>\n",
       "</table>\n",
       "</div>"
      ],
      "text/plain": [
       "   KIDSDRIV   AGE  HOMEKIDS   YOJ  TRAVTIME  TIF  CLM_FREQ  MVR_PTS  CAR_AGE\n",
       "0         0  60.0         0  11.0        14   11         2        3     18.0\n",
       "1         0  43.0         0  11.0        22    1         0        0      1.0\n",
       "2         0  35.0         1  10.0         5    4         2        3     10.0\n",
       "3         0  51.0         0  14.0        32    7         0        0      6.0\n",
       "4         0  50.0         0   NaN        36    1         2        3     17.0"
      ]
     },
     "execution_count": 14,
     "metadata": {},
     "output_type": "execute_result"
    }
   ],
   "source": [
    "# Checking the heads for numerical colomns to verify\n",
    "df[nums].head()"
   ]
  },
  {
   "cell_type": "markdown",
   "metadata": {},
   "source": [
    "The numerical colomns seem to be alright.\n",
    "\n",
    "Now let us check the categorical colomns\n"
   ]
  },
  {
   "cell_type": "code",
   "execution_count": 15,
   "metadata": {},
   "outputs": [
    {
     "data": {
      "text/html": [
       "<div>\n",
       "<style scoped>\n",
       "    .dataframe tbody tr th:only-of-type {\n",
       "        vertical-align: middle;\n",
       "    }\n",
       "\n",
       "    .dataframe tbody tr th {\n",
       "        vertical-align: top;\n",
       "    }\n",
       "\n",
       "    .dataframe thead th {\n",
       "        text-align: right;\n",
       "    }\n",
       "</style>\n",
       "<table border=\"1\" class=\"dataframe\">\n",
       "  <thead>\n",
       "    <tr style=\"text-align: right;\">\n",
       "      <th></th>\n",
       "      <th>INCOME</th>\n",
       "      <th>PARENT1</th>\n",
       "      <th>HOME_VAL</th>\n",
       "      <th>MSTATUS</th>\n",
       "      <th>SEX</th>\n",
       "      <th>EDUCATION</th>\n",
       "      <th>JOB</th>\n",
       "      <th>CAR_USE</th>\n",
       "      <th>BLUEBOOK</th>\n",
       "      <th>CAR_TYPE</th>\n",
       "      <th>RED_CAR</th>\n",
       "      <th>OLDCLAIM</th>\n",
       "      <th>REVOKED</th>\n",
       "      <th>URBANICITY</th>\n",
       "      <th>TARGET_FLAG</th>\n",
       "    </tr>\n",
       "  </thead>\n",
       "  <tbody>\n",
       "    <tr>\n",
       "      <th>0</th>\n",
       "      <td>$67,349</td>\n",
       "      <td>No</td>\n",
       "      <td>$0</td>\n",
       "      <td>z_No</td>\n",
       "      <td>M</td>\n",
       "      <td>PhD</td>\n",
       "      <td>Professional</td>\n",
       "      <td>Private</td>\n",
       "      <td>$14,230</td>\n",
       "      <td>Minivan</td>\n",
       "      <td>yes</td>\n",
       "      <td>$4,461</td>\n",
       "      <td>No</td>\n",
       "      <td>Highly Urban/ Urban</td>\n",
       "      <td>0</td>\n",
       "    </tr>\n",
       "    <tr>\n",
       "      <th>1</th>\n",
       "      <td>$91,449</td>\n",
       "      <td>No</td>\n",
       "      <td>$257,252</td>\n",
       "      <td>z_No</td>\n",
       "      <td>M</td>\n",
       "      <td>z_High School</td>\n",
       "      <td>z_Blue Collar</td>\n",
       "      <td>Commercial</td>\n",
       "      <td>$14,940</td>\n",
       "      <td>Minivan</td>\n",
       "      <td>yes</td>\n",
       "      <td>$0</td>\n",
       "      <td>No</td>\n",
       "      <td>Highly Urban/ Urban</td>\n",
       "      <td>0</td>\n",
       "    </tr>\n",
       "    <tr>\n",
       "      <th>2</th>\n",
       "      <td>$16,039</td>\n",
       "      <td>No</td>\n",
       "      <td>$124,191</td>\n",
       "      <td>Yes</td>\n",
       "      <td>z_F</td>\n",
       "      <td>z_High School</td>\n",
       "      <td>Clerical</td>\n",
       "      <td>Private</td>\n",
       "      <td>$4,010</td>\n",
       "      <td>z_SUV</td>\n",
       "      <td>no</td>\n",
       "      <td>$38,690</td>\n",
       "      <td>No</td>\n",
       "      <td>Highly Urban/ Urban</td>\n",
       "      <td>0</td>\n",
       "    </tr>\n",
       "    <tr>\n",
       "      <th>3</th>\n",
       "      <td>NaN</td>\n",
       "      <td>No</td>\n",
       "      <td>$306,251</td>\n",
       "      <td>Yes</td>\n",
       "      <td>M</td>\n",
       "      <td>&lt;High School</td>\n",
       "      <td>z_Blue Collar</td>\n",
       "      <td>Private</td>\n",
       "      <td>$15,440</td>\n",
       "      <td>Minivan</td>\n",
       "      <td>yes</td>\n",
       "      <td>$0</td>\n",
       "      <td>No</td>\n",
       "      <td>Highly Urban/ Urban</td>\n",
       "      <td>0</td>\n",
       "    </tr>\n",
       "    <tr>\n",
       "      <th>4</th>\n",
       "      <td>$114,986</td>\n",
       "      <td>No</td>\n",
       "      <td>$243,925</td>\n",
       "      <td>Yes</td>\n",
       "      <td>z_F</td>\n",
       "      <td>PhD</td>\n",
       "      <td>Doctor</td>\n",
       "      <td>Private</td>\n",
       "      <td>$18,000</td>\n",
       "      <td>z_SUV</td>\n",
       "      <td>no</td>\n",
       "      <td>$19,217</td>\n",
       "      <td>Yes</td>\n",
       "      <td>Highly Urban/ Urban</td>\n",
       "      <td>0</td>\n",
       "    </tr>\n",
       "  </tbody>\n",
       "</table>\n",
       "</div>"
      ],
      "text/plain": [
       "      INCOME PARENT1   HOME_VAL MSTATUS  SEX      EDUCATION            JOB  \\\n",
       "0   $67,349       No        $0     z_No    M            PhD   Professional   \n",
       "1   $91,449       No  $257,252     z_No    M  z_High School  z_Blue Collar   \n",
       "2   $16,039       No  $124,191      Yes  z_F  z_High School       Clerical   \n",
       "3        NaN      No  $306,251      Yes    M   <High School  z_Blue Collar   \n",
       "4  $114,986       No  $243,925      Yes  z_F            PhD         Doctor   \n",
       "\n",
       "      CAR_USE  BLUEBOOK CAR_TYPE RED_CAR  OLDCLAIM REVOKED  \\\n",
       "0     Private  $14,230   Minivan     yes   $4,461       No   \n",
       "1  Commercial  $14,940   Minivan     yes       $0       No   \n",
       "2     Private   $4,010     z_SUV      no  $38,690       No   \n",
       "3     Private  $15,440   Minivan     yes       $0       No   \n",
       "4     Private  $18,000     z_SUV      no  $19,217      Yes   \n",
       "\n",
       "            URBANICITY  TARGET_FLAG  \n",
       "0  Highly Urban/ Urban            0  \n",
       "1  Highly Urban/ Urban            0  \n",
       "2  Highly Urban/ Urban            0  \n",
       "3  Highly Urban/ Urban            0  \n",
       "4  Highly Urban/ Urban            0  "
      ]
     },
     "execution_count": 15,
     "metadata": {},
     "output_type": "execute_result"
    }
   ],
   "source": [
    "# Checking the heads for categorical colomns to verify\n",
    "df[cats].head()"
   ]
  },
  {
   "cell_type": "markdown",
   "metadata": {},
   "source": [
    "Checking the categorical variables we notice certain anomalies.\n",
    "The colomns of 'INCOME', 'HOME_VAL', 'BLUEBOOK' and 'OLDCLAIM' are not objects but numbers.\n",
    "\n",
    "Normally if multiple currencies exist we need to convert all different currencies to one reference (usually Dollar) but in our case we are only dealing with dollar hence we just need to convert these objects with '$' sign into numbers(float) by removing the symbol."
   ]
  },
  {
   "cell_type": "code",
   "execution_count": 16,
   "metadata": {},
   "outputs": [],
   "source": [
    "# removing the dollar symbol in the anomalous colomns\n",
    "df[['INCOME','HOME_VAL','BLUEBOOK','OLDCLAIM']] = df[['INCOME',\n",
    "                                                      'HOME_VAL',\n",
    "                                                      'BLUEBOOK',\n",
    "                                                      'OLDCLAIM']].replace('[\\$,]', '', regex=True).astype(float)"
   ]
  },
  {
   "cell_type": "markdown",
   "metadata": {},
   "source": [
    "Let us verify that our procedure has worked"
   ]
  },
  {
   "cell_type": "code",
   "execution_count": 17,
   "metadata": {
    "scrolled": false
   },
   "outputs": [
    {
     "data": {
      "text/html": [
       "<div>\n",
       "<style scoped>\n",
       "    .dataframe tbody tr th:only-of-type {\n",
       "        vertical-align: middle;\n",
       "    }\n",
       "\n",
       "    .dataframe tbody tr th {\n",
       "        vertical-align: top;\n",
       "    }\n",
       "\n",
       "    .dataframe thead th {\n",
       "        text-align: right;\n",
       "    }\n",
       "</style>\n",
       "<table border=\"1\" class=\"dataframe\">\n",
       "  <thead>\n",
       "    <tr style=\"text-align: right;\">\n",
       "      <th></th>\n",
       "      <th>INCOME</th>\n",
       "      <th>PARENT1</th>\n",
       "      <th>HOME_VAL</th>\n",
       "      <th>MSTATUS</th>\n",
       "      <th>SEX</th>\n",
       "      <th>EDUCATION</th>\n",
       "      <th>JOB</th>\n",
       "      <th>CAR_USE</th>\n",
       "      <th>BLUEBOOK</th>\n",
       "      <th>CAR_TYPE</th>\n",
       "      <th>RED_CAR</th>\n",
       "      <th>OLDCLAIM</th>\n",
       "      <th>REVOKED</th>\n",
       "      <th>URBANICITY</th>\n",
       "      <th>TARGET_FLAG</th>\n",
       "    </tr>\n",
       "  </thead>\n",
       "  <tbody>\n",
       "    <tr>\n",
       "      <th>0</th>\n",
       "      <td>67349.0</td>\n",
       "      <td>No</td>\n",
       "      <td>0.0</td>\n",
       "      <td>z_No</td>\n",
       "      <td>M</td>\n",
       "      <td>PhD</td>\n",
       "      <td>Professional</td>\n",
       "      <td>Private</td>\n",
       "      <td>14230.0</td>\n",
       "      <td>Minivan</td>\n",
       "      <td>yes</td>\n",
       "      <td>4461.0</td>\n",
       "      <td>No</td>\n",
       "      <td>Highly Urban/ Urban</td>\n",
       "      <td>0</td>\n",
       "    </tr>\n",
       "    <tr>\n",
       "      <th>1</th>\n",
       "      <td>91449.0</td>\n",
       "      <td>No</td>\n",
       "      <td>257252.0</td>\n",
       "      <td>z_No</td>\n",
       "      <td>M</td>\n",
       "      <td>z_High School</td>\n",
       "      <td>z_Blue Collar</td>\n",
       "      <td>Commercial</td>\n",
       "      <td>14940.0</td>\n",
       "      <td>Minivan</td>\n",
       "      <td>yes</td>\n",
       "      <td>0.0</td>\n",
       "      <td>No</td>\n",
       "      <td>Highly Urban/ Urban</td>\n",
       "      <td>0</td>\n",
       "    </tr>\n",
       "    <tr>\n",
       "      <th>2</th>\n",
       "      <td>16039.0</td>\n",
       "      <td>No</td>\n",
       "      <td>124191.0</td>\n",
       "      <td>Yes</td>\n",
       "      <td>z_F</td>\n",
       "      <td>z_High School</td>\n",
       "      <td>Clerical</td>\n",
       "      <td>Private</td>\n",
       "      <td>4010.0</td>\n",
       "      <td>z_SUV</td>\n",
       "      <td>no</td>\n",
       "      <td>38690.0</td>\n",
       "      <td>No</td>\n",
       "      <td>Highly Urban/ Urban</td>\n",
       "      <td>0</td>\n",
       "    </tr>\n",
       "    <tr>\n",
       "      <th>3</th>\n",
       "      <td>NaN</td>\n",
       "      <td>No</td>\n",
       "      <td>306251.0</td>\n",
       "      <td>Yes</td>\n",
       "      <td>M</td>\n",
       "      <td>&lt;High School</td>\n",
       "      <td>z_Blue Collar</td>\n",
       "      <td>Private</td>\n",
       "      <td>15440.0</td>\n",
       "      <td>Minivan</td>\n",
       "      <td>yes</td>\n",
       "      <td>0.0</td>\n",
       "      <td>No</td>\n",
       "      <td>Highly Urban/ Urban</td>\n",
       "      <td>0</td>\n",
       "    </tr>\n",
       "    <tr>\n",
       "      <th>4</th>\n",
       "      <td>114986.0</td>\n",
       "      <td>No</td>\n",
       "      <td>243925.0</td>\n",
       "      <td>Yes</td>\n",
       "      <td>z_F</td>\n",
       "      <td>PhD</td>\n",
       "      <td>Doctor</td>\n",
       "      <td>Private</td>\n",
       "      <td>18000.0</td>\n",
       "      <td>z_SUV</td>\n",
       "      <td>no</td>\n",
       "      <td>19217.0</td>\n",
       "      <td>Yes</td>\n",
       "      <td>Highly Urban/ Urban</td>\n",
       "      <td>0</td>\n",
       "    </tr>\n",
       "  </tbody>\n",
       "</table>\n",
       "</div>"
      ],
      "text/plain": [
       "     INCOME PARENT1  HOME_VAL MSTATUS  SEX      EDUCATION            JOB  \\\n",
       "0   67349.0      No       0.0    z_No    M            PhD   Professional   \n",
       "1   91449.0      No  257252.0    z_No    M  z_High School  z_Blue Collar   \n",
       "2   16039.0      No  124191.0     Yes  z_F  z_High School       Clerical   \n",
       "3       NaN      No  306251.0     Yes    M   <High School  z_Blue Collar   \n",
       "4  114986.0      No  243925.0     Yes  z_F            PhD         Doctor   \n",
       "\n",
       "      CAR_USE  BLUEBOOK CAR_TYPE RED_CAR  OLDCLAIM REVOKED  \\\n",
       "0     Private   14230.0  Minivan     yes    4461.0      No   \n",
       "1  Commercial   14940.0  Minivan     yes       0.0      No   \n",
       "2     Private    4010.0    z_SUV      no   38690.0      No   \n",
       "3     Private   15440.0  Minivan     yes       0.0      No   \n",
       "4     Private   18000.0    z_SUV      no   19217.0     Yes   \n",
       "\n",
       "            URBANICITY  TARGET_FLAG  \n",
       "0  Highly Urban/ Urban            0  \n",
       "1  Highly Urban/ Urban            0  \n",
       "2  Highly Urban/ Urban            0  \n",
       "3  Highly Urban/ Urban            0  \n",
       "4  Highly Urban/ Urban            0  "
      ]
     },
     "execution_count": 17,
     "metadata": {},
     "output_type": "execute_result"
    }
   ],
   "source": [
    "df[cats].head()"
   ]
  },
  {
   "cell_type": "markdown",
   "metadata": {},
   "source": [
    "Indeed it has worked, so let us now add these variables to the numerical variables and remove them from the categorical section."
   ]
  },
  {
   "cell_type": "code",
   "execution_count": 18,
   "metadata": {},
   "outputs": [
    {
     "name": "stdout",
     "output_type": "stream",
     "text": [
      "The new variable classification is: \n",
      " \n",
      "Categorical variables:  ['PARENT1', 'MSTATUS', 'SEX', 'EDUCATION', 'JOB', 'CAR_USE', 'CAR_TYPE', 'RED_CAR', 'REVOKED', 'URBANICITY', 'TARGET_FLAG']\n",
      "Numerical variables:  ['KIDSDRIV', 'AGE', 'HOMEKIDS', 'YOJ', 'TRAVTIME', 'TIF', 'CLM_FREQ', 'MVR_PTS', 'CAR_AGE', 'INCOME', 'HOME_VAL', 'BLUEBOOK', 'OLDCLAIM']\n"
     ]
    }
   ],
   "source": [
    "# cylinders and model_year also seems to be categorical so lets update the lists\n",
    "\n",
    "nums.extend(['INCOME','HOME_VAL','BLUEBOOK','OLDCLAIM'])\n",
    "cats.remove('INCOME')\n",
    "cats.remove('HOME_VAL')\n",
    "cats.remove('BLUEBOOK')\n",
    "cats.remove('OLDCLAIM')\n",
    "\n",
    "print('The new variable classification is: \\n ')\n",
    "print(f'Categorical variables:  {cats}')\n",
    "print(f'Numerical variables:  {nums}')\n",
    "\n"
   ]
  },
  {
   "cell_type": "code",
   "execution_count": 19,
   "metadata": {},
   "outputs": [
    {
     "data": {
      "text/html": [
       "<div>\n",
       "<style scoped>\n",
       "    .dataframe tbody tr th:only-of-type {\n",
       "        vertical-align: middle;\n",
       "    }\n",
       "\n",
       "    .dataframe tbody tr th {\n",
       "        vertical-align: top;\n",
       "    }\n",
       "\n",
       "    .dataframe thead th {\n",
       "        text-align: right;\n",
       "    }\n",
       "</style>\n",
       "<table border=\"1\" class=\"dataframe\">\n",
       "  <thead>\n",
       "    <tr style=\"text-align: right;\">\n",
       "      <th></th>\n",
       "      <th>KIDSDRIV</th>\n",
       "      <th>AGE</th>\n",
       "      <th>HOMEKIDS</th>\n",
       "      <th>YOJ</th>\n",
       "      <th>TRAVTIME</th>\n",
       "      <th>TIF</th>\n",
       "      <th>CLM_FREQ</th>\n",
       "      <th>MVR_PTS</th>\n",
       "      <th>CAR_AGE</th>\n",
       "      <th>INCOME</th>\n",
       "      <th>HOME_VAL</th>\n",
       "      <th>BLUEBOOK</th>\n",
       "      <th>OLDCLAIM</th>\n",
       "    </tr>\n",
       "  </thead>\n",
       "  <tbody>\n",
       "    <tr>\n",
       "      <th>0</th>\n",
       "      <td>0</td>\n",
       "      <td>60.0</td>\n",
       "      <td>0</td>\n",
       "      <td>11.0</td>\n",
       "      <td>14</td>\n",
       "      <td>11</td>\n",
       "      <td>2</td>\n",
       "      <td>3</td>\n",
       "      <td>18.0</td>\n",
       "      <td>67349.0</td>\n",
       "      <td>0.0</td>\n",
       "      <td>14230.0</td>\n",
       "      <td>4461.0</td>\n",
       "    </tr>\n",
       "    <tr>\n",
       "      <th>1</th>\n",
       "      <td>0</td>\n",
       "      <td>43.0</td>\n",
       "      <td>0</td>\n",
       "      <td>11.0</td>\n",
       "      <td>22</td>\n",
       "      <td>1</td>\n",
       "      <td>0</td>\n",
       "      <td>0</td>\n",
       "      <td>1.0</td>\n",
       "      <td>91449.0</td>\n",
       "      <td>257252.0</td>\n",
       "      <td>14940.0</td>\n",
       "      <td>0.0</td>\n",
       "    </tr>\n",
       "    <tr>\n",
       "      <th>2</th>\n",
       "      <td>0</td>\n",
       "      <td>35.0</td>\n",
       "      <td>1</td>\n",
       "      <td>10.0</td>\n",
       "      <td>5</td>\n",
       "      <td>4</td>\n",
       "      <td>2</td>\n",
       "      <td>3</td>\n",
       "      <td>10.0</td>\n",
       "      <td>16039.0</td>\n",
       "      <td>124191.0</td>\n",
       "      <td>4010.0</td>\n",
       "      <td>38690.0</td>\n",
       "    </tr>\n",
       "    <tr>\n",
       "      <th>3</th>\n",
       "      <td>0</td>\n",
       "      <td>51.0</td>\n",
       "      <td>0</td>\n",
       "      <td>14.0</td>\n",
       "      <td>32</td>\n",
       "      <td>7</td>\n",
       "      <td>0</td>\n",
       "      <td>0</td>\n",
       "      <td>6.0</td>\n",
       "      <td>NaN</td>\n",
       "      <td>306251.0</td>\n",
       "      <td>15440.0</td>\n",
       "      <td>0.0</td>\n",
       "    </tr>\n",
       "    <tr>\n",
       "      <th>4</th>\n",
       "      <td>0</td>\n",
       "      <td>50.0</td>\n",
       "      <td>0</td>\n",
       "      <td>NaN</td>\n",
       "      <td>36</td>\n",
       "      <td>1</td>\n",
       "      <td>2</td>\n",
       "      <td>3</td>\n",
       "      <td>17.0</td>\n",
       "      <td>114986.0</td>\n",
       "      <td>243925.0</td>\n",
       "      <td>18000.0</td>\n",
       "      <td>19217.0</td>\n",
       "    </tr>\n",
       "    <tr>\n",
       "      <th>5</th>\n",
       "      <td>0</td>\n",
       "      <td>34.0</td>\n",
       "      <td>1</td>\n",
       "      <td>12.0</td>\n",
       "      <td>46</td>\n",
       "      <td>1</td>\n",
       "      <td>0</td>\n",
       "      <td>0</td>\n",
       "      <td>7.0</td>\n",
       "      <td>125301.0</td>\n",
       "      <td>0.0</td>\n",
       "      <td>17430.0</td>\n",
       "      <td>0.0</td>\n",
       "    </tr>\n",
       "  </tbody>\n",
       "</table>\n",
       "</div>"
      ],
      "text/plain": [
       "   KIDSDRIV   AGE  HOMEKIDS   YOJ  TRAVTIME  TIF  CLM_FREQ  MVR_PTS  CAR_AGE  \\\n",
       "0         0  60.0         0  11.0        14   11         2        3     18.0   \n",
       "1         0  43.0         0  11.0        22    1         0        0      1.0   \n",
       "2         0  35.0         1  10.0         5    4         2        3     10.0   \n",
       "3         0  51.0         0  14.0        32    7         0        0      6.0   \n",
       "4         0  50.0         0   NaN        36    1         2        3     17.0   \n",
       "5         0  34.0         1  12.0        46    1         0        0      7.0   \n",
       "\n",
       "     INCOME  HOME_VAL  BLUEBOOK  OLDCLAIM  \n",
       "0   67349.0       0.0   14230.0    4461.0  \n",
       "1   91449.0  257252.0   14940.0       0.0  \n",
       "2   16039.0  124191.0    4010.0   38690.0  \n",
       "3       NaN  306251.0   15440.0       0.0  \n",
       "4  114986.0  243925.0   18000.0   19217.0  \n",
       "5  125301.0       0.0   17430.0       0.0  "
      ]
     },
     "execution_count": 19,
     "metadata": {},
     "output_type": "execute_result"
    }
   ],
   "source": [
    "df[nums].head(6)"
   ]
  },
  {
   "cell_type": "code",
   "execution_count": 20,
   "metadata": {},
   "outputs": [
    {
     "data": {
      "text/plain": [
       "TARGET_FLAG       2\n",
       "KIDSDRIV          5\n",
       "AGE              60\n",
       "HOMEKIDS          6\n",
       "YOJ              21\n",
       "INCOME         6612\n",
       "PARENT1           2\n",
       "HOME_VAL       5106\n",
       "MSTATUS           2\n",
       "SEX               2\n",
       "EDUCATION         5\n",
       "JOB               8\n",
       "TRAVTIME         97\n",
       "CAR_USE           2\n",
       "BLUEBOOK       2789\n",
       "TIF              23\n",
       "CAR_TYPE          6\n",
       "RED_CAR           2\n",
       "OLDCLAIM       2857\n",
       "CLM_FREQ          6\n",
       "REVOKED           2\n",
       "MVR_PTS          13\n",
       "CAR_AGE          30\n",
       "URBANICITY        2\n",
       "dtype: int64"
      ]
     },
     "execution_count": 20,
     "metadata": {},
     "output_type": "execute_result"
    }
   ],
   "source": [
    "# let's inspect how many unique values are there in each column.\n",
    "df.nunique(axis=0)"
   ]
  },
  {
   "cell_type": "markdown",
   "metadata": {},
   "source": [
    "We can make the colomns with less unique values as categorical variables but should keep in mind that if we encounter new values for these colomns during testing or deployment that will give errors.\n",
    "\n",
    "So for now let us stick with these colomn categories."
   ]
  },
  {
   "cell_type": "code",
   "execution_count": 21,
   "metadata": {},
   "outputs": [
    {
     "data": {
      "text/plain": [
       "TARGET_FLAG      0\n",
       "KIDSDRIV         0\n",
       "AGE              6\n",
       "HOMEKIDS         0\n",
       "YOJ            454\n",
       "INCOME         445\n",
       "PARENT1          0\n",
       "HOME_VAL       464\n",
       "MSTATUS          0\n",
       "SEX              0\n",
       "EDUCATION        0\n",
       "JOB            526\n",
       "TRAVTIME         0\n",
       "CAR_USE          0\n",
       "BLUEBOOK         0\n",
       "TIF              0\n",
       "CAR_TYPE         0\n",
       "RED_CAR          0\n",
       "OLDCLAIM         0\n",
       "CLM_FREQ         0\n",
       "REVOKED          0\n",
       "MVR_PTS          0\n",
       "CAR_AGE        510\n",
       "URBANICITY       0\n",
       "dtype: int64"
      ]
     },
     "execution_count": 21,
     "metadata": {},
     "output_type": "execute_result"
    }
   ],
   "source": [
    "# check for `nans` in each column\n",
    "df.isna().sum()"
   ]
  },
  {
   "cell_type": "code",
   "execution_count": 22,
   "metadata": {},
   "outputs": [
    {
     "data": {
      "image/png": "[encoded data removed]",
      "text/plain": [
       "<Figure size 432x288 with 1 Axes>"
      ]
     },
     "metadata": {},
     "output_type": "display_data"
    }
   ],
   "source": [
    "# Visualing the missing values\n",
    "\n",
    "is_column_with_na = df.isna().sum()\n",
    "is_column_with_na[is_column_with_na != 0].plot.barh()\n",
    "plt.title('Column with missing values')\n",
    "plt.show()\n",
    "\n"
   ]
  },
  {
   "cell_type": "code",
   "execution_count": 23,
   "metadata": {},
   "outputs": [
    {
     "name": "stdout",
     "output_type": "stream",
     "text": [
      "The percentage of rows with missing values is:  25.928195074133072\n"
     ]
    }
   ],
   "source": [
    "print(\"The percentage of rows with missing values is: \", 100*len(df[df.isnull().any(axis=1)])/len(df))"
   ]
  },
  {
   "cell_type": "markdown",
   "metadata": {},
   "source": [
    "### First approach - delete rows with missing values\n",
    "\n",
    "Here we have around 26 percent rows missing one or more values. \n",
    "This is 1/4th of the data and not an inconsiderable amount.\n",
    "\n",
    "Hence, for this naive approach we shall eliminate these rows and have a look at the results.\n",
    "If the data is still sufficient and the model is able to satisfy our performance criteria then we can stick with this.\n",
    "\n",
    "On the other hand, if we find that our model is not performing up to standards with the cropped data, then we might need to add more data points or consider other data imputing techniques to fill missing values (like mean for example). "
   ]
  },
  {
   "cell_type": "code",
   "execution_count": 24,
   "metadata": {},
   "outputs": [
    {
     "data": {
      "text/plain": [
       "(6045, 24)"
      ]
     },
     "execution_count": 24,
     "metadata": {},
     "output_type": "execute_result"
    }
   ],
   "source": [
    "# for now remove all nan rows \n",
    "df = df[~df.isnull().any(axis=1)]\n",
    "df.reset_index(inplace=True)\n",
    "df.drop('index', inplace=True, axis=1)\n",
    "df.shape"
   ]
  },
  {
   "cell_type": "code",
   "execution_count": 25,
   "metadata": {},
   "outputs": [
    {
     "data": {
      "text/plain": [
       "TARGET_FLAG    0\n",
       "KIDSDRIV       0\n",
       "AGE            0\n",
       "HOMEKIDS       0\n",
       "YOJ            0\n",
       "INCOME         0\n",
       "PARENT1        0\n",
       "HOME_VAL       0\n",
       "MSTATUS        0\n",
       "SEX            0\n",
       "EDUCATION      0\n",
       "JOB            0\n",
       "TRAVTIME       0\n",
       "CAR_USE        0\n",
       "BLUEBOOK       0\n",
       "TIF            0\n",
       "CAR_TYPE       0\n",
       "RED_CAR        0\n",
       "OLDCLAIM       0\n",
       "CLM_FREQ       0\n",
       "REVOKED        0\n",
       "MVR_PTS        0\n",
       "CAR_AGE        0\n",
       "URBANICITY     0\n",
       "dtype: int64"
      ]
     },
     "execution_count": 25,
     "metadata": {},
     "output_type": "execute_result"
    }
   ],
   "source": [
    "# check for `nans` in each column\n",
    "df.isna().sum()"
   ]
  },
  {
   "cell_type": "markdown",
   "metadata": {},
   "source": [
    "Now we have no rows with missing values.\n",
    "\n",
    "Next we check for duplicate rows and eliminate them"
   ]
  },
  {
   "cell_type": "code",
   "execution_count": 26,
   "metadata": {},
   "outputs": [
    {
     "name": "stdout",
     "output_type": "stream",
     "text": [
      "total duplicate rows: 0\n"
     ]
    },
    {
     "data": {
      "text/plain": [
       "(6045, 24)"
      ]
     },
     "execution_count": 26,
     "metadata": {},
     "output_type": "execute_result"
    }
   ],
   "source": [
    "# find total duplicate entries and drop them if any\n",
    "print(f'total duplicate rows: {df.duplicated().sum()}')\n",
    "\n",
    "# drop duplicate rows if any\n",
    "df = df[~df.duplicated()]\n",
    "df.shape"
   ]
  },
  {
   "cell_type": "code",
   "execution_count": 27,
   "metadata": {
    "scrolled": true
   },
   "outputs": [
    {
     "data": {
      "text/html": [
       "<div>\n",
       "<style scoped>\n",
       "    .dataframe tbody tr th:only-of-type {\n",
       "        vertical-align: middle;\n",
       "    }\n",
       "\n",
       "    .dataframe tbody tr th {\n",
       "        vertical-align: top;\n",
       "    }\n",
       "\n",
       "    .dataframe thead th {\n",
       "        text-align: right;\n",
       "    }\n",
       "</style>\n",
       "<table border=\"1\" class=\"dataframe\">\n",
       "  <thead>\n",
       "    <tr style=\"text-align: right;\">\n",
       "      <th></th>\n",
       "      <th>PARENT1</th>\n",
       "      <th>MSTATUS</th>\n",
       "      <th>SEX</th>\n",
       "      <th>EDUCATION</th>\n",
       "      <th>JOB</th>\n",
       "      <th>CAR_USE</th>\n",
       "      <th>CAR_TYPE</th>\n",
       "      <th>RED_CAR</th>\n",
       "      <th>REVOKED</th>\n",
       "      <th>URBANICITY</th>\n",
       "      <th>...</th>\n",
       "      <th>YOJ</th>\n",
       "      <th>TRAVTIME</th>\n",
       "      <th>TIF</th>\n",
       "      <th>CLM_FREQ</th>\n",
       "      <th>MVR_PTS</th>\n",
       "      <th>CAR_AGE</th>\n",
       "      <th>INCOME</th>\n",
       "      <th>HOME_VAL</th>\n",
       "      <th>BLUEBOOK</th>\n",
       "      <th>OLDCLAIM</th>\n",
       "    </tr>\n",
       "  </thead>\n",
       "  <tbody>\n",
       "    <tr>\n",
       "      <th>0</th>\n",
       "      <td>No</td>\n",
       "      <td>z_No</td>\n",
       "      <td>M</td>\n",
       "      <td>PhD</td>\n",
       "      <td>Professional</td>\n",
       "      <td>Private</td>\n",
       "      <td>Minivan</td>\n",
       "      <td>yes</td>\n",
       "      <td>No</td>\n",
       "      <td>Highly Urban/ Urban</td>\n",
       "      <td>...</td>\n",
       "      <td>11.0</td>\n",
       "      <td>14</td>\n",
       "      <td>11</td>\n",
       "      <td>2</td>\n",
       "      <td>3</td>\n",
       "      <td>18.0</td>\n",
       "      <td>67349.0</td>\n",
       "      <td>0.0</td>\n",
       "      <td>14230.0</td>\n",
       "      <td>4461.0</td>\n",
       "    </tr>\n",
       "    <tr>\n",
       "      <th>1</th>\n",
       "      <td>No</td>\n",
       "      <td>z_No</td>\n",
       "      <td>M</td>\n",
       "      <td>z_High School</td>\n",
       "      <td>z_Blue Collar</td>\n",
       "      <td>Commercial</td>\n",
       "      <td>Minivan</td>\n",
       "      <td>yes</td>\n",
       "      <td>No</td>\n",
       "      <td>Highly Urban/ Urban</td>\n",
       "      <td>...</td>\n",
       "      <td>11.0</td>\n",
       "      <td>22</td>\n",
       "      <td>1</td>\n",
       "      <td>0</td>\n",
       "      <td>0</td>\n",
       "      <td>1.0</td>\n",
       "      <td>91449.0</td>\n",
       "      <td>257252.0</td>\n",
       "      <td>14940.0</td>\n",
       "      <td>0.0</td>\n",
       "    </tr>\n",
       "    <tr>\n",
       "      <th>2</th>\n",
       "      <td>No</td>\n",
       "      <td>Yes</td>\n",
       "      <td>z_F</td>\n",
       "      <td>z_High School</td>\n",
       "      <td>Clerical</td>\n",
       "      <td>Private</td>\n",
       "      <td>z_SUV</td>\n",
       "      <td>no</td>\n",
       "      <td>No</td>\n",
       "      <td>Highly Urban/ Urban</td>\n",
       "      <td>...</td>\n",
       "      <td>10.0</td>\n",
       "      <td>5</td>\n",
       "      <td>4</td>\n",
       "      <td>2</td>\n",
       "      <td>3</td>\n",
       "      <td>10.0</td>\n",
       "      <td>16039.0</td>\n",
       "      <td>124191.0</td>\n",
       "      <td>4010.0</td>\n",
       "      <td>38690.0</td>\n",
       "    </tr>\n",
       "    <tr>\n",
       "      <th>3</th>\n",
       "      <td>Yes</td>\n",
       "      <td>z_No</td>\n",
       "      <td>z_F</td>\n",
       "      <td>Bachelors</td>\n",
       "      <td>z_Blue Collar</td>\n",
       "      <td>Commercial</td>\n",
       "      <td>Sports Car</td>\n",
       "      <td>no</td>\n",
       "      <td>No</td>\n",
       "      <td>Highly Urban/ Urban</td>\n",
       "      <td>...</td>\n",
       "      <td>12.0</td>\n",
       "      <td>46</td>\n",
       "      <td>1</td>\n",
       "      <td>0</td>\n",
       "      <td>0</td>\n",
       "      <td>7.0</td>\n",
       "      <td>125301.0</td>\n",
       "      <td>0.0</td>\n",
       "      <td>17430.0</td>\n",
       "      <td>0.0</td>\n",
       "    </tr>\n",
       "    <tr>\n",
       "      <th>4</th>\n",
       "      <td>No</td>\n",
       "      <td>z_No</td>\n",
       "      <td>z_F</td>\n",
       "      <td>Bachelors</td>\n",
       "      <td>Clerical</td>\n",
       "      <td>Private</td>\n",
       "      <td>z_SUV</td>\n",
       "      <td>no</td>\n",
       "      <td>No</td>\n",
       "      <td>Highly Urban/ Urban</td>\n",
       "      <td>...</td>\n",
       "      <td>10.0</td>\n",
       "      <td>34</td>\n",
       "      <td>1</td>\n",
       "      <td>0</td>\n",
       "      <td>0</td>\n",
       "      <td>1.0</td>\n",
       "      <td>62978.0</td>\n",
       "      <td>0.0</td>\n",
       "      <td>11200.0</td>\n",
       "      <td>0.0</td>\n",
       "    </tr>\n",
       "  </tbody>\n",
       "</table>\n",
       "<p>5 rows × 24 columns</p>\n",
       "</div>"
      ],
      "text/plain": [
       "  PARENT1 MSTATUS  SEX      EDUCATION            JOB     CAR_USE    CAR_TYPE  \\\n",
       "0      No    z_No    M            PhD   Professional     Private     Minivan   \n",
       "1      No    z_No    M  z_High School  z_Blue Collar  Commercial     Minivan   \n",
       "2      No     Yes  z_F  z_High School       Clerical     Private       z_SUV   \n",
       "3     Yes    z_No  z_F      Bachelors  z_Blue Collar  Commercial  Sports Car   \n",
       "4      No    z_No  z_F      Bachelors       Clerical     Private       z_SUV   \n",
       "\n",
       "  RED_CAR REVOKED           URBANICITY  ...   YOJ  TRAVTIME  TIF  CLM_FREQ  \\\n",
       "0     yes      No  Highly Urban/ Urban  ...  11.0        14   11         2   \n",
       "1     yes      No  Highly Urban/ Urban  ...  11.0        22    1         0   \n",
       "2      no      No  Highly Urban/ Urban  ...  10.0         5    4         2   \n",
       "3      no      No  Highly Urban/ Urban  ...  12.0        46    1         0   \n",
       "4      no      No  Highly Urban/ Urban  ...  10.0        34    1         0   \n",
       "\n",
       "   MVR_PTS  CAR_AGE    INCOME  HOME_VAL  BLUEBOOK  OLDCLAIM  \n",
       "0        3     18.0   67349.0       0.0   14230.0    4461.0  \n",
       "1        0      1.0   91449.0  257252.0   14940.0       0.0  \n",
       "2        3     10.0   16039.0  124191.0    4010.0   38690.0  \n",
       "3        0      7.0  125301.0       0.0   17430.0       0.0  \n",
       "4        0      1.0   62978.0       0.0   11200.0       0.0  \n",
       "\n",
       "[5 rows x 24 columns]"
      ]
     },
     "execution_count": 27,
     "metadata": {},
     "output_type": "execute_result"
    }
   ],
   "source": [
    "# before we move ahead it's a good practice to group all variables together having same type.\n",
    "df = pd.concat((df[cats], df[nums]), axis=1)\n",
    "df.head()"
   ]
  },
  {
   "cell_type": "code",
   "execution_count": 28,
   "metadata": {
    "scrolled": false
   },
   "outputs": [
    {
     "name": "stdout",
     "output_type": "stream",
     "text": [
      "categorical variables:  ['PARENT1', 'MSTATUS', 'SEX', 'EDUCATION', 'JOB', 'CAR_USE', 'CAR_TYPE', 'RED_CAR', 'REVOKED', 'URBANICITY', 'TARGET_FLAG']\n"
     ]
    }
   ],
   "source": [
    "# Display all the categorical variables\n",
    "print(f'categorical variables:  {cats}')"
   ]
  },
  {
   "cell_type": "markdown",
   "metadata": {},
   "source": [
    "We will first slice out the categorical columns from original dataframe and then do analysis on it keeping the original data untou-ched, and at the end incorporate needed changes in our original dataframe."
   ]
  },
  {
   "cell_type": "code",
   "execution_count": 29,
   "metadata": {
    "scrolled": true
   },
   "outputs": [
    {
     "data": {
      "text/html": [
       "<div>\n",
       "<style scoped>\n",
       "    .dataframe tbody tr th:only-of-type {\n",
       "        vertical-align: middle;\n",
       "    }\n",
       "\n",
       "    .dataframe tbody tr th {\n",
       "        vertical-align: top;\n",
       "    }\n",
       "\n",
       "    .dataframe thead th {\n",
       "        text-align: right;\n",
       "    }\n",
       "</style>\n",
       "<table border=\"1\" class=\"dataframe\">\n",
       "  <thead>\n",
       "    <tr style=\"text-align: right;\">\n",
       "      <th></th>\n",
       "      <th>PARENT1</th>\n",
       "      <th>MSTATUS</th>\n",
       "      <th>SEX</th>\n",
       "      <th>EDUCATION</th>\n",
       "      <th>JOB</th>\n",
       "      <th>CAR_USE</th>\n",
       "      <th>CAR_TYPE</th>\n",
       "      <th>RED_CAR</th>\n",
       "      <th>REVOKED</th>\n",
       "      <th>URBANICITY</th>\n",
       "      <th>TARGET_FLAG</th>\n",
       "    </tr>\n",
       "  </thead>\n",
       "  <tbody>\n",
       "    <tr>\n",
       "      <th>0</th>\n",
       "      <td>No</td>\n",
       "      <td>z_No</td>\n",
       "      <td>M</td>\n",
       "      <td>PhD</td>\n",
       "      <td>Professional</td>\n",
       "      <td>Private</td>\n",
       "      <td>Minivan</td>\n",
       "      <td>yes</td>\n",
       "      <td>No</td>\n",
       "      <td>Highly Urban/ Urban</td>\n",
       "      <td>0</td>\n",
       "    </tr>\n",
       "    <tr>\n",
       "      <th>1</th>\n",
       "      <td>No</td>\n",
       "      <td>z_No</td>\n",
       "      <td>M</td>\n",
       "      <td>z_High School</td>\n",
       "      <td>z_Blue Collar</td>\n",
       "      <td>Commercial</td>\n",
       "      <td>Minivan</td>\n",
       "      <td>yes</td>\n",
       "      <td>No</td>\n",
       "      <td>Highly Urban/ Urban</td>\n",
       "      <td>0</td>\n",
       "    </tr>\n",
       "    <tr>\n",
       "      <th>2</th>\n",
       "      <td>No</td>\n",
       "      <td>Yes</td>\n",
       "      <td>z_F</td>\n",
       "      <td>z_High School</td>\n",
       "      <td>Clerical</td>\n",
       "      <td>Private</td>\n",
       "      <td>z_SUV</td>\n",
       "      <td>no</td>\n",
       "      <td>No</td>\n",
       "      <td>Highly Urban/ Urban</td>\n",
       "      <td>0</td>\n",
       "    </tr>\n",
       "    <tr>\n",
       "      <th>3</th>\n",
       "      <td>Yes</td>\n",
       "      <td>z_No</td>\n",
       "      <td>z_F</td>\n",
       "      <td>Bachelors</td>\n",
       "      <td>z_Blue Collar</td>\n",
       "      <td>Commercial</td>\n",
       "      <td>Sports Car</td>\n",
       "      <td>no</td>\n",
       "      <td>No</td>\n",
       "      <td>Highly Urban/ Urban</td>\n",
       "      <td>1</td>\n",
       "    </tr>\n",
       "    <tr>\n",
       "      <th>4</th>\n",
       "      <td>No</td>\n",
       "      <td>z_No</td>\n",
       "      <td>z_F</td>\n",
       "      <td>Bachelors</td>\n",
       "      <td>Clerical</td>\n",
       "      <td>Private</td>\n",
       "      <td>z_SUV</td>\n",
       "      <td>no</td>\n",
       "      <td>No</td>\n",
       "      <td>Highly Urban/ Urban</td>\n",
       "      <td>1</td>\n",
       "    </tr>\n",
       "  </tbody>\n",
       "</table>\n",
       "</div>"
      ],
      "text/plain": [
       "  PARENT1 MSTATUS  SEX      EDUCATION            JOB     CAR_USE    CAR_TYPE  \\\n",
       "0      No    z_No    M            PhD   Professional     Private     Minivan   \n",
       "1      No    z_No    M  z_High School  z_Blue Collar  Commercial     Minivan   \n",
       "2      No     Yes  z_F  z_High School       Clerical     Private       z_SUV   \n",
       "3     Yes    z_No  z_F      Bachelors  z_Blue Collar  Commercial  Sports Car   \n",
       "4      No    z_No  z_F      Bachelors       Clerical     Private       z_SUV   \n",
       "\n",
       "  RED_CAR REVOKED           URBANICITY  TARGET_FLAG  \n",
       "0     yes      No  Highly Urban/ Urban            0  \n",
       "1     yes      No  Highly Urban/ Urban            0  \n",
       "2      no      No  Highly Urban/ Urban            0  \n",
       "3      no      No  Highly Urban/ Urban            1  \n",
       "4      no      No  Highly Urban/ Urban            1  "
      ]
     },
     "execution_count": 29,
     "metadata": {},
     "output_type": "execute_result"
    }
   ],
   "source": [
    "df_cat = df.loc[:, 'PARENT1':'TARGET_FLAG']\n",
    "df_cat.head()"
   ]
  },
  {
   "cell_type": "markdown",
   "metadata": {},
   "source": [
    "We will remove all extra spaces from each string, otherwise the same string with different spacings will be treated as different categories which should not be the case."
   ]
  },
  {
   "cell_type": "code",
   "execution_count": 30,
   "metadata": {},
   "outputs": [],
   "source": [
    "# remove extra spaces if any\n",
    "for col in ['PARENT1', 'MSTATUS', 'SEX', 'EDUCATION', 'JOB', 'CAR_USE', 'CAR_TYPE', 'RED_CAR', 'REVOKED', 'URBANICITY']:\n",
    "    df_cat[col] = df_cat[col].apply(lambda x: ' '.join(x.split()))"
   ]
  },
  {
   "cell_type": "code",
   "execution_count": 31,
   "metadata": {
    "scrolled": false
   },
   "outputs": [
    {
     "name": "stdout",
     "output_type": "stream",
     "text": [
      "categories in PARENT1: ['No' 'Yes']\n",
      "categories in MSTATUS: ['z_No' 'Yes']\n",
      "categories in SEX: ['M' 'z_F']\n",
      "categories in EDUCATION: ['PhD' 'z_High School' 'Bachelors' 'Masters' '<High School']\n",
      "categories in JOB: ['Professional' 'z_Blue Collar' 'Clerical' 'Lawyer' 'Manager' 'Home Maker'\n",
      " 'Doctor' 'Student']\n",
      "categories in CAR_USE: ['Private' 'Commercial']\n",
      "categories in CAR_TYPE: ['Minivan' 'z_SUV' 'Sports Car' 'Van' 'Pickup' 'Panel Truck']\n",
      "categories in RED_CAR: ['yes' 'no']\n",
      "categories in REVOKED: ['No' 'Yes']\n",
      "categories in URBANICITY: ['Highly Urban/ Urban' 'z_Highly Rural/ Rural']\n",
      "categories in TARGET_FLAG: [0 1]\n"
     ]
    }
   ],
   "source": [
    "for i in cats:\n",
    "    print(f\"categories in {i}: {pd.unique(df_cat[i])}\")"
   ]
  },
  {
   "cell_type": "code",
   "execution_count": 32,
   "metadata": {},
   "outputs": [],
   "source": [
    "num_rows, num_cols = df.shape # Noting number of rows and columns of final data"
   ]
  },
  {
   "cell_type": "markdown",
   "metadata": {},
   "source": [
    "We have our cleaned dataframe, let us write this to a new excel file"
   ]
  },
  {
   "cell_type": "code",
   "execution_count": 33,
   "metadata": {},
   "outputs": [],
   "source": [
    "# save this cleaned df to csv\n",
    "df.to_csv('train_cleaned.csv', index=False)"
   ]
  },
  {
   "cell_type": "markdown",
   "metadata": {},
   "source": [
    "In the next section we shall perform an exploratory data analysis on this cleaned dataset. (EDA.ipynb)"
   ]
  }
 ],
 "metadata": {
  "kernelspec": {
   "display_name": "autoInsurance",
   "language": "python",
   "name": "autoinsurance"
  },
  "language_info": {
   "codemirror_mode": {
    "name": "ipython",
    "version": 3
   },
   "file_extension": ".py",
   "mimetype": "text/x-python",
   "name": "python",
   "nbconvert_exporter": "python",
   "pygments_lexer": "ipython3",
   "version": "3.7.1"
  }
 },
 "nbformat": 4,
 "nbformat_minor": 2
}
